{
 "cells": [
  {
   "cell_type": "code",
   "execution_count": 276,
   "metadata": {},
   "outputs": [],
   "source": [
    "#pip install regex\n",
    "# pip install praw"
   ]
  },
  {
   "cell_type": "code",
   "execution_count": 277,
   "metadata": {},
   "outputs": [
    {
     "name": "stdout",
     "output_type": "stream",
     "text": [
      "\u001b[H\u001b[2J"
     ]
    }
   ],
   "source": [
    "clear()"
   ]
  },
  {
   "cell_type": "code",
   "execution_count": 278,
   "metadata": {},
   "outputs": [],
   "source": [
    "# Let's import our libraries\n",
    "import pandas as pd\n",
    "import numpy as np\n",
    "import seaborn as sns\n",
    "import matplotlib.pyplot as plt\n",
    "import praw\n",
    "import regex as re \n",
    "\n",
    "from nltk.corpus import stopwords\n",
    "from nltk.stem import WordNetLemmatizer\n",
    "from nltk.tokenize import RegexpTokenizer\n",
    "from sklearn.feature_extraction.text import CountVectorizer, TfidfVectorizer\n",
    "from sklearn.pipeline import Pipeline\n",
    "from sklearn.model_selection import train_test_split, GridSearchCV\n",
    "from sklearn.naive_bayes import MultinomialNB\n",
    "from sklearn.linear_model import LogisticRegression\n",
    "from sklearn.metrics import confusion_matrix, classification_report\n",
    "\n",
    "from warnings import simplefilter\n",
    "# Optionally turn off warnings once the models are producing good results\n",
    "#   non convergence may mean the result is not perfect, but it might be good enough\n",
    "# Credit to Jamie Shaffer\n",
    "simplefilter(\"ignore\", category=0)"
   ]
  },
  {
   "cell_type": "code",
   "execution_count": 279,
   "metadata": {},
   "outputs": [],
   "source": [
    "# This class is used to pull data from Reddit and then create a DataFrame, it also loads the lastest csv into a dataframe\n",
    "\n",
    "class reddit_getter:\n",
    "    def __init__(self, sub):\n",
    "        # This initalizes and loads all our past datasets\n",
    "        self.subreddit = sub\n",
    "        self.submits = 1000\n",
    "        self.time_filter = 'day'\n",
    "        self.reddit = praw.Reddit(client_id = 'oZRFffq6V4xYMg',\n",
    "                    client_secret = 'O_p5-j5D3fYEa58nqMOwHnGZw0E',\n",
    "                    username = 'the_illuminati_666',\n",
    "                    user_agent = 'nothing_nefarious')\n",
    "        self.dframe = pd.read_csv('../data_files/combined_reddit_data.csv')\n",
    "    \n",
    "    # This function can be called to pull data from Reddit, provided a submission_getter object has been created\n",
    "    def get(self):\n",
    "        comment_dict = {}\n",
    "        subreddit = self.reddit.subreddit(self.subreddit)\n",
    "        reddit_data = subreddit.top(time_filter = self.time_filter, limit = self.submits)\n",
    "        print(f'Subreddit We Are Mining: {self.subreddit}, Time Filter: {self.time_filter}')\n",
    "        for submission in reddit_data:\n",
    "            # sometimes the submission.stickied method throws an error, we'll use a try and except in case\n",
    "            try:\n",
    "                if not submission.stickied:\n",
    "                    comment_dict.update({submission.id : [submission.title, submission.author, subreddit.title, submission.num_comments, str(self.time_filter)]})          \n",
    "            except:\n",
    "                pass\n",
    "        df = pd.DataFrame.from_dict(data = comment_dict, orient = 'index', columns = ['Submission Title', 'Submission Author', 'Subreddit', 'Number of Comments', 'Time Filter'])\n",
    "        print('Returning DataFrame')\n",
    "        return df\n",
    "    "
   ]
  },
  {
   "cell_type": "code",
   "execution_count": 280,
   "metadata": {},
   "outputs": [
    {
     "data": {
      "text/html": [
       "<div>\n",
       "<style scoped>\n",
       "    .dataframe tbody tr th:only-of-type {\n",
       "        vertical-align: middle;\n",
       "    }\n",
       "\n",
       "    .dataframe tbody tr th {\n",
       "        vertical-align: top;\n",
       "    }\n",
       "\n",
       "    .dataframe thead th {\n",
       "        text-align: right;\n",
       "    }\n",
       "</style>\n",
       "<table border=\"1\" class=\"dataframe\">\n",
       "  <thead>\n",
       "    <tr style=\"text-align: right;\">\n",
       "      <th></th>\n",
       "      <th>Submission Title</th>\n",
       "      <th>Submission Author</th>\n",
       "      <th>Subreddit</th>\n",
       "      <th>Number of Comments</th>\n",
       "      <th>Time Filter</th>\n",
       "    </tr>\n",
       "  </thead>\n",
       "  <tbody>\n",
       "    <tr>\n",
       "      <th>0</th>\n",
       "      <td>Megathread: House Votes to Impeach President D...</td>\n",
       "      <td>PoliticsModeratorBot</td>\n",
       "      <td>Politics</td>\n",
       "      <td>52218</td>\n",
       "      <td>all</td>\n",
       "    </tr>\n",
       "    <tr>\n",
       "      <th>1</th>\n",
       "      <td>Virginia governor makes Election Day a holiday...</td>\n",
       "      <td>nclobo</td>\n",
       "      <td>Politics</td>\n",
       "      <td>4158</td>\n",
       "      <td>all</td>\n",
       "    </tr>\n",
       "    <tr>\n",
       "      <th>2</th>\n",
       "      <td>Video emerges showing Trump talking about cutt...</td>\n",
       "      <td>Nihilist911</td>\n",
       "      <td>Politics</td>\n",
       "      <td>4785</td>\n",
       "      <td>all</td>\n",
       "    </tr>\n",
       "    <tr>\n",
       "      <th>3</th>\n",
       "      <td>The Trump administration paid a bankrupt compa...</td>\n",
       "      <td>DaFunkJunkie</td>\n",
       "      <td>Politics</td>\n",
       "      <td>4809</td>\n",
       "      <td>all</td>\n",
       "    </tr>\n",
       "    <tr>\n",
       "      <th>4</th>\n",
       "      <td>Removed US coronavirus vaccine director files ...</td>\n",
       "      <td>grepnork</td>\n",
       "      <td>Politics</td>\n",
       "      <td>5089</td>\n",
       "      <td>all</td>\n",
       "    </tr>\n",
       "  </tbody>\n",
       "</table>\n",
       "</div>"
      ],
      "text/plain": [
       "                                    Submission Title     Submission Author  \\\n",
       "0  Megathread: House Votes to Impeach President D...  PoliticsModeratorBot   \n",
       "1  Virginia governor makes Election Day a holiday...                nclobo   \n",
       "2  Video emerges showing Trump talking about cutt...           Nihilist911   \n",
       "3  The Trump administration paid a bankrupt compa...          DaFunkJunkie   \n",
       "4  Removed US coronavirus vaccine director files ...              grepnork   \n",
       "\n",
       "  Subreddit  Number of Comments Time Filter  \n",
       "0  Politics               52218         all  \n",
       "1  Politics                4158         all  \n",
       "2  Politics                4785         all  \n",
       "3  Politics                4809         all  \n",
       "4  Politics                5089         all  "
      ]
     },
     "execution_count": 280,
     "metadata": {},
     "output_type": "execute_result"
    }
   ],
   "source": [
    "df_object = reddit_getter('Politics')\n",
    "df = df_object.dframe\n",
    "df.head()"
   ]
  },
  {
   "cell_type": "code",
   "execution_count": 281,
   "metadata": {},
   "outputs": [],
   "source": [
    "# This class cleans and lemmatizes our sentences\n",
    "class clean_sentences:\n",
    "    def __init__(self, df):\n",
    "        s = []\n",
    "        i = 0\n",
    "        df['Subreddit'] = df['Subreddit'].map({'Politics' : 1, 'Democrats: Stronger Together' : 0})\n",
    "        for item in df['Submission Title']:\n",
    "            \n",
    "            \n",
    "#             tokenizer = RegexpTokenizer(\"[a-zA-Z]\")\n",
    "            sentence = re.sub(\"[^a-zA-Z]\", \" \", item)\n",
    "            words = sentence.lower().split()\n",
    "\n",
    "            stops = set(stopwords.words('english'))\n",
    "            extra_words = ['megathread', 'pre', 'com', 'mic', 'say', 'side', 'res', 'use']\n",
    "            more_words = [word for word in words if ((word not in stops) and (word not in extra_words))]\n",
    "            \n",
    "            cleaned_sentence = \" \".join(more_words)\n",
    "\n",
    "            s.append(cleaned_sentence)\n",
    "\n",
    "        df['cleaned_submissions'] = s\n",
    "\n",
    "        lems = WordNetLemmatizer()\n",
    "        lemmed = []\n",
    "        for item in df['cleaned_submissions']:\n",
    "            s_temp = \"\"\n",
    "            s1 = item.split()\n",
    "            lem_r = []\n",
    "            # Turning of lemmatization\n",
    "            for s in s1:\n",
    "                lem = lems.lemmatize(s)\n",
    "                if len(s) > 2:\n",
    "                    lem_r.append(s)\n",
    "#                 if len(lem) > 2:\n",
    "#                     lem_r.append(lem)\n",
    "            \n",
    "            s_temp = \" \".join(lem_r)\n",
    "            \n",
    "            lemmed.append(s_temp)\n",
    "            \n",
    "        df['lemmed'] = lemmed\n",
    "        self.dframe = df\n",
    "\n",
    " "
   ]
  },
  {
   "cell_type": "code",
   "execution_count": 282,
   "metadata": {},
   "outputs": [],
   "source": [
    "df_o = clean_sentences(df)"
   ]
  },
  {
   "cell_type": "code",
   "execution_count": 283,
   "metadata": {},
   "outputs": [],
   "source": [
    "df = df_o.dframe"
   ]
  },
  {
   "cell_type": "code",
   "execution_count": 284,
   "metadata": {},
   "outputs": [
    {
     "data": {
      "text/html": [
       "<div>\n",
       "<style scoped>\n",
       "    .dataframe tbody tr th:only-of-type {\n",
       "        vertical-align: middle;\n",
       "    }\n",
       "\n",
       "    .dataframe tbody tr th {\n",
       "        vertical-align: top;\n",
       "    }\n",
       "\n",
       "    .dataframe thead th {\n",
       "        text-align: right;\n",
       "    }\n",
       "</style>\n",
       "<table border=\"1\" class=\"dataframe\">\n",
       "  <thead>\n",
       "    <tr style=\"text-align: right;\">\n",
       "      <th></th>\n",
       "      <th>Submission Title</th>\n",
       "      <th>Submission Author</th>\n",
       "      <th>Subreddit</th>\n",
       "      <th>Number of Comments</th>\n",
       "      <th>Time Filter</th>\n",
       "      <th>cleaned_submissions</th>\n",
       "      <th>lemmed</th>\n",
       "    </tr>\n",
       "  </thead>\n",
       "  <tbody>\n",
       "    <tr>\n",
       "      <th>0</th>\n",
       "      <td>Megathread: House Votes to Impeach President D...</td>\n",
       "      <td>PoliticsModeratorBot</td>\n",
       "      <td>1</td>\n",
       "      <td>52218</td>\n",
       "      <td>all</td>\n",
       "      <td>house votes impeach president donald j trump</td>\n",
       "      <td>house votes impeach president donald trump</td>\n",
       "    </tr>\n",
       "    <tr>\n",
       "      <th>1</th>\n",
       "      <td>Virginia governor makes Election Day a holiday...</td>\n",
       "      <td>nclobo</td>\n",
       "      <td>1</td>\n",
       "      <td>4158</td>\n",
       "      <td>all</td>\n",
       "      <td>virginia governor makes election day holiday e...</td>\n",
       "      <td>virginia governor makes election day holiday e...</td>\n",
       "    </tr>\n",
       "    <tr>\n",
       "      <th>2</th>\n",
       "      <td>Video emerges showing Trump talking about cutt...</td>\n",
       "      <td>Nihilist911</td>\n",
       "      <td>1</td>\n",
       "      <td>4785</td>\n",
       "      <td>all</td>\n",
       "      <td>video emerges showing trump talking cutting pa...</td>\n",
       "      <td>video emerges showing trump talking cutting pa...</td>\n",
       "    </tr>\n",
       "    <tr>\n",
       "      <th>3</th>\n",
       "      <td>The Trump administration paid a bankrupt compa...</td>\n",
       "      <td>DaFunkJunkie</td>\n",
       "      <td>1</td>\n",
       "      <td>4809</td>\n",
       "      <td>all</td>\n",
       "      <td>trump administration paid bankrupt company zer...</td>\n",
       "      <td>trump administration paid bankrupt company zer...</td>\n",
       "    </tr>\n",
       "    <tr>\n",
       "      <th>4</th>\n",
       "      <td>Removed US coronavirus vaccine director files ...</td>\n",
       "      <td>grepnork</td>\n",
       "      <td>1</td>\n",
       "      <td>5089</td>\n",
       "      <td>all</td>\n",
       "      <td>removed us coronavirus vaccine director files ...</td>\n",
       "      <td>removed coronavirus vaccine director files stu...</td>\n",
       "    </tr>\n",
       "  </tbody>\n",
       "</table>\n",
       "</div>"
      ],
      "text/plain": [
       "                                    Submission Title     Submission Author  \\\n",
       "0  Megathread: House Votes to Impeach President D...  PoliticsModeratorBot   \n",
       "1  Virginia governor makes Election Day a holiday...                nclobo   \n",
       "2  Video emerges showing Trump talking about cutt...           Nihilist911   \n",
       "3  The Trump administration paid a bankrupt compa...          DaFunkJunkie   \n",
       "4  Removed US coronavirus vaccine director files ...              grepnork   \n",
       "\n",
       "   Subreddit  Number of Comments Time Filter  \\\n",
       "0          1               52218         all   \n",
       "1          1                4158         all   \n",
       "2          1                4785         all   \n",
       "3          1                4809         all   \n",
       "4          1                5089         all   \n",
       "\n",
       "                                 cleaned_submissions  \\\n",
       "0       house votes impeach president donald j trump   \n",
       "1  virginia governor makes election day holiday e...   \n",
       "2  video emerges showing trump talking cutting pa...   \n",
       "3  trump administration paid bankrupt company zer...   \n",
       "4  removed us coronavirus vaccine director files ...   \n",
       "\n",
       "                                              lemmed  \n",
       "0         house votes impeach president donald trump  \n",
       "1  virginia governor makes election day holiday e...  \n",
       "2  video emerges showing trump talking cutting pa...  \n",
       "3  trump administration paid bankrupt company zer...  \n",
       "4  removed coronavirus vaccine director files stu...  "
      ]
     },
     "execution_count": 284,
     "metadata": {},
     "output_type": "execute_result"
    }
   ],
   "source": [
    "df.head()"
   ]
  },
  {
   "cell_type": "code",
   "execution_count": 285,
   "metadata": {},
   "outputs": [],
   "source": [
    "# Here were going to do some counting\n",
    "bad_words = ['idiot', 'fool', 'dick', 'cock', 'bullshit', 'jackass', 'damn', 'fuck', 'shit', 'ass', 'bitch', 'asshole', 'faggot', 'cunt', 'motherfuck', 'motherfucker', 'stupid']\n",
    "p_bad_counts = 0\n",
    "d_bad_counts = 0\n",
    "i = 0\n",
    "p_dict = {}\n",
    "p_list = []\n",
    "politics_list = [string for string in df[df['Subreddit'] == 1]['lemmed']]\n",
    "politics_string = ''\n",
    "for item in politics_list:\n",
    "    politics_string = politics_string + item\n",
    "stuff1 = politics_string.split()\n",
    "words_p = len(stuff1)\n",
    "\n",
    "for s in stuff1:\n",
    "    if s in bad_words:\n",
    "        p_bad_counts += 1\n",
    "    if s not in p_list:\n",
    "        p_list.append(s)\n",
    "        p_total = politics_string.count(s)\n",
    "\n",
    "        p_dict.update({s : p_total})        \n",
    "        \n",
    "d_dict = {}\n",
    "d_list = []\n",
    "democrats_list = [string for string in df[df['Subreddit'] == 0]['lemmed']]\n",
    "democrats_string = ''\n",
    "for item in democrats_list:\n",
    "    democrats_string = democrats_string + item\n",
    "\n",
    "stuff2 = democrats_string.split(\" \")\n",
    "words_d = len(stuff2)\n",
    "\n",
    "for s in stuff2:\n",
    "    if s in bad_words:\n",
    "        d_bad_counts += 1\n",
    "    if s not in d_list:\n",
    "        d_list.append(s)\n",
    "        d_total = democrats_string.count(s)\n",
    "\n",
    "        d_dict.update({s : d_total})            "
   ]
  },
  {
   "cell_type": "code",
   "execution_count": 286,
   "metadata": {},
   "outputs": [
    {
     "name": "stdout",
     "output_type": "stream",
     "text": [
      "The percentage of swear words in r/Politics is: 0.029%\n",
      "The percentage of swear words in r/Democrats is: 0.102%\n",
      "Submitters to r/Democrats swear about 3.5 times as much as submitters to r/Politics.\n"
     ]
    }
   ],
   "source": [
    "print(f'The percentage of swear words in r/Politics is: {np.round(100*(p_bad_counts / words_p), 3)}%')\n",
    "print(f'The percentage of swear words in r/Democrats is: {np.round(100*(d_bad_counts / words_d),3)}%')\n",
    "print(f'Submitters to r/Democrats swear about {np.round((d_bad_counts / words_d) / (p_bad_counts / words_p), 1)} times as much as submitters to r/Politics.')"
   ]
  },
  {
   "cell_type": "code",
   "execution_count": 287,
   "metadata": {},
   "outputs": [],
   "source": [
    "# Build some dataframes\n",
    "p_counts = pd.DataFrame.from_dict(data = p_dict, orient = 'index')\n",
    "\n",
    "p_counts['word'] = p_counts.index\n",
    "\n",
    "p_counts['count'] = p_counts[0]\n",
    "\n",
    "p_counts.sort_values(by = 'count', ascending = False, inplace = True)\n",
    "        \n",
    "d_counts = pd.DataFrame.from_dict(data = d_dict, orient = 'index')\n",
    "\n",
    "d_counts['word'] = d_counts.index\n",
    "\n",
    "d_counts['count'] = d_counts[0]\n",
    "\n",
    "d_counts.sort_values(by = 'count', ascending = False, inplace = True)"
   ]
  },
  {
   "cell_type": "code",
   "execution_count": 288,
   "metadata": {},
   "outputs": [],
   "source": [
    "# Set our plotting perameters\n",
    "font = {'family' : 'arial',\n",
    "        'weight' : 'bold',\n",
    "        'size'   : 15}\n",
    "\n",
    "plt.rc('font', **font)\n",
    "plt.rc('xtick', labelsize=18) \n",
    "plt.rc('ytick', labelsize=18) "
   ]
  },
  {
   "cell_type": "code",
   "execution_count": 289,
   "metadata": {},
   "outputs": [
    {
     "data": {
      "image/png": "[encoded data removed]",
      "text/plain": [
       "<Figure size 1080x432 with 1 Axes>"
      ]
     },
     "metadata": {
      "needs_background": "light"
     },
     "output_type": "display_data"
    }
   ],
   "source": [
    "fig = plt.figure(figsize=(15,6))\n",
    "sns.barplot(x=p_counts['word'].head(10), y=p_counts['count'].head(10))\n",
    "plt.title('Most Common Words used in the r/Politics Subreddit', fontdict = font)\n",
    "plt.show()"
   ]
  },
  {
   "cell_type": "code",
   "execution_count": 290,
   "metadata": {},
   "outputs": [
    {
     "data": {
      "image/png": "[encoded data removed]",
      "text/plain": [
       "<Figure size 1080x432 with 1 Axes>"
      ]
     },
     "metadata": {
      "needs_background": "light"
     },
     "output_type": "display_data"
    }
   ],
   "source": [
    "fig = plt.figure(figsize=(15,6))\n",
    "sns.barplot(x=d_counts['word'].head(10), y=d_counts['count'].head(10))\n",
    "plt.title('Most Common Words used in the r/Democrats Subreddit', fontdict = font)\n",
    "plt.show()"
   ]
  },
  {
   "cell_type": "code",
   "execution_count": null,
   "metadata": {},
   "outputs": [],
   "source": []
  }
 ],
 "metadata": {
  "kernelspec": {
   "display_name": "Python 3",
   "language": "python",
   "name": "python3"
  },
  "language_info": {
   "codemirror_mode": {
    "name": "ipython",
    "version": 3
   },
   "file_extension": ".py",
   "mimetype": "text/x-python",
   "name": "python",
   "nbconvert_exporter": "python",
   "pygments_lexer": "ipython3",
   "version": "3.7.7"
  }
 },
 "nbformat": 4,
 "nbformat_minor": 4
}

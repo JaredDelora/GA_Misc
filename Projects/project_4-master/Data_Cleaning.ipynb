{
 "cells": [
  {
   "cell_type": "code",
   "execution_count": 1,
   "metadata": {},
   "outputs": [],
   "source": [
    "import pandas as pd\n",
    "import numpy as np\n",
    "import seaborn as sns\n",
    "from sklearn.preprocessing import StandardScaler\n",
    "from sklearn.pipeline import Pipeline\n",
    "from sklearn.model_selection import train_test_split, GridSearchCV\n",
    "from sklearn.naive_bayes import MultinomialNB\n",
    "from sklearn.linear_model import LogisticRegression\n",
    "from sklearn.svm import LinearSVC\n",
    "from sklearn.metrics import confusion_matrix, classification_report, r2_score, mean_squared_error, explained_variance_score\n",
    "from sklearn.ensemble import RandomForestClassifier\n",
    "from warnings import simplefilter\n",
    "# Optionally turn off warnings once the models are producing good results\n",
    "#   non convergence may mean the result is not perfect, but it might be good enough\n",
    "# Credit to Jamie Shaffer\n",
    "simplefilter(\"ignore\", category=0)"
   ]
  },
  {
   "cell_type": "code",
   "execution_count": 2,
   "metadata": {},
   "outputs": [],
   "source": [
    "train = pd.read_csv('./data/large_train_sample.csv')\n",
    "test = pd.read_csv('./data/test_data.csv')"
   ]
  },
  {
   "cell_type": "code",
   "execution_count": 3,
   "metadata": {},
   "outputs": [
    {
     "name": "stdout",
     "output_type": "stream",
     "text": [
      "<class 'pandas.core.frame.DataFrame'>\n",
      "RangeIndex: 32561 entries, 0 to 32560\n",
      "Data columns (total 14 columns):\n",
      " #   Column          Non-Null Count  Dtype \n",
      "---  ------          --------------  ----- \n",
      " 0   age             32561 non-null  int64 \n",
      " 1   workclass       32561 non-null  object\n",
      " 2   fnlwgt          32561 non-null  int64 \n",
      " 3   education       32561 non-null  object\n",
      " 4   education-num   32561 non-null  int64 \n",
      " 5   marital-status  32561 non-null  object\n",
      " 6   occupation      32561 non-null  object\n",
      " 7   relationship    32561 non-null  object\n",
      " 8   sex             32561 non-null  object\n",
      " 9   capital-gain    32561 non-null  int64 \n",
      " 10  capital-loss    32561 non-null  int64 \n",
      " 11  hours-per-week  32561 non-null  int64 \n",
      " 12  native-country  32561 non-null  object\n",
      " 13  wage            32561 non-null  object\n",
      "dtypes: int64(6), object(8)\n",
      "memory usage: 3.5+ MB\n"
     ]
    }
   ],
   "source": [
    "train.info()"
   ]
  },
  {
   "cell_type": "code",
   "execution_count": 4,
   "metadata": {},
   "outputs": [
    {
     "data": {
      "text/plain": [
       " Married-civ-spouse       14976\n",
       " Never-married            10683\n",
       " Divorced                  4443\n",
       " Separated                 1025\n",
       " Widowed                    993\n",
       " Married-spouse-absent      418\n",
       " Married-AF-spouse           23\n",
       "Name: marital-status, dtype: int64"
      ]
     },
     "execution_count": 4,
     "metadata": {},
     "output_type": "execute_result"
    }
   ],
   "source": [
    "train['marital-status'].value_counts()"
   ]
  },
  {
   "cell_type": "code",
   "execution_count": 5,
   "metadata": {},
   "outputs": [],
   "source": [
    "def proc(df):\n",
    "    for column in df.columns:\n",
    "        if df[column].dtype == 'O':    # strip spaces from beginning and end of columns with 'object' dtype\n",
    "            df[column] = df[column].str.strip()\n",
    "    df = pd.get_dummies(df, columns=['workclass'])\n",
    "    df['workclass-govt'] = df[['workclass_Federal-gov', 'workclass_Local-gov', 'workclass_State-gov']].sum(1)    # group government work and binarize\n",
    "    df.drop(columns=['workclass_Federal-gov', 'workclass_Local-gov', 'workclass_State-gov'], inplace=True)\n",
    "#     df['govt'] = np.where((df.workclass == 'State-gov') | (df.workclass == 'Federal-gov') | (df.workclass == 'Local-gov'), 1, 0)    # group government work and binarize\n",
    "#     df['prvt'] = np.where((df.workclass == 'Self-emp-not-inc') | (df.workclass == 'Private') | (df.workclass == 'Self-emp-inc'), 1, 0)    # group private work and binarize\n",
    "#     df['other'] = np.where((df.workclass == 'Without-pay') | (df.workclass == 'Never-worked') | (df.workclass == '?'), 1, 0)    # group other work and binarize\n",
    "    df['married'] = np.where((df['marital-status'] == 'Married-AF-spouse') | (df['marital-status'] == 'Married-civ-spouse'), 1, 0)    # group other work and binarize\n",
    "    df['single'] = np.where((df['marital-status'] == 'Never-married') | (df['marital-status'] == 'Widowed') | (df['marital-status'] == 'Divorced'), 1, 0)    # group other work and binarize\n",
    "    df['separated'] = np.where((df['marital-status'] == 'Married-spouse-absent') | (df['marital-status'] == 'Separated'), 1, 0)    # group other work and binarize\n",
    "    df['US'] = np.where(df['native-country'] == 'United-States', 1, 0)    # group other work and binarize\n",
    "    df['male'] = np.where(df['sex'] == 'Male', 1, 0)\n",
    "    df['fnlwgt^2'] = df.fnlwgt ** 2\n",
    "    df['hours-per-week^2'] = df['hours-per-week'] **2\n",
    "    \n",
    "    return df\n"
   ]
  },
  {
   "cell_type": "code",
   "execution_count": 6,
   "metadata": {},
   "outputs": [],
   "source": [
    "train = proc(train)\n",
    "test = proc(test)"
   ]
  },
  {
   "cell_type": "code",
   "execution_count": 7,
   "metadata": {},
   "outputs": [],
   "source": [
    "# binarize wage column\n",
    "train['wage'] = np.where(train['wage'] == '>50K', 0, 1)"
   ]
  },
  {
   "cell_type": "code",
   "execution_count": 8,
   "metadata": {},
   "outputs": [
    {
     "name": "stdout",
     "output_type": "stream",
     "text": [
      "<class 'pandas.core.frame.DataFrame'>\n",
      "RangeIndex: 32561 entries, 0 to 32560\n",
      "Data columns (total 27 columns):\n",
      " #   Column                      Non-Null Count  Dtype \n",
      "---  ------                      --------------  ----- \n",
      " 0   age                         32561 non-null  int64 \n",
      " 1   fnlwgt                      32561 non-null  int64 \n",
      " 2   education                   32561 non-null  object\n",
      " 3   education-num               32561 non-null  int64 \n",
      " 4   marital-status              32561 non-null  object\n",
      " 5   occupation                  32561 non-null  object\n",
      " 6   relationship                32561 non-null  object\n",
      " 7   sex                         32561 non-null  object\n",
      " 8   capital-gain                32561 non-null  int64 \n",
      " 9   capital-loss                32561 non-null  int64 \n",
      " 10  hours-per-week              32561 non-null  int64 \n",
      " 11  native-country              32561 non-null  object\n",
      " 12  wage                        32561 non-null  int64 \n",
      " 13  workclass_?                 32561 non-null  uint8 \n",
      " 14  workclass_Never-worked      32561 non-null  uint8 \n",
      " 15  workclass_Private           32561 non-null  uint8 \n",
      " 16  workclass_Self-emp-inc      32561 non-null  uint8 \n",
      " 17  workclass_Self-emp-not-inc  32561 non-null  uint8 \n",
      " 18  workclass_Without-pay       32561 non-null  uint8 \n",
      " 19  workclass-govt              32561 non-null  int64 \n",
      " 20  married                     32561 non-null  int64 \n",
      " 21  single                      32561 non-null  int64 \n",
      " 22  separated                   32561 non-null  int64 \n",
      " 23  US                          32561 non-null  int64 \n",
      " 24  male                        32561 non-null  int64 \n",
      " 25  fnlwgt^2                    32561 non-null  int64 \n",
      " 26  hours-per-week^2            32561 non-null  int64 \n",
      "dtypes: int64(15), object(6), uint8(6)\n",
      "memory usage: 5.4+ MB\n"
     ]
    }
   ],
   "source": [
    "train.info()"
   ]
  },
  {
   "cell_type": "code",
   "execution_count": 9,
   "metadata": {},
   "outputs": [],
   "source": [
    "features = ['age', 'fnlwgt', 'education-num', 'capital-gain', 'capital-loss', 'hours-per-week', 'workclass_?', 'workclass_Never-worked', 'workclass_Private', 'workclass_Self-emp-inc',\n",
    "            'workclass_Self-emp-not-inc', 'workclass_Without-pay', 'workclass-govt', 'married', 'single', 'separated', 'US', 'male', 'fnlwgt^2', 'hours-per-week^2']"
   ]
  },
  {
   "cell_type": "code",
   "execution_count": 10,
   "metadata": {},
   "outputs": [],
   "source": [
    "# X = train.drop(columns=['wage'])\n",
    "X = train[features]\n",
    "y = train['wage']"
   ]
  },
  {
   "cell_type": "code",
   "execution_count": 11,
   "metadata": {},
   "outputs": [
    {
     "data": {
      "text/plain": [
       "1    0.75919\n",
       "0    0.24081\n",
       "Name: wage, dtype: float64"
      ]
     },
     "execution_count": 11,
     "metadata": {},
     "output_type": "execute_result"
    }
   ],
   "source": [
    "y.value_counts(normalize=True)"
   ]
  },
  {
   "cell_type": "code",
   "execution_count": 14,
   "metadata": {},
   "outputs": [],
   "source": [
    "X_train, X_test, y_train, y_test = train_test_split(X, y, random_state=42, stratify=y)"
   ]
  },
  {
   "cell_type": "code",
   "execution_count": 15,
   "metadata": {},
   "outputs": [],
   "source": [
    "sc = StandardScaler()"
   ]
  },
  {
   "cell_type": "code",
   "execution_count": 16,
   "metadata": {},
   "outputs": [],
   "source": [
    "Z_train = sc.fit_transform(X)"
   ]
  },
  {
   "cell_type": "code",
   "execution_count": 17,
   "metadata": {},
   "outputs": [
    {
     "name": "stdout",
     "output_type": "stream",
     "text": [
      "0.8605389061227384\n"
     ]
    },
    {
     "data": {
      "text/plain": [
       "{'max_depth': 10, 'max_features': None, 'n_estimators': 110}"
      ]
     },
     "execution_count": 17,
     "metadata": {},
     "output_type": "execute_result"
    }
   ],
   "source": [
    "rf = RandomForestClassifier(n_jobs=-1)\n",
    "params = {\n",
    "    'n_estimators':[110,115,120],\n",
    "    'max_features':[None, 'auto'],\n",
    "    'max_depth':[5,10,15]\n",
    "}\n",
    "\n",
    "gs = GridSearchCV(rf, param_grid=params, cv=5)\n",
    "gs.fit(Z_train,y)\n",
    "\n",
    "print(gs.best_score_)\n",
    "gs.best_params_"
   ]
  },
  {
   "cell_type": "code",
   "execution_count": 18,
   "metadata": {},
   "outputs": [],
   "source": [
    "pred = gs.predict(test[features])"
   ]
  },
  {
   "cell_type": "code",
   "execution_count": 19,
   "metadata": {},
   "outputs": [],
   "source": [
    "pred = pd.DataFrame(pred, columns=['wage'])"
   ]
  },
  {
   "cell_type": "code",
   "execution_count": 20,
   "metadata": {},
   "outputs": [
    {
     "data": {
      "text/html": [
       "<div>\n",
       "<style scoped>\n",
       "    .dataframe tbody tr th:only-of-type {\n",
       "        vertical-align: middle;\n",
       "    }\n",
       "\n",
       "    .dataframe tbody tr th {\n",
       "        vertical-align: top;\n",
       "    }\n",
       "\n",
       "    .dataframe thead th {\n",
       "        text-align: right;\n",
       "    }\n",
       "</style>\n",
       "<table border=\"1\" class=\"dataframe\">\n",
       "  <thead>\n",
       "    <tr style=\"text-align: right;\">\n",
       "      <th></th>\n",
       "      <th>wage</th>\n",
       "    </tr>\n",
       "  </thead>\n",
       "  <tbody>\n",
       "    <tr>\n",
       "      <th>0</th>\n",
       "      <td>1</td>\n",
       "    </tr>\n",
       "    <tr>\n",
       "      <th>1</th>\n",
       "      <td>0</td>\n",
       "    </tr>\n",
       "    <tr>\n",
       "      <th>2</th>\n",
       "      <td>0</td>\n",
       "    </tr>\n",
       "    <tr>\n",
       "      <th>3</th>\n",
       "      <td>0</td>\n",
       "    </tr>\n",
       "    <tr>\n",
       "      <th>4</th>\n",
       "      <td>1</td>\n",
       "    </tr>\n",
       "    <tr>\n",
       "      <th>...</th>\n",
       "      <td>...</td>\n",
       "    </tr>\n",
       "    <tr>\n",
       "      <th>16276</th>\n",
       "      <td>1</td>\n",
       "    </tr>\n",
       "    <tr>\n",
       "      <th>16277</th>\n",
       "      <td>1</td>\n",
       "    </tr>\n",
       "    <tr>\n",
       "      <th>16278</th>\n",
       "      <td>0</td>\n",
       "    </tr>\n",
       "    <tr>\n",
       "      <th>16279</th>\n",
       "      <td>0</td>\n",
       "    </tr>\n",
       "    <tr>\n",
       "      <th>16280</th>\n",
       "      <td>0</td>\n",
       "    </tr>\n",
       "  </tbody>\n",
       "</table>\n",
       "<p>16281 rows × 1 columns</p>\n",
       "</div>"
      ],
      "text/plain": [
       "       wage\n",
       "0         1\n",
       "1         0\n",
       "2         0\n",
       "3         0\n",
       "4         1\n",
       "...     ...\n",
       "16276     1\n",
       "16277     1\n",
       "16278     0\n",
       "16279     0\n",
       "16280     0\n",
       "\n",
       "[16281 rows x 1 columns]"
      ]
     },
     "execution_count": 20,
     "metadata": {},
     "output_type": "execute_result"
    }
   ],
   "source": [
    "pred"
   ]
  },
  {
   "cell_type": "code",
   "execution_count": 21,
   "metadata": {},
   "outputs": [],
   "source": [
    "pred.to_csv('./data/submission.csv', index=False)"
   ]
  }
 ],
 "metadata": {
  "kernelspec": {
   "display_name": "Python [conda env:dsi] *",
   "language": "python",
   "name": "conda-env-dsi-py"
  },
  "language_info": {
   "codemirror_mode": {
    "name": "ipython",
    "version": 3
   },
   "file_extension": ".py",
   "mimetype": "text/x-python",
   "name": "python",
   "nbconvert_exporter": "python",
   "pygments_lexer": "ipython3",
   "version": "3.7.6"
  }
 },
 "nbformat": 4,
 "nbformat_minor": 4
}

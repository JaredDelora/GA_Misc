{
 "cells": [
  {
   "cell_type": "code",
   "execution_count": 217,
   "metadata": {},
   "outputs": [],
   "source": [
    "# !pip install python-twitter\n",
    "# !pip install GetOldTweets3"
   ]
  },
  {
   "cell_type": "code",
   "execution_count": 220,
   "metadata": {},
   "outputs": [],
   "source": [
    "import pandas as pd\n",
    "import numpy as np\n",
    "from IPython.display import display, Markdown, Latex\n",
    "import GetOldTweets3 as got\n",
    "import datetime\n",
    "import seaborn as sns"
   ]
  },
  {
   "cell_type": "markdown",
   "metadata": {},
   "source": [
    "- Thomas - Dec 2017 - Jan 2018\n",
    "- Mendocino - July 27, 2018 - Sep 18, 2018\n",
    "- Carr - Not interesting\n",
    "- Camp - Not interesting\n",
    "- Soberanes - \n",
    "- Lilac - 4K acres.\n",
    "- https://www.fire.ca.gov/media/10059/2017_redbook_final.pdf\n",
    "- https://www.fire.ca.gov/media/10060/2016_redbook_final.pdf\n",
    "- https://www.fire.ca.gov/media/10061/2015_redbook_final.pdf\n",
    "- https://www.fire.ca.gov/stats-events/"
   ]
  },
  {
   "cell_type": "markdown",
   "metadata": {},
   "source": [
    "### Thomas Wildfire Retrieval"
   ]
  },
  {
   "cell_type": "code",
   "execution_count": 308,
   "metadata": {},
   "outputs": [],
   "source": [
    "tweetCriteria = got.manager.TweetCriteria().setQuerySearch('thomasfire')\\\n",
    "                                           .setSince(\"2017-12-01\")\\\n",
    "                                           .setUntil(\"2017-12-07\")\\\n",
    "                                           .setMaxTweets(10_000)\\\n",
    "                                           .setEmoji(\"unicode\")\n",
    "\n",
    "    \n",
    "    \n",
    "# username = 'fryedpig'\n",
    "# since_date = '2017-12-01'\n",
    "# until_date = '2017-12-07'\n",
    "# max_tweets = 10_000\n",
    "\n",
    "# # Create first query object\n",
    "# tweetCriteria = got.manager.TweetCriteria().setUsername(username).setSince(since_date).setUntil(until_date).setMaxTweets(max_tweets)"
   ]
  },
  {
   "cell_type": "code",
   "execution_count": 309,
   "metadata": {},
   "outputs": [],
   "source": [
    "tweet = got.manager.TweetManager.getTweets(tweetCriteria)"
   ]
  },
  {
   "cell_type": "code",
   "execution_count": 310,
   "metadata": {},
   "outputs": [
    {
     "data": {
      "text/plain": [
       "10000"
      ]
     },
     "execution_count": 310,
     "metadata": {},
     "output_type": "execute_result"
    }
   ],
   "source": [
    "len(tweet)\n"
   ]
  },
  {
   "cell_type": "code",
   "execution_count": 311,
   "metadata": {},
   "outputs": [],
   "source": [
    "def df_builder(tweet):\n",
    "    df = pd.DataFrame()\n",
    "    temp = {}\n",
    "    for i in range(len(tweet)):\n",
    "        temp.update({i : [tweet[i].id, tweet[i].username, tweet[i].text, tweet[i].hashtags, tweet[i].date]})\n",
    "\n",
    "    df = pd.DataFrame.from_dict(temp, orient = 'index', columns = ['id', 'username', 'text', 'hashtags', 'date'])\n",
    "    return df\n",
    "    \n",
    "    \n"
   ]
  },
  {
   "cell_type": "code",
   "execution_count": 312,
   "metadata": {},
   "outputs": [],
   "source": [
    "df = df_builder(tweet)"
   ]
  },
  {
   "cell_type": "code",
   "execution_count": 313,
   "metadata": {},
   "outputs": [],
   "source": [
    "#df = pd.read_csv('./data/Thomas_Fire_June_5_2020.csv')"
   ]
  },
  {
   "cell_type": "code",
   "execution_count": 314,
   "metadata": {},
   "outputs": [],
   "source": [
    "df_distinct = df.drop_duplicates(subset=['date'])"
   ]
  },
  {
   "cell_type": "code",
   "execution_count": 315,
   "metadata": {},
   "outputs": [],
   "source": [
    "df2 = df_distinct.sort_values(by = 'date', ascending = True)"
   ]
  },
  {
   "cell_type": "code",
   "execution_count": 316,
   "metadata": {},
   "outputs": [
    {
     "name": "stdout",
     "output_type": "stream",
     "text": [
      "(10000, 5)\n",
      "(9235, 5)\n"
     ]
    },
    {
     "data": {
      "text/html": [
       "<div>\n",
       "<style scoped>\n",
       "    .dataframe tbody tr th:only-of-type {\n",
       "        vertical-align: middle;\n",
       "    }\n",
       "\n",
       "    .dataframe tbody tr th {\n",
       "        vertical-align: top;\n",
       "    }\n",
       "\n",
       "    .dataframe thead th {\n",
       "        text-align: right;\n",
       "    }\n",
       "</style>\n",
       "<table border=\"1\" class=\"dataframe\">\n",
       "  <thead>\n",
       "    <tr style=\"text-align: right;\">\n",
       "      <th></th>\n",
       "      <th>id</th>\n",
       "      <th>username</th>\n",
       "      <th>text</th>\n",
       "      <th>hashtags</th>\n",
       "      <th>date</th>\n",
       "    </tr>\n",
       "  </thead>\n",
       "  <tbody>\n",
       "    <tr>\n",
       "      <th>9999</th>\n",
       "      <td>938105120985722881</td>\n",
       "      <td>brooscampbell</td>\n",
       "      <td>Botanical Gardens/City Hall hiking trail. Man....</td>\n",
       "      <td>#ThomasFire</td>\n",
       "      <td>2017-12-05 17:57:44+00:00</td>\n",
       "    </tr>\n",
       "    <tr>\n",
       "      <th>9998</th>\n",
       "      <td>938105152128593920</td>\n",
       "      <td>MissNikkiAnn</td>\n",
       "      <td>The latest A Fight For Democracy! https://pape...</td>\n",
       "      <td>#tuesdaythoughts #thomasfire</td>\n",
       "      <td>2017-12-05 17:57:52+00:00</td>\n",
       "    </tr>\n",
       "    <tr>\n",
       "      <th>9997</th>\n",
       "      <td>938105198194524161</td>\n",
       "      <td>quirklawyers</td>\n",
       "      <td>Me and my 90 year old neighbor cutting line ri...</td>\n",
       "      <td>#ThomasFire</td>\n",
       "      <td>2017-12-05 17:58:03+00:00</td>\n",
       "    </tr>\n",
       "    <tr>\n",
       "      <th>9996</th>\n",
       "      <td>938105214082699270</td>\n",
       "      <td>jriversk</td>\n",
       "      <td>Nouvel #incendie majeur en #Californie #Ventur...</td>\n",
       "      <td>#incendie #Californie #Ventura #ThomasFire #Sa...</td>\n",
       "      <td>2017-12-05 17:58:06+00:00</td>\n",
       "    </tr>\n",
       "    <tr>\n",
       "      <th>9995</th>\n",
       "      <td>938105308575961088</td>\n",
       "      <td>MyaNikitaEtc</td>\n",
       "      <td>from VCF scanner Canana Larga, small fire in t...</td>\n",
       "      <td>#ThomasFire</td>\n",
       "      <td>2017-12-05 17:58:29+00:00</td>\n",
       "    </tr>\n",
       "  </tbody>\n",
       "</table>\n",
       "</div>"
      ],
      "text/plain": [
       "                      id       username  \\\n",
       "9999  938105120985722881  brooscampbell   \n",
       "9998  938105152128593920   MissNikkiAnn   \n",
       "9997  938105198194524161   quirklawyers   \n",
       "9996  938105214082699270       jriversk   \n",
       "9995  938105308575961088   MyaNikitaEtc   \n",
       "\n",
       "                                                   text  \\\n",
       "9999  Botanical Gardens/City Hall hiking trail. Man....   \n",
       "9998  The latest A Fight For Democracy! https://pape...   \n",
       "9997  Me and my 90 year old neighbor cutting line ri...   \n",
       "9996  Nouvel #incendie majeur en #Californie #Ventur...   \n",
       "9995  from VCF scanner Canana Larga, small fire in t...   \n",
       "\n",
       "                                               hashtags  \\\n",
       "9999                                        #ThomasFire   \n",
       "9998                       #tuesdaythoughts #thomasfire   \n",
       "9997                                        #ThomasFire   \n",
       "9996  #incendie #Californie #Ventura #ThomasFire #Sa...   \n",
       "9995                                        #ThomasFire   \n",
       "\n",
       "                          date  \n",
       "9999 2017-12-05 17:57:44+00:00  \n",
       "9998 2017-12-05 17:57:52+00:00  \n",
       "9997 2017-12-05 17:58:03+00:00  \n",
       "9996 2017-12-05 17:58:06+00:00  \n",
       "9995 2017-12-05 17:58:29+00:00  "
      ]
     },
     "execution_count": 316,
     "metadata": {},
     "output_type": "execute_result"
    }
   ],
   "source": [
    "print(df.shape)\n",
    "print(df2.shape)\n",
    "df2.head()"
   ]
  },
  {
   "cell_type": "code",
   "execution_count": 317,
   "metadata": {},
   "outputs": [
    {
     "data": {
      "text/plain": [
       "[('#ThomasFire: Any residents in the Ojai Valley that are not under a mandatory evacuation are under a voluntary evacuation order.',\n",
       "  Timestamp('2017-12-06 23:59:12+0000', tz='UTC')),\n",
       " ('Suddenly Hurricane Sandy doesn’t seem so bad. Hope LA residents make it out okay #ThomasFire ',\n",
       "  Timestamp('2017-12-06 23:59:15+0000', tz='UTC')),\n",
       " ('So sad #ThomasFire consume decenas de viviendas 🏡 se estiman más de 150 estructuras destruidas 🔥 stay safe! Más en @Univision34LA',\n",
       "  Timestamp('2017-12-06 23:59:24+0000', tz='UTC')),\n",
       " ('Good point. 33 and 101 are both currently open according to http://readyventuracounty.org. Be careful if taking 33 south; it heads in the direction of the fire front and may close at any time. #ThomasFire ',\n",
       "  Timestamp('2017-12-06 23:59:32+0000', tz='UTC')),\n",
       " ('😢🐾🙏🏽 RT @I_AMShaya: Can we all please share this? #wildfire #Skirballfire #Thomasfire #LA #Animals #helpneeded https://twitter.com/I_AMShaya/status/938551073517768706/photo/1',\n",
       "  Timestamp('2017-12-06 23:59:53+0000', tz='UTC'))]"
      ]
     },
     "execution_count": 317,
     "metadata": {},
     "output_type": "execute_result"
    }
   ],
   "source": [
    "list(zip(df2['text'].tail(),df2['date'].tail()))"
   ]
  },
  {
   "cell_type": "code",
   "execution_count": 318,
   "metadata": {},
   "outputs": [
    {
     "data": {
      "text/plain": [
       "[('Botanical Gardens/City Hall hiking trail. Man. #ThomasFire ',\n",
       "  Timestamp('2017-12-05 17:57:44+0000', tz='UTC')),\n",
       " ('The latest A Fight For Democracy! https://paper.li/MissNikkiAnn/a-fight-for-democracy?edition_id=ce9c08c0-d9e5-11e7-93ba-0cc47a0d15fd #tuesdaythoughts #thomasfire',\n",
       "  Timestamp('2017-12-05 17:57:52+0000', tz='UTC')),\n",
       " ('Me and my 90 year old neighbor cutting line right now at the ranch. #ThomasFire ',\n",
       "  Timestamp('2017-12-05 17:58:03+0000', tz='UTC')),\n",
       " (\"Nouvel #incendie majeur en #Californie #Ventura #ThomasFire #SantaBarbara #LosAngeles. Déjà au moins un mort et des dizaines d'habitations détruites sur une zone très étendue.\",\n",
       "  Timestamp('2017-12-05 17:58:06+0000', tz='UTC')),\n",
       " ('from VCF scanner Canana Larga, small fire in the median, going up slope, and fire spotted WEST of 33 HWY. #ThomasFire',\n",
       "  Timestamp('2017-12-05 17:58:29+0000', tz='UTC'))]"
      ]
     },
     "execution_count": 318,
     "metadata": {},
     "output_type": "execute_result"
    }
   ],
   "source": [
    "list(zip(df2['text'].head(),df2['date'].head()))"
   ]
  },
  {
   "cell_type": "code",
   "execution_count": 319,
   "metadata": {},
   "outputs": [],
   "source": [
    "# Search the title for the presence of a string of our choice\n",
    "def searcher(string1, string2):\n",
    "    flags = []\n",
    "    for item1, item2 in zip(df2['text'],df2['date']):\n",
    "        \n",
    "        if ((string1 in item1) or (string2 in item1)):\n",
    "            flags.append(True)\n",
    "        else:\n",
    "            flags.append(False)\n",
    "    df2['a_ff'] = flags\n",
    "            \n",
    "searcher('arson', 'flaseflag')"
   ]
  },
  {
   "cell_type": "code",
   "execution_count": 320,
   "metadata": {},
   "outputs": [
    {
     "data": {
      "text/html": [
       "<div>\n",
       "<style scoped>\n",
       "    .dataframe tbody tr th:only-of-type {\n",
       "        vertical-align: middle;\n",
       "    }\n",
       "\n",
       "    .dataframe tbody tr th {\n",
       "        vertical-align: top;\n",
       "    }\n",
       "\n",
       "    .dataframe thead th {\n",
       "        text-align: right;\n",
       "    }\n",
       "</style>\n",
       "<table border=\"1\" class=\"dataframe\">\n",
       "  <thead>\n",
       "    <tr style=\"text-align: right;\">\n",
       "      <th></th>\n",
       "      <th>id</th>\n",
       "      <th>username</th>\n",
       "      <th>text</th>\n",
       "      <th>hashtags</th>\n",
       "      <th>date</th>\n",
       "      <th>a_ff</th>\n",
       "    </tr>\n",
       "  </thead>\n",
       "  <tbody>\n",
       "    <tr>\n",
       "      <th>8551</th>\n",
       "      <td>938136094440226816</td>\n",
       "      <td>carlo_spiga</td>\n",
       "      <td>CA #ARSONIST SENTENCED TO 80 YEARS http://www....</td>\n",
       "      <td>#ARSONIST #ThomasFire #fire #CaliforniaWildfir...</td>\n",
       "      <td>2017-12-05 20:00:49+00:00</td>\n",
       "      <td>True</td>\n",
       "    </tr>\n",
       "    <tr>\n",
       "      <th>8456</th>\n",
       "      <td>938138468869443584</td>\n",
       "      <td>DidYouMissThis1</td>\n",
       "      <td>Pretty sure the California Fires are a False F...</td>\n",
       "      <td>#ThomasFire</td>\n",
       "      <td>2017-12-05 20:10:15+00:00</td>\n",
       "      <td>True</td>\n",
       "    </tr>\n",
       "    <tr>\n",
       "      <th>5949</th>\n",
       "      <td>938210554585350144</td>\n",
       "      <td>MImi_TheSound</td>\n",
       "      <td>Just so angry, these three fires have to be th...</td>\n",
       "      <td>#RyeFire #CreekFire #ThomasFire</td>\n",
       "      <td>2017-12-06 00:56:41+00:00</td>\n",
       "      <td>True</td>\n",
       "    </tr>\n",
       "    <tr>\n",
       "      <th>5678</th>\n",
       "      <td>938219610670743552</td>\n",
       "      <td>21engine</td>\n",
       "      <td>@CarsonFireDept is responding to the #ThomasFi...</td>\n",
       "      <td>#ThomasFire</td>\n",
       "      <td>2017-12-06 01:32:41+00:00</td>\n",
       "      <td>True</td>\n",
       "    </tr>\n",
       "    <tr>\n",
       "      <th>3210</th>\n",
       "      <td>938420449356038145</td>\n",
       "      <td>IRachelLara</td>\n",
       "      <td>Has arson been ruled out yet? Seems like a lot...</td>\n",
       "      <td>#losangeles #fire #creekfire #thomasfire #ryef...</td>\n",
       "      <td>2017-12-06 14:50:44+00:00</td>\n",
       "      <td>True</td>\n",
       "    </tr>\n",
       "  </tbody>\n",
       "</table>\n",
       "</div>"
      ],
      "text/plain": [
       "                      id         username  \\\n",
       "8551  938136094440226816      carlo_spiga   \n",
       "8456  938138468869443584  DidYouMissThis1   \n",
       "5949  938210554585350144    MImi_TheSound   \n",
       "5678  938219610670743552         21engine   \n",
       "3210  938420449356038145      IRachelLara   \n",
       "\n",
       "                                                   text  \\\n",
       "8551  CA #ARSONIST SENTENCED TO 80 YEARS http://www....   \n",
       "8456  Pretty sure the California Fires are a False F...   \n",
       "5949  Just so angry, these three fires have to be th...   \n",
       "5678  @CarsonFireDept is responding to the #ThomasFi...   \n",
       "3210  Has arson been ruled out yet? Seems like a lot...   \n",
       "\n",
       "                                               hashtags  \\\n",
       "8551  #ARSONIST #ThomasFire #fire #CaliforniaWildfir...   \n",
       "8456                                        #ThomasFire   \n",
       "5949                    #RyeFire #CreekFire #ThomasFire   \n",
       "5678                                        #ThomasFire   \n",
       "3210  #losangeles #fire #creekfire #thomasfire #ryef...   \n",
       "\n",
       "                          date  a_ff  \n",
       "8551 2017-12-05 20:00:49+00:00  True  \n",
       "8456 2017-12-05 20:10:15+00:00  True  \n",
       "5949 2017-12-06 00:56:41+00:00  True  \n",
       "5678 2017-12-06 01:32:41+00:00  True  \n",
       "3210 2017-12-06 14:50:44+00:00  True  "
      ]
     },
     "execution_count": 320,
     "metadata": {},
     "output_type": "execute_result"
    }
   ],
   "source": [
    "df2[df2['a_ff'] == True]"
   ]
  },
  {
   "cell_type": "code",
   "execution_count": 307,
   "metadata": {},
   "outputs": [
    {
     "data": {
      "text/plain": [
       "5000                #ThomasFire\n",
       "4999    #SchoolFire #ThomasFire\n",
       "4998                #ThomasFire\n",
       "4997                #ThomasFire\n",
       "4996                #ThomasFire\n",
       "                 ...           \n",
       "4                   #ThomasFire\n",
       "3        #ThomasFire #TravelBan\n",
       "2                   #ThomasFire\n",
       "1                   #Thomasfire\n",
       "0          #thomasfire #Ventura\n",
       "Name: hashtags, Length: 4495, dtype: object"
      ]
     },
     "execution_count": 307,
     "metadata": {},
     "output_type": "execute_result"
    }
   ],
   "source": [
    "df2['hashtags']"
   ]
  },
  {
   "cell_type": "code",
   "execution_count": 222,
   "metadata": {},
   "outputs": [],
   "source": [
    "df.to_csv('./data/Thomas_Fire_June_5_2020.csv')"
   ]
  },
  {
   "cell_type": "code",
   "execution_count": 248,
   "metadata": {},
   "outputs": [
    {
     "data": {
      "text/html": [
       "<div>\n",
       "<style scoped>\n",
       "    .dataframe tbody tr th:only-of-type {\n",
       "        vertical-align: middle;\n",
       "    }\n",
       "\n",
       "    .dataframe tbody tr th {\n",
       "        vertical-align: top;\n",
       "    }\n",
       "\n",
       "    .dataframe thead th {\n",
       "        text-align: right;\n",
       "    }\n",
       "</style>\n",
       "<table border=\"1\" class=\"dataframe\">\n",
       "  <thead>\n",
       "    <tr style=\"text-align: right;\">\n",
       "      <th></th>\n",
       "      <th>Unnamed: 0</th>\n",
       "      <th>id</th>\n",
       "      <th>username</th>\n",
       "      <th>text</th>\n",
       "      <th>hashtags</th>\n",
       "      <th>date</th>\n",
       "      <th>arson</th>\n",
       "    </tr>\n",
       "  </thead>\n",
       "  <tbody>\n",
       "    <tr>\n",
       "      <th>3049</th>\n",
       "      <td>3049</td>\n",
       "      <td>937948898768719872</td>\n",
       "      <td>fryedpig</td>\n",
       "      <td>#ThomasFire has to have been done by arsonists...</td>\n",
       "      <td>#ThomasFire</td>\n",
       "      <td>2017-12-05 07:36:58+00:00</td>\n",
       "      <td>True</td>\n",
       "    </tr>\n",
       "    <tr>\n",
       "      <th>2787</th>\n",
       "      <td>2787</td>\n",
       "      <td>937954509657030657</td>\n",
       "      <td>mlondonwmz</td>\n",
       "      <td>as with the #thomasfire, the #GOP arson spree ...</td>\n",
       "      <td>#thomasfire #GOP</td>\n",
       "      <td>2017-12-05 07:59:16+00:00</td>\n",
       "      <td>True</td>\n",
       "    </tr>\n",
       "  </tbody>\n",
       "</table>\n",
       "</div>"
      ],
      "text/plain": [
       "      Unnamed: 0                  id    username  \\\n",
       "3049        3049  937948898768719872    fryedpig   \n",
       "2787        2787  937954509657030657  mlondonwmz   \n",
       "\n",
       "                                                   text          hashtags  \\\n",
       "3049  #ThomasFire has to have been done by arsonists...       #ThomasFire   \n",
       "2787  as with the #thomasfire, the #GOP arson spree ...  #thomasfire #GOP   \n",
       "\n",
       "                           date  arson  \n",
       "3049  2017-12-05 07:36:58+00:00   True  \n",
       "2787  2017-12-05 07:59:16+00:00   True  "
      ]
     },
     "execution_count": 248,
     "metadata": {},
     "output_type": "execute_result"
    }
   ],
   "source": [
    "df2[df2['arson'] == True]"
   ]
  },
  {
   "cell_type": "code",
   "execution_count": 216,
   "metadata": {},
   "outputs": [
    {
     "data": {
      "text/plain": [
       "<matplotlib.axes._subplots.AxesSubplot at 0x7f808eeaa510>"
      ]
     },
     "execution_count": 216,
     "metadata": {},
     "output_type": "execute_result"
    },
    {
     "data": {
      "image/png": "[encoded data removed]",
      "text/plain": [
       "<Figure size 432x288 with 1 Axes>"
      ]
     },
     "metadata": {
      "needs_background": "light"
     },
     "output_type": "display_data"
    }
   ],
   "source": [
    "sns.scatterplot(df2['date'], df2['arson'])\n"
   ]
  },
  {
   "cell_type": "code",
   "execution_count": 12,
   "metadata": {},
   "outputs": [
    {
     "data": {
      "text/markdown": [
       ">Thomas fire becomes largest wildfire on record in California http://www.latimes.com/local/lanow/la-me-thomas-fire-size-20171222-20171222-htmlstory.html #ThomasFire #california #wildfires #latimes @latimes"
      ],
      "text/plain": [
       "<IPython.core.display.Markdown object>"
      ]
     },
     "metadata": {},
     "output_type": "display_data"
    },
    {
     "data": {
      "text/markdown": [
       ">Please follow the Twitter page of this documentary I am helping with about the recent Thomas Fire in the Ojai Valley. #ThomasFire #wildfire #ojai #ojaivalley @OVN #venturacounty #climatechange #weneedrain #California #wildfire2017 #documentary"
      ],
      "text/plain": [
       "<IPython.core.display.Markdown object>"
      ]
     },
     "metadata": {},
     "output_type": "display_data"
    },
    {
     "data": {
      "text/markdown": [
       ">California #Thomas #wildfire to cost re/insurers up to $2.5bn: RMS http://www.artemis.bm/blog/2018/01/22/california-thomas-wildfire-to-cost-reinsurers-up-to-2-5bn-rms/"
      ],
      "text/plain": [
       "<IPython.core.display.Markdown object>"
      ]
     },
     "metadata": {},
     "output_type": "display_data"
    },
    {
     "data": {
      "text/markdown": [
       ">The Thomas Fire, now largest in the state’s recorded history, was announced as completely contained as of last week. #Wildfire #California #ThomasFire"
      ],
      "text/plain": [
       "<IPython.core.display.Markdown object>"
      ]
     },
     "metadata": {},
     "output_type": "display_data"
    },
    {
     "data": {
      "text/markdown": [
       ">Thomas Fire, California's Largest On Record, Is Now 100 Percent Contained https://buff.ly/2D1YUMk #California #WildFire #Weather #HealthAndSafety #ThomasFire"
      ],
      "text/plain": [
       "<IPython.core.display.Markdown object>"
      ]
     },
     "metadata": {},
     "output_type": "display_data"
    },
    {
     "data": {
      "text/markdown": [
       ">Thomas fire, California's largest on record, finally 100% contained. #ThomasFire #LAFires #Wildfires http://www.latimes.com/local/lanow/la-me-thomas-fire-contained-20180112-story.html"
      ],
      "text/plain": [
       "<IPython.core.display.Markdown object>"
      ]
     },
     "metadata": {},
     "output_type": "display_data"
    },
    {
     "data": {
      "text/markdown": [
       ">Thomas fire was the worst wildfire in California's history. Hopefully, the mudslides in the burned areas won't be the worst mudslides in history. . #ThomasFire #mudslides #Ventura #Ojai #Montecito #SantaPaula"
      ],
      "text/plain": [
       "<IPython.core.display.Markdown object>"
      ]
     },
     "metadata": {},
     "output_type": "display_data"
    },
    {
     "data": {
      "text/markdown": [
       ">The #Thomas Fire of 2017 is the largest known wildfire in California’s modern history. It burned more than 281,000 acres and is just one of the fires that has made this the costliest year for wildfires in U.S. history. Find out more here: http://bit.ly/PKEarthSpaceScience"
      ],
      "text/plain": [
       "<IPython.core.display.Markdown object>"
      ]
     },
     "metadata": {},
     "output_type": "display_data"
    },
    {
     "data": {
      "text/markdown": [
       ">Some fires still visible in the northern part of the Thomas Fire #California #USA 28 Dec 2017 #Copernicus #Sentinel-2B Full-size: https://flic.kr/p/22YVuHD More: https://flic.kr/s/aHskymzjE6 #ThomasFire #CaliforniaWildfires #Wildfire "
      ],
      "text/plain": [
       "<IPython.core.display.Markdown object>"
      ]
     },
     "metadata": {},
     "output_type": "display_data"
    },
    {
     "data": {
      "text/markdown": [
       ">Natural color version: New images of the now 91% contained Thomas Fire #California #USA 28 Dec 2017 #Copernicus #Sentinel-2B Full-size: https://flic.kr/p/22YVwFM More: https://flic.kr/s/aHskymzjE6 #ThomasFire #CaliforniaWildfires #Wildfire "
      ],
      "text/plain": [
       "<IPython.core.display.Markdown object>"
      ]
     },
     "metadata": {},
     "output_type": "display_data"
    }
   ],
   "source": [
    "#Decided to print those tweets just for a sanity check. They are mostly useless in my opinion.\n",
    "for t in df_hashtag_thomas['text'][:10]:\n",
    "    display(Markdown(f\">{t}\"))"
   ]
  },
  {
   "cell_type": "code",
   "execution_count": null,
   "metadata": {},
   "outputs": [],
   "source": []
  }
 ],
 "metadata": {
  "kernelspec": {
   "display_name": "Python 3",
   "language": "python",
   "name": "python3"
  },
  "language_info": {
   "codemirror_mode": {
    "name": "ipython",
    "version": 3
   },
   "file_extension": ".py",
   "mimetype": "text/x-python",
   "name": "python",
   "nbconvert_exporter": "python",
   "pygments_lexer": "ipython3",
   "version": "3.7.7"
  }
 },
 "nbformat": 4,
 "nbformat_minor": 4
}

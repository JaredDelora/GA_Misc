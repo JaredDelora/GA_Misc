{
 "cells": [
  {
   "cell_type": "markdown",
   "metadata": {},
   "source": [
    "# Project 1: SAT & ACT Analysis"
   ]
  },
  {
   "cell_type": "markdown",
   "metadata": {},
   "source": [
    "# How do we go about increasing SAT participation in NY State?\n",
    "### by Jared Delora-Ellefson"
   ]
  },
  {
   "cell_type": "markdown",
   "metadata": {},
   "source": [
    "## Executive Summary\n",
    "\n",
    "**Problem Statement**: How can we increase SAT test participation in New York State?\n",
    "\n",
    "**An analysis of 2017, 2018 SAT and ACT data, focused on New York State.**\n",
    "SAT Participation rates in NY State match those of the ACT, despite the heavy focus the school systems puts on SAT preparation. Increasing funding for one-on-one SAT test preparation for everyone would do two things:\n",
    "- Increase SAT scores in NY State\n",
    "- Increase interest in taking the SAT due to the additional resources available\n",
    "\n",
    "## Summary of Conclusions\n",
    "\n",
    "One-on-one tutoring is highly effective at raising SAT scores, but due to socio-economic conditions this one-on-one test prep isn't available to everyone. Funding for one-on-one SAT test preparation for everyone would do two things:\n",
    "- Increase SAT scores in NY State\n",
    "- Increase interest in taking the SAT due to the additional resources available\n",
    "\n",
    "### Contents:\n",
    "- [2017 Data Import & Cleaning](#Data-Import-and-Cleaning)\n",
    "- [2018 Data Import and Cleaning](#2018-Data-Import-and-Cleaning)\n",
    "- [Exploratory Data Analysis](#Exploratory-Data-Analysis)\n",
    "- [Data Visualization](#Visualize-the-data)\n",
    "- [Descriptive and Inferential Statistics](#Descriptive-and-Inferential-Statistics)\n",
    "- [Outside Research](#Outside-Research)\n",
    "- [Conclusions and Recommendations](#Conclusions-and-Recommendations)"
   ]
  },
  {
   "cell_type": "code",
   "execution_count": 6,
   "metadata": {},
   "outputs": [
    {
     "name": "stdout",
     "output_type": "stream",
     "text": [
      "\u001b[H\u001b[2J"
     ]
    }
   ],
   "source": [
    "clear()"
   ]
  },
  {
   "cell_type": "markdown",
   "metadata": {},
   "source": [
    "**We wil import the libraries we need:**"
   ]
  },
  {
   "cell_type": "code",
   "execution_count": 8,
   "metadata": {},
   "outputs": [],
   "source": [
    "import numpy as np\n",
    "import seaborn as sns\n",
    "import matplotlib.pyplot as plt\n",
    "import pandas as pd\n",
    "\n",
    "%matplotlib inline"
   ]
  },
  {
   "cell_type": "markdown",
   "metadata": {},
   "source": [
    "## 2017 Data Import and Cleaning"
   ]
  },
  {
   "cell_type": "markdown",
   "metadata": {},
   "source": [
    "#### 1. Read In SAT & ACT  Data\n",
    "\n",
    "Read in the `sat_2017.csv` and `act_2017.csv` files and assign them to appropriately named pandas dataframes."
   ]
  },
  {
   "cell_type": "code",
   "execution_count": 9,
   "metadata": {},
   "outputs": [],
   "source": [
    "# This code imports ACT and SAT Scores for 2017\n",
    "sat_2017 = pd.read_csv('../data/sat_2017.csv')\n",
    "act_2017 = pd.read_csv('../data/act_2017.csv')"
   ]
  },
  {
   "cell_type": "markdown",
   "metadata": {},
   "source": [
    "#### 2. Display Data\n",
    "\n",
    "Print the first 10 rows of each dataframe to your jupyter notebook"
   ]
  },
  {
   "cell_type": "code",
   "execution_count": 11,
   "metadata": {},
   "outputs": [
    {
     "data": {
      "text/html": [
       "<div>\n",
       "<style scoped>\n",
       "    .dataframe tbody tr th:only-of-type {\n",
       "        vertical-align: middle;\n",
       "    }\n",
       "\n",
       "    .dataframe tbody tr th {\n",
       "        vertical-align: top;\n",
       "    }\n",
       "\n",
       "    .dataframe thead th {\n",
       "        text-align: right;\n",
       "    }\n",
       "</style>\n",
       "<table border=\"1\" class=\"dataframe\">\n",
       "  <thead>\n",
       "    <tr style=\"text-align: right;\">\n",
       "      <th></th>\n",
       "      <th>State</th>\n",
       "      <th>Participation</th>\n",
       "      <th>Evidence-Based Reading and Writing</th>\n",
       "      <th>Math</th>\n",
       "      <th>Total</th>\n",
       "    </tr>\n",
       "  </thead>\n",
       "  <tbody>\n",
       "    <tr>\n",
       "      <th>0</th>\n",
       "      <td>Alabama</td>\n",
       "      <td>5%</td>\n",
       "      <td>593</td>\n",
       "      <td>572</td>\n",
       "      <td>1165</td>\n",
       "    </tr>\n",
       "    <tr>\n",
       "      <th>1</th>\n",
       "      <td>Alaska</td>\n",
       "      <td>38%</td>\n",
       "      <td>547</td>\n",
       "      <td>533</td>\n",
       "      <td>1080</td>\n",
       "    </tr>\n",
       "    <tr>\n",
       "      <th>2</th>\n",
       "      <td>Arizona</td>\n",
       "      <td>30%</td>\n",
       "      <td>563</td>\n",
       "      <td>553</td>\n",
       "      <td>1116</td>\n",
       "    </tr>\n",
       "    <tr>\n",
       "      <th>3</th>\n",
       "      <td>Arkansas</td>\n",
       "      <td>3%</td>\n",
       "      <td>614</td>\n",
       "      <td>594</td>\n",
       "      <td>1208</td>\n",
       "    </tr>\n",
       "    <tr>\n",
       "      <th>4</th>\n",
       "      <td>California</td>\n",
       "      <td>53%</td>\n",
       "      <td>531</td>\n",
       "      <td>524</td>\n",
       "      <td>1055</td>\n",
       "    </tr>\n",
       "    <tr>\n",
       "      <th>5</th>\n",
       "      <td>Colorado</td>\n",
       "      <td>11%</td>\n",
       "      <td>606</td>\n",
       "      <td>595</td>\n",
       "      <td>1201</td>\n",
       "    </tr>\n",
       "    <tr>\n",
       "      <th>6</th>\n",
       "      <td>Connecticut</td>\n",
       "      <td>100%</td>\n",
       "      <td>530</td>\n",
       "      <td>512</td>\n",
       "      <td>1041</td>\n",
       "    </tr>\n",
       "    <tr>\n",
       "      <th>7</th>\n",
       "      <td>Delaware</td>\n",
       "      <td>100%</td>\n",
       "      <td>503</td>\n",
       "      <td>492</td>\n",
       "      <td>996</td>\n",
       "    </tr>\n",
       "    <tr>\n",
       "      <th>8</th>\n",
       "      <td>District of Columbia</td>\n",
       "      <td>100%</td>\n",
       "      <td>482</td>\n",
       "      <td>468</td>\n",
       "      <td>950</td>\n",
       "    </tr>\n",
       "    <tr>\n",
       "      <th>9</th>\n",
       "      <td>Florida</td>\n",
       "      <td>83%</td>\n",
       "      <td>520</td>\n",
       "      <td>497</td>\n",
       "      <td>1017</td>\n",
       "    </tr>\n",
       "  </tbody>\n",
       "</table>\n",
       "</div>"
      ],
      "text/plain": [
       "                  State Participation  Evidence-Based Reading and Writing  \\\n",
       "0               Alabama            5%                                 593   \n",
       "1                Alaska           38%                                 547   \n",
       "2               Arizona           30%                                 563   \n",
       "3              Arkansas            3%                                 614   \n",
       "4            California           53%                                 531   \n",
       "5              Colorado           11%                                 606   \n",
       "6           Connecticut          100%                                 530   \n",
       "7              Delaware          100%                                 503   \n",
       "8  District of Columbia          100%                                 482   \n",
       "9               Florida           83%                                 520   \n",
       "\n",
       "   Math  Total  \n",
       "0   572   1165  \n",
       "1   533   1080  \n",
       "2   553   1116  \n",
       "3   594   1208  \n",
       "4   524   1055  \n",
       "5   595   1201  \n",
       "6   512   1041  \n",
       "7   492    996  \n",
       "8   468    950  \n",
       "9   497   1017  "
      ]
     },
     "execution_count": 11,
     "metadata": {},
     "output_type": "execute_result"
    }
   ],
   "source": [
    "# using .head to display the top ten rows of the DataFrame\n",
    "sat_2017.head(10) # Displays the top ten rows in the SAT Dataframe"
   ]
  },
  {
   "cell_type": "code",
   "execution_count": 205,
   "metadata": {},
   "outputs": [
    {
     "data": {
      "text/html": [
       "<div>\n",
       "<style scoped>\n",
       "    .dataframe tbody tr th:only-of-type {\n",
       "        vertical-align: middle;\n",
       "    }\n",
       "\n",
       "    .dataframe tbody tr th {\n",
       "        vertical-align: top;\n",
       "    }\n",
       "\n",
       "    .dataframe thead th {\n",
       "        text-align: right;\n",
       "    }\n",
       "</style>\n",
       "<table border=\"1\" class=\"dataframe\">\n",
       "  <thead>\n",
       "    <tr style=\"text-align: right;\">\n",
       "      <th></th>\n",
       "      <th>State</th>\n",
       "      <th>Participation</th>\n",
       "      <th>English</th>\n",
       "      <th>Math</th>\n",
       "      <th>Reading</th>\n",
       "      <th>Science</th>\n",
       "      <th>Composite</th>\n",
       "    </tr>\n",
       "  </thead>\n",
       "  <tbody>\n",
       "    <tr>\n",
       "      <th>0</th>\n",
       "      <td>National</td>\n",
       "      <td>60%</td>\n",
       "      <td>20.3</td>\n",
       "      <td>20.7</td>\n",
       "      <td>21.4</td>\n",
       "      <td>21.0</td>\n",
       "      <td>21.0</td>\n",
       "    </tr>\n",
       "    <tr>\n",
       "      <th>1</th>\n",
       "      <td>Alabama</td>\n",
       "      <td>100%</td>\n",
       "      <td>18.9</td>\n",
       "      <td>18.4</td>\n",
       "      <td>19.7</td>\n",
       "      <td>19.4</td>\n",
       "      <td>19.2</td>\n",
       "    </tr>\n",
       "    <tr>\n",
       "      <th>2</th>\n",
       "      <td>Alaska</td>\n",
       "      <td>65%</td>\n",
       "      <td>18.7</td>\n",
       "      <td>19.8</td>\n",
       "      <td>20.4</td>\n",
       "      <td>19.9</td>\n",
       "      <td>19.8</td>\n",
       "    </tr>\n",
       "    <tr>\n",
       "      <th>3</th>\n",
       "      <td>Arizona</td>\n",
       "      <td>62%</td>\n",
       "      <td>18.6</td>\n",
       "      <td>19.8</td>\n",
       "      <td>20.1</td>\n",
       "      <td>19.8</td>\n",
       "      <td>19.7</td>\n",
       "    </tr>\n",
       "    <tr>\n",
       "      <th>4</th>\n",
       "      <td>Arkansas</td>\n",
       "      <td>100%</td>\n",
       "      <td>18.9</td>\n",
       "      <td>19.0</td>\n",
       "      <td>19.7</td>\n",
       "      <td>19.5</td>\n",
       "      <td>19.4</td>\n",
       "    </tr>\n",
       "    <tr>\n",
       "      <th>5</th>\n",
       "      <td>California</td>\n",
       "      <td>31%</td>\n",
       "      <td>22.5</td>\n",
       "      <td>22.7</td>\n",
       "      <td>23.1</td>\n",
       "      <td>22.2</td>\n",
       "      <td>22.8</td>\n",
       "    </tr>\n",
       "    <tr>\n",
       "      <th>6</th>\n",
       "      <td>Colorado</td>\n",
       "      <td>100%</td>\n",
       "      <td>20.1</td>\n",
       "      <td>20.3</td>\n",
       "      <td>21.2</td>\n",
       "      <td>20.9</td>\n",
       "      <td>20.8</td>\n",
       "    </tr>\n",
       "    <tr>\n",
       "      <th>7</th>\n",
       "      <td>Connecticut</td>\n",
       "      <td>31%</td>\n",
       "      <td>25.5</td>\n",
       "      <td>24.6</td>\n",
       "      <td>25.6</td>\n",
       "      <td>24.6</td>\n",
       "      <td>25.2</td>\n",
       "    </tr>\n",
       "    <tr>\n",
       "      <th>8</th>\n",
       "      <td>Delaware</td>\n",
       "      <td>18%</td>\n",
       "      <td>24.1</td>\n",
       "      <td>23.4</td>\n",
       "      <td>24.8</td>\n",
       "      <td>23.6</td>\n",
       "      <td>24.1</td>\n",
       "    </tr>\n",
       "    <tr>\n",
       "      <th>9</th>\n",
       "      <td>District of Columbia</td>\n",
       "      <td>32%</td>\n",
       "      <td>24.4</td>\n",
       "      <td>23.5</td>\n",
       "      <td>24.9</td>\n",
       "      <td>23.5</td>\n",
       "      <td>24.2</td>\n",
       "    </tr>\n",
       "  </tbody>\n",
       "</table>\n",
       "</div>"
      ],
      "text/plain": [
       "                  State Participation  English  Math  Reading  Science  \\\n",
       "0              National           60%     20.3  20.7     21.4     21.0   \n",
       "1               Alabama          100%     18.9  18.4     19.7     19.4   \n",
       "2                Alaska           65%     18.7  19.8     20.4     19.9   \n",
       "3               Arizona           62%     18.6  19.8     20.1     19.8   \n",
       "4              Arkansas          100%     18.9  19.0     19.7     19.5   \n",
       "5            California           31%     22.5  22.7     23.1     22.2   \n",
       "6              Colorado          100%     20.1  20.3     21.2     20.9   \n",
       "7           Connecticut           31%     25.5  24.6     25.6     24.6   \n",
       "8              Delaware           18%     24.1  23.4     24.8     23.6   \n",
       "9  District of Columbia           32%     24.4  23.5     24.9     23.5   \n",
       "\n",
       "  Composite  \n",
       "0      21.0  \n",
       "1      19.2  \n",
       "2      19.8  \n",
       "3      19.7  \n",
       "4      19.4  \n",
       "5      22.8  \n",
       "6      20.8  \n",
       "7      25.2  \n",
       "8      24.1  \n",
       "9      24.2  "
      ]
     },
     "execution_count": 205,
     "metadata": {},
     "output_type": "execute_result"
    }
   ],
   "source": [
    "act_2017.head(10) # Displays the top ten rows in the ACT Dataframe"
   ]
  },
  {
   "cell_type": "markdown",
   "metadata": {},
   "source": [
    "#### 3. Verbally Describe Data\n",
    "\n",
    "Take your time looking through the data and thoroughly describe the data in the markdown cell below. "
   ]
  },
  {
   "cell_type": "markdown",
   "metadata": {},
   "source": [
    "**Answer:**\n",
    "\n",
    "Some things that strike me upon looking at the top ten values of the 2017 SAT & ACT Dataframes:\n",
    "- Many States that have high SAT participation percentages, but low ACT percentages. This could be due to what tests the collegs in the State accept.\n",
    "- I would like to look up the definition of 'Evidence-Based Reading and Writing' in the SAT to see how it may correlate with ACT subject scores.\n",
    "- The ACT has a National Average included in the data. We can calculate this value for the SAT data and compare.\n",
    "- Alabama and Arkansas both have 100% ACT participation rates? That sounds a bit suspect to me, although both States have very low SAT participation rates.\n",
    "- The Participation Column needs to be cleaned"
   ]
  },
  {
   "cell_type": "markdown",
   "metadata": {},
   "source": [
    "#### 4a. Does the data look complete? "
   ]
  },
  {
   "cell_type": "markdown",
   "metadata": {},
   "source": [
    "**Answer:** \n",
    "\n",
    "It looks complete based on the top 10 rows of each Dataframe, but the Dataframes should be searched for any NaN, etc. values. The search performed below shows that there are no null values in the Dataframes."
   ]
  },
  {
   "cell_type": "code",
   "execution_count": 12,
   "metadata": {},
   "outputs": [
    {
     "name": "stdout",
     "output_type": "stream",
     "text": [
      "False\n",
      "False\n"
     ]
    }
   ],
   "source": [
    "print(sat_2017.isnull().values.any())\n",
    "print(act_2017.isnull().values.any())"
   ]
  },
  {
   "cell_type": "markdown",
   "metadata": {},
   "source": [
    "**The following code looks at the data types in our 2017 SAT and ACT Dataframes. In the SAT Dataframe the Participation values are listed as objects. These need to be converted to floats. In the ACT Dataframe both the Participation and Composite series objects need to be converted to floats.**"
   ]
  },
  {
   "cell_type": "code",
   "execution_count": 15,
   "metadata": {},
   "outputs": [
    {
     "name": "stdout",
     "output_type": "stream",
     "text": [
      "State                                 object\n",
      "Participation                         object\n",
      "Evidence-Based Reading and Writing     int64\n",
      "Math                                   int64\n",
      "Total                                  int64\n",
      "dtype: object\n",
      "State             object\n",
      "Participation     object\n",
      "English          float64\n",
      "Math             float64\n",
      "Reading          float64\n",
      "Science          float64\n",
      "Composite         object\n",
      "dtype: object\n"
     ]
    }
   ],
   "source": [
    "print(sat_2017.dtypes)\n",
    "print(act_2017.dtypes)"
   ]
  },
  {
   "cell_type": "markdown",
   "metadata": {},
   "source": [
    "#### 4b. Are there any obvious issues with the observations?\n",
    "\n",
    "**What is the minimum *possible* value for each test/subtest? What is the maximum *possible* value?**\n",
    "\n",
    "Consider comparing any questionable values to the sources of your data:\n",
    "- [SAT](https://blog.collegevine.com/here-are-the-average-sat-scores-by-state/)\n",
    "- [ACT](https://blog.prepscholar.com/act-scores-by-state-averages-highs-and-lows)"
   ]
  },
  {
   "cell_type": "markdown",
   "metadata": {},
   "source": [
    "**Answer:**"
   ]
  },
  {
   "cell_type": "markdown",
   "metadata": {},
   "source": [
    "**- SAT Combined score is between 320 to 1520**\n",
    "\n",
    "**- SAT Reading/Writing and the Math section are each scored on a 200 to 800**\n",
    "\n",
    "**- ACT Combined score is between 400 to 1600**\n",
    "\n",
    "**- ACT English, Mathematics, Reading, and Science falls on a range between 1 (low) and 36 (high)**"
   ]
  },
  {
   "cell_type": "markdown",
   "metadata": {},
   "source": [
    "#### 4c. Fix any errors you identified\n",
    "\n",
    "**The data is available** so there's no need to guess or calculate anything. If you didn't find any errors, continue to the next step."
   ]
  },
  {
   "cell_type": "code",
   "execution_count": 16,
   "metadata": {},
   "outputs": [
    {
     "name": "stdout",
     "output_type": "stream",
     "text": [
      "State                                 object\n",
      "Participation                         object\n",
      "Evidence-Based Reading and Writing     int64\n",
      "Math                                   int64\n",
      "Total                                  int64\n",
      "dtype: object\n",
      "\n",
      "State             object\n",
      "Participation     object\n",
      "English          float64\n",
      "Math             float64\n",
      "Reading          float64\n",
      "Science          float64\n",
      "Composite         object\n",
      "dtype: object\n"
     ]
    }
   ],
   "source": [
    "#code\n",
    "print(sat_2017.dtypes)\n",
    "print()\n",
    "print(act_2017.dtypes)"
   ]
  },
  {
   "cell_type": "markdown",
   "metadata": {},
   "source": [
    "#### 5. What are your data types? \n",
    "The following are the various Data Types in my DataFrames:"
   ]
  },
  {
   "cell_type": "code",
   "execution_count": 209,
   "metadata": {},
   "outputs": [
    {
     "name": "stdout",
     "output_type": "stream",
     "text": [
      "sat_2017 Data Types\n",
      "State: object\n",
      "Participation:object\n",
      "Evidence-Based Reading and Writing: int64\n",
      "Math: int64\n",
      "Total: int64\n"
     ]
    }
   ],
   "source": [
    "#code\n",
    "print('sat_2017 Data Types')\n",
    "print('State: ' + str(sat_2017['State'].dtypes))\n",
    "print('Participation:' + str(sat_2017['Participation'].dtypes))\n",
    "print('Evidence-Based Reading and Writing: ' + str(sat_2017['Evidence-Based Reading and Writing'].dtypes))\n",
    "print('Math: ' + str(sat_2017['Math'].dtypes))\n",
    "print('Total: ' + str(sat_2017['Total'].dtypes))"
   ]
  },
  {
   "cell_type": "code",
   "execution_count": 210,
   "metadata": {},
   "outputs": [
    {
     "name": "stdout",
     "output_type": "stream",
     "text": [
      "act_2017 Data Types\n",
      "State: object\n",
      "Participation:object\n",
      "English: float64\n",
      "Math: float64\n",
      "Reading: float64\n",
      "Science: float64\n",
      "Composite: object\n"
     ]
    }
   ],
   "source": [
    "#code\n",
    "print('act_2017 Data Types')\n",
    "print('State: ' + str(act_2017['State'].dtypes))\n",
    "print('Participation:' + str(act_2017['Participation'].dtypes))\n",
    "print('English: ' + str(act_2017['English'].dtypes))\n",
    "print('Math: ' + str(act_2017['Math'].dtypes))\n",
    "print('Reading: ' + str(act_2017['Reading'].dtypes))\n",
    "print('Science: ' + str(act_2017['Science'].dtypes))\n",
    "print('Composite: ' + str(act_2017['Composite'].dtypes))"
   ]
  },
  {
   "cell_type": "markdown",
   "metadata": {},
   "source": [
    "What did you learn?\n",
    "- Do any of them seem odd?  \n",
    "- Which ones are not as they should be?  "
   ]
  },
  {
   "cell_type": "markdown",
   "metadata": {},
   "source": [
    "Answer: \n",
    "**This does seem odd. I would expect participation to be a float, but instead it is an object. We need to convert this object into floats.**"
   ]
  },
  {
   "cell_type": "markdown",
   "metadata": {},
   "source": [
    "#### 6. Fix Incorrect Data Types\n",
    "Based on what you discovered above, use appropriate methods to re-type incorrectly typed data.\n",
    "- Define a function that will allow you to convert participation rates to an appropriate numeric type. Use `map` or `apply` to change these columns in each dataframe."
   ]
  },
  {
   "cell_type": "code",
   "execution_count": 217,
   "metadata": {},
   "outputs": [],
   "source": [
    "# We will first fix the Participation data such that it is a float\n",
    "def data_changer(x):\n",
    "#    x = x.apply(lambda y : float(str(y).split('%')[0]))\n",
    "    x = x.apply(lambda y : float(str(y).split('x')[0]))\n",
    "#    print(x)\n",
    "    return x\n",
    "# sat_2017['Participation'] = data_changer(sat_2017['Participation'])\n",
    "# sat_2017.dtypes"
   ]
  },
  {
   "cell_type": "markdown",
   "metadata": {},
   "source": [
    "- Fix any individual values preventing other columns from being the appropriate type, then display the column data types for each DataFrame."
   ]
  },
  {
   "cell_type": "code",
   "execution_count": 214,
   "metadata": {},
   "outputs": [
    {
     "data": {
      "text/plain": [
       "State                                  object\n",
       "Participation                         float64\n",
       "Evidence-Based Reading and Writing      int64\n",
       "Math                                    int64\n",
       "Total                                   int64\n",
       "dtype: object"
      ]
     },
     "execution_count": 214,
     "metadata": {},
     "output_type": "execute_result"
    }
   ],
   "source": [
    "# First we will fix the Participation values in the SAT Data\n",
    "# for i in ['Participation']:\n",
    "sat_2017['Participation'] = data_changer(sat_2017['Participation'])\n",
    "\n",
    "sat_2017.dtypes"
   ]
  },
  {
   "cell_type": "code",
   "execution_count": 215,
   "metadata": {},
   "outputs": [
    {
     "data": {
      "text/plain": [
       "State             object\n",
       "Participation    float64\n",
       "English          float64\n",
       "Math             float64\n",
       "Reading          float64\n",
       "Science          float64\n",
       "Composite         object\n",
       "dtype: object"
      ]
     },
     "execution_count": 215,
     "metadata": {},
     "output_type": "execute_result"
    }
   ],
   "source": [
    "# Next we will fix the Participation values in the ACT Data\n",
    "act_2017['Participation'] = data_changer(act_2017['Participation'])\n",
    "act_2017.dtypes"
   ]
  },
  {
   "cell_type": "code",
   "execution_count": 218,
   "metadata": {},
   "outputs": [
    {
     "data": {
      "text/plain": [
       "State             object\n",
       "Participation    float64\n",
       "English          float64\n",
       "Math             float64\n",
       "Reading          float64\n",
       "Science          float64\n",
       "Composite        float64\n",
       "dtype: object"
      ]
     },
     "execution_count": 218,
     "metadata": {},
     "output_type": "execute_result"
    }
   ],
   "source": [
    "# Lastly we will fix the Composite values in the ACT Data\n",
    "act_2017['Composite'] = data_changer(act_2017['Composite'])\n",
    "act_2017.dtypes"
   ]
  },
  {
   "cell_type": "markdown",
   "metadata": {},
   "source": [
    "- Display the data types again to confirm they are correct."
   ]
  },
  {
   "cell_type": "code",
   "execution_count": 219,
   "metadata": {},
   "outputs": [
    {
     "name": "stdout",
     "output_type": "stream",
     "text": [
      "SAT 2017 Data Types\n",
      "State                                  object\n",
      "Participation                         float64\n",
      "Evidence-Based Reading and Writing      int64\n",
      "Math                                    int64\n",
      "Total                                   int64\n",
      "dtype: object\n",
      "\n",
      "ACT 2017 Data Types\n",
      "State             object\n",
      "Participation    float64\n",
      "English          float64\n",
      "Math             float64\n",
      "Reading          float64\n",
      "Science          float64\n",
      "Composite        float64\n",
      "dtype: object\n"
     ]
    }
   ],
   "source": [
    "#Code:\n",
    "print('SAT 2017 Data Types')\n",
    "print(sat_2017.dtypes)\n",
    "print()\n",
    "print('ACT 2017 Data Types')\n",
    "print(act_2017.dtypes)"
   ]
  },
  {
   "cell_type": "markdown",
   "metadata": {},
   "source": [
    "#### 7. Rename Columns\n",
    "Change the names of the columns to more expressive names so that you can tell the difference the SAT columns and the ACT columns. Your solution should map all column names being changed at once (no repeated singular name-changes). **We will be combining these data with some of the data from 2018, and so you should name columns in an appropriate way**.\n",
    "\n",
    "**Guidelines**:\n",
    "- Column names should be all lowercase (you will thank yourself when you start pushing data to SQL later in the course)\n",
    "- Column names should not contain spaces (underscores will suffice--this allows for using the `df.column_name` method to access columns in addition to `df['column_name']`.\n",
    "- Column names should be unique and informative (the only feature that we actually share between dataframes is the state)."
   ]
  },
  {
   "cell_type": "code",
   "execution_count": 17,
   "metadata": {},
   "outputs": [
    {
     "name": "stdout",
     "output_type": "stream",
     "text": [
      "ACT Values\n"
     ]
    },
    {
     "data": {
      "text/html": [
       "<div>\n",
       "<style scoped>\n",
       "    .dataframe tbody tr th:only-of-type {\n",
       "        vertical-align: middle;\n",
       "    }\n",
       "\n",
       "    .dataframe tbody tr th {\n",
       "        vertical-align: top;\n",
       "    }\n",
       "\n",
       "    .dataframe thead th {\n",
       "        text-align: right;\n",
       "    }\n",
       "</style>\n",
       "<table border=\"1\" class=\"dataframe\">\n",
       "  <thead>\n",
       "    <tr style=\"text-align: right;\">\n",
       "      <th></th>\n",
       "      <th>state</th>\n",
       "      <th>act_2017_participation</th>\n",
       "      <th>act_2017_english</th>\n",
       "      <th>act_2017_math</th>\n",
       "      <th>act_2017_reading</th>\n",
       "      <th>act_2017_science</th>\n",
       "      <th>act_2017_composite</th>\n",
       "    </tr>\n",
       "  </thead>\n",
       "  <tbody>\n",
       "    <tr>\n",
       "      <th>0</th>\n",
       "      <td>National</td>\n",
       "      <td>60%</td>\n",
       "      <td>20.3</td>\n",
       "      <td>20.7</td>\n",
       "      <td>21.4</td>\n",
       "      <td>21.0</td>\n",
       "      <td>21.0</td>\n",
       "    </tr>\n",
       "    <tr>\n",
       "      <th>1</th>\n",
       "      <td>Alabama</td>\n",
       "      <td>100%</td>\n",
       "      <td>18.9</td>\n",
       "      <td>18.4</td>\n",
       "      <td>19.7</td>\n",
       "      <td>19.4</td>\n",
       "      <td>19.2</td>\n",
       "    </tr>\n",
       "    <tr>\n",
       "      <th>2</th>\n",
       "      <td>Alaska</td>\n",
       "      <td>65%</td>\n",
       "      <td>18.7</td>\n",
       "      <td>19.8</td>\n",
       "      <td>20.4</td>\n",
       "      <td>19.9</td>\n",
       "      <td>19.8</td>\n",
       "    </tr>\n",
       "    <tr>\n",
       "      <th>3</th>\n",
       "      <td>Arizona</td>\n",
       "      <td>62%</td>\n",
       "      <td>18.6</td>\n",
       "      <td>19.8</td>\n",
       "      <td>20.1</td>\n",
       "      <td>19.8</td>\n",
       "      <td>19.7</td>\n",
       "    </tr>\n",
       "    <tr>\n",
       "      <th>4</th>\n",
       "      <td>Arkansas</td>\n",
       "      <td>100%</td>\n",
       "      <td>18.9</td>\n",
       "      <td>19.0</td>\n",
       "      <td>19.7</td>\n",
       "      <td>19.5</td>\n",
       "      <td>19.4</td>\n",
       "    </tr>\n",
       "  </tbody>\n",
       "</table>\n",
       "</div>"
      ],
      "text/plain": [
       "      state act_2017_participation  act_2017_english  act_2017_math  \\\n",
       "0  National                    60%              20.3           20.7   \n",
       "1   Alabama                   100%              18.9           18.4   \n",
       "2    Alaska                    65%              18.7           19.8   \n",
       "3   Arizona                    62%              18.6           19.8   \n",
       "4  Arkansas                   100%              18.9           19.0   \n",
       "\n",
       "   act_2017_reading  act_2017_science act_2017_composite  \n",
       "0              21.4              21.0               21.0  \n",
       "1              19.7              19.4               19.2  \n",
       "2              20.4              19.9               19.8  \n",
       "3              20.1              19.8               19.7  \n",
       "4              19.7              19.5               19.4  "
      ]
     },
     "execution_count": 17,
     "metadata": {},
     "output_type": "execute_result"
    }
   ],
   "source": [
    "# Creat a new column to redefine the column names for the ACT DataFrame\n",
    "print('ACT Values')\n",
    "# List Replacement Method\n",
    "new_columns_list = [\n",
    "    'state',\n",
    "    'act_2017_participation',\n",
    "    'act_2017_english',\n",
    "    'act_2017_math',\n",
    "    'act_2017_reading',\n",
    "    'act_2017_science',\n",
    "    'act_2017_composite',\n",
    "]\n",
    "# Assigning new Column names\n",
    "act_2017.columns = new_columns_list\n",
    "act_2017.head()"
   ]
  },
  {
   "cell_type": "code",
   "execution_count": 18,
   "metadata": {},
   "outputs": [
    {
     "name": "stdout",
     "output_type": "stream",
     "text": [
      "SAT Values\n"
     ]
    },
    {
     "data": {
      "text/html": [
       "<div>\n",
       "<style scoped>\n",
       "    .dataframe tbody tr th:only-of-type {\n",
       "        vertical-align: middle;\n",
       "    }\n",
       "\n",
       "    .dataframe tbody tr th {\n",
       "        vertical-align: top;\n",
       "    }\n",
       "\n",
       "    .dataframe thead th {\n",
       "        text-align: right;\n",
       "    }\n",
       "</style>\n",
       "<table border=\"1\" class=\"dataframe\">\n",
       "  <thead>\n",
       "    <tr style=\"text-align: right;\">\n",
       "      <th></th>\n",
       "      <th>sat_state</th>\n",
       "      <th>sat_2017_participation</th>\n",
       "      <th>sat_2017_reading_writing</th>\n",
       "      <th>sat_2017_math</th>\n",
       "      <th>sat_2017_total</th>\n",
       "    </tr>\n",
       "  </thead>\n",
       "  <tbody>\n",
       "    <tr>\n",
       "      <th>0</th>\n",
       "      <td>Alabama</td>\n",
       "      <td>5%</td>\n",
       "      <td>593</td>\n",
       "      <td>572</td>\n",
       "      <td>1165</td>\n",
       "    </tr>\n",
       "    <tr>\n",
       "      <th>1</th>\n",
       "      <td>Alaska</td>\n",
       "      <td>38%</td>\n",
       "      <td>547</td>\n",
       "      <td>533</td>\n",
       "      <td>1080</td>\n",
       "    </tr>\n",
       "    <tr>\n",
       "      <th>2</th>\n",
       "      <td>Arizona</td>\n",
       "      <td>30%</td>\n",
       "      <td>563</td>\n",
       "      <td>553</td>\n",
       "      <td>1116</td>\n",
       "    </tr>\n",
       "    <tr>\n",
       "      <th>3</th>\n",
       "      <td>Arkansas</td>\n",
       "      <td>3%</td>\n",
       "      <td>614</td>\n",
       "      <td>594</td>\n",
       "      <td>1208</td>\n",
       "    </tr>\n",
       "    <tr>\n",
       "      <th>4</th>\n",
       "      <td>California</td>\n",
       "      <td>53%</td>\n",
       "      <td>531</td>\n",
       "      <td>524</td>\n",
       "      <td>1055</td>\n",
       "    </tr>\n",
       "  </tbody>\n",
       "</table>\n",
       "</div>"
      ],
      "text/plain": [
       "    sat_state sat_2017_participation  sat_2017_reading_writing  sat_2017_math  \\\n",
       "0     Alabama                     5%                       593            572   \n",
       "1      Alaska                    38%                       547            533   \n",
       "2     Arizona                    30%                       563            553   \n",
       "3    Arkansas                     3%                       614            594   \n",
       "4  California                    53%                       531            524   \n",
       "\n",
       "   sat_2017_total  \n",
       "0            1165  \n",
       "1            1080  \n",
       "2            1116  \n",
       "3            1208  \n",
       "4            1055  "
      ]
     },
     "execution_count": 18,
     "metadata": {},
     "output_type": "execute_result"
    }
   ],
   "source": [
    "# Creat a new column to redefine the column names for the SAT DataFrame\n",
    "print('SAT Values')\n",
    "# List Replacement Method\n",
    "new_columns_list = [\n",
    "    'sat_state',\n",
    "    'sat_2017_participation',\n",
    "    'sat_2017_reading_writing',\n",
    "    'sat_2017_math',\n",
    "    'sat_2017_total',\n",
    "]\n",
    "# Assigning new Column names\n",
    "sat_2017.columns = new_columns_list\n",
    "sat_2017.head()"
   ]
  },
  {
   "cell_type": "markdown",
   "metadata": {},
   "source": [
    "**Dictionay defining terms for the 2017 & 2018 SAT and ACT DataFrames:**"
   ]
  },
  {
   "cell_type": "markdown",
   "metadata": {},
   "source": [
    "|Feature|Type|Dataset|Description|\n",
    "|---|---|---|---|\n",
    "|state|object|ACT/SAT|2018 Data follows 2017 naming structure|\n",
    "|sat_2017_participation|float|SAT|The SAT participation percentage in 2017 (0-100).|\n",
    "|sat_2017_reading_writing|int|SAT|The average SAT writing score in 2017 (200-800).|\n",
    "|sat_2017_math|int|SAT|The average SAT math score  in 2017 (200-800).|\n",
    "|sat_2017_total|int|SAT|The average SAT total score in 2017 (400-1600).|\n",
    "|act_2017_participation|float|ACT|The ACT participation percentage in 2017 (0-100).|\n",
    "|act_2017_english|float|ACT|The average ACT english score in 2017 (1-36).|\n",
    "|act_2017_math|float|ACT|The average ACT math score in 2017 (1-36).|\n",
    "|act_2017_reading|float|ACT|The average ACT reading score in 2017 (1-36).|\n",
    "|act_2017_science|float|ACT|The average ACT science score in 2017 (1-36).|\n",
    "|act_2017_composite|float|ACT|The avererage composite ACT score in 2017 (1-36).|"
   ]
  },
  {
   "cell_type": "markdown",
   "metadata": {},
   "source": [
    "|Feature|Type|Dataset|Description|\n",
    "|---|---|---|---|\n",
    "|column name|int/float/object|ACT/SAT|This is an example| \n"
   ]
  },
  {
   "cell_type": "markdown",
   "metadata": {},
   "source": [
    "#### 9. Drop unnecessary rows\n",
    "\n",
    "One of our dataframes contains an extra row. Identify and remove this from the dataframe."
   ]
  },
  {
   "cell_type": "code",
   "execution_count": 223,
   "metadata": {},
   "outputs": [],
   "source": [
    "# The column needs to be dropped\n",
    "act_2017 = act_2017.drop(act_2017.index[0])"
   ]
  },
  {
   "cell_type": "code",
   "execution_count": 230,
   "metadata": {},
   "outputs": [
    {
     "data": {
      "text/html": [
       "<div>\n",
       "<style scoped>\n",
       "    .dataframe tbody tr th:only-of-type {\n",
       "        vertical-align: middle;\n",
       "    }\n",
       "\n",
       "    .dataframe tbody tr th {\n",
       "        vertical-align: top;\n",
       "    }\n",
       "\n",
       "    .dataframe thead th {\n",
       "        text-align: right;\n",
       "    }\n",
       "</style>\n",
       "<table border=\"1\" class=\"dataframe\">\n",
       "  <thead>\n",
       "    <tr style=\"text-align: right;\">\n",
       "      <th></th>\n",
       "      <th>state</th>\n",
       "      <th>act_participation</th>\n",
       "      <th>act_english</th>\n",
       "      <th>act_math</th>\n",
       "      <th>act_reading</th>\n",
       "      <th>act_science</th>\n",
       "      <th>act_composite</th>\n",
       "    </tr>\n",
       "  </thead>\n",
       "  <tbody>\n",
       "    <tr>\n",
       "      <th>1</th>\n",
       "      <td>Alabama</td>\n",
       "      <td>100.0</td>\n",
       "      <td>18.9</td>\n",
       "      <td>18.4</td>\n",
       "      <td>19.7</td>\n",
       "      <td>19.4</td>\n",
       "      <td>19.2</td>\n",
       "    </tr>\n",
       "    <tr>\n",
       "      <th>2</th>\n",
       "      <td>Alaska</td>\n",
       "      <td>65.0</td>\n",
       "      <td>18.7</td>\n",
       "      <td>19.8</td>\n",
       "      <td>20.4</td>\n",
       "      <td>19.9</td>\n",
       "      <td>19.8</td>\n",
       "    </tr>\n",
       "    <tr>\n",
       "      <th>3</th>\n",
       "      <td>Arizona</td>\n",
       "      <td>62.0</td>\n",
       "      <td>18.6</td>\n",
       "      <td>19.8</td>\n",
       "      <td>20.1</td>\n",
       "      <td>19.8</td>\n",
       "      <td>19.7</td>\n",
       "    </tr>\n",
       "    <tr>\n",
       "      <th>4</th>\n",
       "      <td>Arkansas</td>\n",
       "      <td>100.0</td>\n",
       "      <td>18.9</td>\n",
       "      <td>19.0</td>\n",
       "      <td>19.7</td>\n",
       "      <td>19.5</td>\n",
       "      <td>19.4</td>\n",
       "    </tr>\n",
       "    <tr>\n",
       "      <th>5</th>\n",
       "      <td>California</td>\n",
       "      <td>31.0</td>\n",
       "      <td>22.5</td>\n",
       "      <td>22.7</td>\n",
       "      <td>23.1</td>\n",
       "      <td>22.2</td>\n",
       "      <td>22.8</td>\n",
       "    </tr>\n",
       "  </tbody>\n",
       "</table>\n",
       "</div>"
      ],
      "text/plain": [
       "        state  act_participation  act_english  act_math  act_reading  \\\n",
       "1     Alabama              100.0         18.9      18.4         19.7   \n",
       "2      Alaska               65.0         18.7      19.8         20.4   \n",
       "3     Arizona               62.0         18.6      19.8         20.1   \n",
       "4    Arkansas              100.0         18.9      19.0         19.7   \n",
       "5  California               31.0         22.5      22.7         23.1   \n",
       "\n",
       "   act_science  act_composite  \n",
       "1         19.4           19.2  \n",
       "2         19.9           19.8  \n",
       "3         19.8           19.7  \n",
       "4         19.5           19.4  \n",
       "5         22.2           22.8  "
      ]
     },
     "execution_count": 230,
     "metadata": {},
     "output_type": "execute_result"
    }
   ],
   "source": [
    "act_2017.head()"
   ]
  },
  {
   "cell_type": "code",
   "execution_count": 23,
   "metadata": {},
   "outputs": [
    {
     "data": {
      "text/html": [
       "<div>\n",
       "<style scoped>\n",
       "    .dataframe tbody tr th:only-of-type {\n",
       "        vertical-align: middle;\n",
       "    }\n",
       "\n",
       "    .dataframe tbody tr th {\n",
       "        vertical-align: top;\n",
       "    }\n",
       "\n",
       "    .dataframe thead th {\n",
       "        text-align: right;\n",
       "    }\n",
       "</style>\n",
       "<table border=\"1\" class=\"dataframe\">\n",
       "  <thead>\n",
       "    <tr style=\"text-align: right;\">\n",
       "      <th></th>\n",
       "      <th>sat_state</th>\n",
       "      <th>sat_2017_participation</th>\n",
       "      <th>sat_2017_reading_writing</th>\n",
       "      <th>sat_2017_math</th>\n",
       "      <th>sat_2017_total</th>\n",
       "    </tr>\n",
       "  </thead>\n",
       "  <tbody>\n",
       "    <tr>\n",
       "      <th>0</th>\n",
       "      <td>Alabama</td>\n",
       "      <td>5%</td>\n",
       "      <td>593</td>\n",
       "      <td>572</td>\n",
       "      <td>1165</td>\n",
       "    </tr>\n",
       "    <tr>\n",
       "      <th>1</th>\n",
       "      <td>Alaska</td>\n",
       "      <td>38%</td>\n",
       "      <td>547</td>\n",
       "      <td>533</td>\n",
       "      <td>1080</td>\n",
       "    </tr>\n",
       "    <tr>\n",
       "      <th>2</th>\n",
       "      <td>Arizona</td>\n",
       "      <td>30%</td>\n",
       "      <td>563</td>\n",
       "      <td>553</td>\n",
       "      <td>1116</td>\n",
       "    </tr>\n",
       "    <tr>\n",
       "      <th>3</th>\n",
       "      <td>Arkansas</td>\n",
       "      <td>3%</td>\n",
       "      <td>614</td>\n",
       "      <td>594</td>\n",
       "      <td>1208</td>\n",
       "    </tr>\n",
       "    <tr>\n",
       "      <th>4</th>\n",
       "      <td>California</td>\n",
       "      <td>53%</td>\n",
       "      <td>531</td>\n",
       "      <td>524</td>\n",
       "      <td>1055</td>\n",
       "    </tr>\n",
       "  </tbody>\n",
       "</table>\n",
       "</div>"
      ],
      "text/plain": [
       "    sat_state sat_2017_participation  sat_2017_reading_writing  sat_2017_math  \\\n",
       "0     Alabama                     5%                       593            572   \n",
       "1      Alaska                    38%                       547            533   \n",
       "2     Arizona                    30%                       563            553   \n",
       "3    Arkansas                     3%                       614            594   \n",
       "4  California                    53%                       531            524   \n",
       "\n",
       "   sat_2017_total  \n",
       "0            1165  \n",
       "1            1080  \n",
       "2            1116  \n",
       "3            1208  \n",
       "4            1055  "
      ]
     },
     "execution_count": 23,
     "metadata": {},
     "output_type": "execute_result"
    }
   ],
   "source": [
    "# List Replacement Method\n",
    "new_columns_list = [\n",
    "    'sat_state',\n",
    "    'sat_2017_participation',\n",
    "    'sat_2017_reading_writing',\n",
    "    'sat_2017_math',\n",
    "    'sat_2017_total',\n",
    "]\n",
    "# Assign new column names\n",
    "sat_2017.columns = new_columns_list\n",
    "sat_2017.head()"
   ]
  },
  {
   "cell_type": "markdown",
   "metadata": {},
   "source": [
    "#### 10. Merge Dataframes\n",
    "\n",
    "Join the 2017 ACT and SAT dataframes using the state in each dataframe as the key. Assign this to a new variable."
   ]
  },
  {
   "cell_type": "code",
   "execution_count": 251,
   "metadata": {},
   "outputs": [
    {
     "data": {
      "text/html": [
       "<div>\n",
       "<style scoped>\n",
       "    .dataframe tbody tr th:only-of-type {\n",
       "        vertical-align: middle;\n",
       "    }\n",
       "\n",
       "    .dataframe tbody tr th {\n",
       "        vertical-align: top;\n",
       "    }\n",
       "\n",
       "    .dataframe thead th {\n",
       "        text-align: right;\n",
       "    }\n",
       "</style>\n",
       "<table border=\"1\" class=\"dataframe\">\n",
       "  <thead>\n",
       "    <tr style=\"text-align: right;\">\n",
       "      <th></th>\n",
       "      <th>state</th>\n",
       "      <th>act_2017_participation</th>\n",
       "      <th>act_2017_english</th>\n",
       "      <th>act_2017_math</th>\n",
       "      <th>act_2017_reading</th>\n",
       "      <th>act_2017_science</th>\n",
       "      <th>act_2017_composite</th>\n",
       "      <th>sat_2017_participation</th>\n",
       "      <th>sat_2017_reading_writing</th>\n",
       "      <th>sat_2017_math</th>\n",
       "      <th>sat_2017_total</th>\n",
       "    </tr>\n",
       "  </thead>\n",
       "  <tbody>\n",
       "    <tr>\n",
       "      <th>1</th>\n",
       "      <td>Alabama</td>\n",
       "      <td>100.0</td>\n",
       "      <td>18.9</td>\n",
       "      <td>18.4</td>\n",
       "      <td>19.7</td>\n",
       "      <td>19.4</td>\n",
       "      <td>19.2</td>\n",
       "      <td>38.0</td>\n",
       "      <td>547.0</td>\n",
       "      <td>533.0</td>\n",
       "      <td>1080.0</td>\n",
       "    </tr>\n",
       "    <tr>\n",
       "      <th>2</th>\n",
       "      <td>Alaska</td>\n",
       "      <td>65.0</td>\n",
       "      <td>18.7</td>\n",
       "      <td>19.8</td>\n",
       "      <td>20.4</td>\n",
       "      <td>19.9</td>\n",
       "      <td>19.8</td>\n",
       "      <td>30.0</td>\n",
       "      <td>563.0</td>\n",
       "      <td>553.0</td>\n",
       "      <td>1116.0</td>\n",
       "    </tr>\n",
       "    <tr>\n",
       "      <th>3</th>\n",
       "      <td>Arizona</td>\n",
       "      <td>62.0</td>\n",
       "      <td>18.6</td>\n",
       "      <td>19.8</td>\n",
       "      <td>20.1</td>\n",
       "      <td>19.8</td>\n",
       "      <td>19.7</td>\n",
       "      <td>3.0</td>\n",
       "      <td>614.0</td>\n",
       "      <td>594.0</td>\n",
       "      <td>1208.0</td>\n",
       "    </tr>\n",
       "    <tr>\n",
       "      <th>4</th>\n",
       "      <td>Arkansas</td>\n",
       "      <td>100.0</td>\n",
       "      <td>18.9</td>\n",
       "      <td>19.0</td>\n",
       "      <td>19.7</td>\n",
       "      <td>19.5</td>\n",
       "      <td>19.4</td>\n",
       "      <td>53.0</td>\n",
       "      <td>531.0</td>\n",
       "      <td>524.0</td>\n",
       "      <td>1055.0</td>\n",
       "    </tr>\n",
       "    <tr>\n",
       "      <th>5</th>\n",
       "      <td>California</td>\n",
       "      <td>31.0</td>\n",
       "      <td>22.5</td>\n",
       "      <td>22.7</td>\n",
       "      <td>23.1</td>\n",
       "      <td>22.2</td>\n",
       "      <td>22.8</td>\n",
       "      <td>11.0</td>\n",
       "      <td>606.0</td>\n",
       "      <td>595.0</td>\n",
       "      <td>1201.0</td>\n",
       "    </tr>\n",
       "  </tbody>\n",
       "</table>\n",
       "</div>"
      ],
      "text/plain": [
       "        state  act_2017_participation  act_2017_english  act_2017_math  \\\n",
       "1     Alabama                   100.0              18.9           18.4   \n",
       "2      Alaska                    65.0              18.7           19.8   \n",
       "3     Arizona                    62.0              18.6           19.8   \n",
       "4    Arkansas                   100.0              18.9           19.0   \n",
       "5  California                    31.0              22.5           22.7   \n",
       "\n",
       "   act_2017_reading  act_2017_science  act_2017_composite  \\\n",
       "1              19.7              19.4                19.2   \n",
       "2              20.4              19.9                19.8   \n",
       "3              20.1              19.8                19.7   \n",
       "4              19.7              19.5                19.4   \n",
       "5              23.1              22.2                22.8   \n",
       "\n",
       "   sat_2017_participation  sat_2017_reading_writing  sat_2017_math  \\\n",
       "1                    38.0                     547.0          533.0   \n",
       "2                    30.0                     563.0          553.0   \n",
       "3                     3.0                     614.0          594.0   \n",
       "4                    53.0                     531.0          524.0   \n",
       "5                    11.0                     606.0          595.0   \n",
       "\n",
       "   sat_2017_total  \n",
       "1          1080.0  \n",
       "2          1116.0  \n",
       "3          1208.0  \n",
       "4          1055.0  \n",
       "5          1201.0  "
      ]
     },
     "execution_count": 251,
     "metadata": {},
     "output_type": "execute_result"
    }
   ],
   "source": [
    "#Code:\n",
    "df1 = act_2017\n",
    "df2 = sat_2017\n",
    "combined = pd.concat([df1, df2.reindex(df1.index)], axis=1)\n",
    "\n",
    "# We want to drop the state column associated with the ACT state column\n",
    "combined.drop(['sat_state'], axis=1, inplace = True)\n",
    "\n",
    "combined.head()"
   ]
  },
  {
   "cell_type": "markdown",
   "metadata": {},
   "source": [
    "#### 11. Save your cleaned, merged dataframe\n",
    "\n",
    "Use a relative path to save out your data as `combined_2017.csv`."
   ]
  },
  {
   "cell_type": "code",
   "execution_count": 252,
   "metadata": {},
   "outputs": [],
   "source": [
    "# Write our combined data to a .csv file\n",
    "combined.to_csv('../data/combined_2017.csv')"
   ]
  },
  {
   "cell_type": "markdown",
   "metadata": {},
   "source": [
    "## 2018 Data Import and Cleaning"
   ]
  },
  {
   "cell_type": "markdown",
   "metadata": {},
   "source": [
    "Read in the `sat_2018.csv` and `act_2018.csv` files and assign them to appropriately named pandas dataframes. For the **2018 ACT Data**, only the `Composite` scores are available. Repeat the same processes to clean the 2018 data here as you were instructed in the previous sections above."
   ]
  },
  {
   "cell_type": "code",
   "execution_count": 28,
   "metadata": {},
   "outputs": [],
   "source": [
    "# Importing the SAT and ACT .csv files\n",
    "sat_2018 = pd.read_csv('../data/sat_2018.csv')\n",
    "act_2018 = pd.read_csv('../data/act_2018.csv')"
   ]
  },
  {
   "cell_type": "code",
   "execution_count": 29,
   "metadata": {},
   "outputs": [
    {
     "data": {
      "text/html": [
       "<div>\n",
       "<style scoped>\n",
       "    .dataframe tbody tr th:only-of-type {\n",
       "        vertical-align: middle;\n",
       "    }\n",
       "\n",
       "    .dataframe tbody tr th {\n",
       "        vertical-align: top;\n",
       "    }\n",
       "\n",
       "    .dataframe thead th {\n",
       "        text-align: right;\n",
       "    }\n",
       "</style>\n",
       "<table border=\"1\" class=\"dataframe\">\n",
       "  <thead>\n",
       "    <tr style=\"text-align: right;\">\n",
       "      <th></th>\n",
       "      <th>State</th>\n",
       "      <th>Participation</th>\n",
       "      <th>Composite</th>\n",
       "    </tr>\n",
       "  </thead>\n",
       "  <tbody>\n",
       "    <tr>\n",
       "      <th>0</th>\n",
       "      <td>Alabama</td>\n",
       "      <td>100%</td>\n",
       "      <td>19.1</td>\n",
       "    </tr>\n",
       "    <tr>\n",
       "      <th>1</th>\n",
       "      <td>Alaska</td>\n",
       "      <td>33%</td>\n",
       "      <td>20.8</td>\n",
       "    </tr>\n",
       "    <tr>\n",
       "      <th>2</th>\n",
       "      <td>Arizona</td>\n",
       "      <td>66%</td>\n",
       "      <td>19.2</td>\n",
       "    </tr>\n",
       "    <tr>\n",
       "      <th>3</th>\n",
       "      <td>Arkansas</td>\n",
       "      <td>100%</td>\n",
       "      <td>19.4</td>\n",
       "    </tr>\n",
       "    <tr>\n",
       "      <th>4</th>\n",
       "      <td>California</td>\n",
       "      <td>27%</td>\n",
       "      <td>22.7</td>\n",
       "    </tr>\n",
       "  </tbody>\n",
       "</table>\n",
       "</div>"
      ],
      "text/plain": [
       "        State Participation  Composite\n",
       "0     Alabama          100%       19.1\n",
       "1      Alaska           33%       20.8\n",
       "2     Arizona           66%       19.2\n",
       "3    Arkansas          100%       19.4\n",
       "4  California           27%       22.7"
      ]
     },
     "execution_count": 29,
     "metadata": {},
     "output_type": "execute_result"
    }
   ],
   "source": [
    "act_2018.head()"
   ]
  },
  {
   "cell_type": "code",
   "execution_count": 40,
   "metadata": {},
   "outputs": [
    {
     "data": {
      "text/html": [
       "<div>\n",
       "<style scoped>\n",
       "    .dataframe tbody tr th:only-of-type {\n",
       "        vertical-align: middle;\n",
       "    }\n",
       "\n",
       "    .dataframe tbody tr th {\n",
       "        vertical-align: top;\n",
       "    }\n",
       "\n",
       "    .dataframe thead th {\n",
       "        text-align: right;\n",
       "    }\n",
       "</style>\n",
       "<table border=\"1\" class=\"dataframe\">\n",
       "  <thead>\n",
       "    <tr style=\"text-align: right;\">\n",
       "      <th></th>\n",
       "      <th>State</th>\n",
       "      <th>Participation</th>\n",
       "      <th>Composite</th>\n",
       "    </tr>\n",
       "  </thead>\n",
       "  <tbody>\n",
       "    <tr>\n",
       "      <th>19</th>\n",
       "      <td>Maine</td>\n",
       "      <td>7%</td>\n",
       "      <td>24.0</td>\n",
       "    </tr>\n",
       "    <tr>\n",
       "      <th>20</th>\n",
       "      <td>Maine</td>\n",
       "      <td>7%</td>\n",
       "      <td>24.0</td>\n",
       "    </tr>\n",
       "  </tbody>\n",
       "</table>\n",
       "</div>"
      ],
      "text/plain": [
       "    State Participation  Composite\n",
       "19  Maine            7%       24.0\n",
       "20  Maine            7%       24.0"
      ]
     },
     "execution_count": 40,
     "metadata": {},
     "output_type": "execute_result"
    }
   ],
   "source": [
    "# Returning just the columns for NY\n",
    "act_2018[act_2018['State'] == 'Maine']"
   ]
  },
  {
   "cell_type": "markdown",
   "metadata": {},
   "source": [
    "**There are two identical rows for Maine in the ACT 2018 Data, we will delete one**"
   ]
  },
  {
   "cell_type": "code",
   "execution_count": 42,
   "metadata": {},
   "outputs": [],
   "source": [
    "act_2018 = act_2018.drop(act_2018.index[19])"
   ]
  },
  {
   "cell_type": "code",
   "execution_count": 34,
   "metadata": {},
   "outputs": [
    {
     "data": {
      "text/plain": [
       "State                                 object\n",
       "Participation                         object\n",
       "Evidence-Based Reading and Writing     int64\n",
       "Math                                   int64\n",
       "Total                                  int64\n",
       "dtype: object"
      ]
     },
     "execution_count": 34,
     "metadata": {},
     "output_type": "execute_result"
    }
   ],
   "source": [
    "sat_2018.dtypes"
   ]
  },
  {
   "cell_type": "markdown",
   "metadata": {},
   "source": [
    "**We will now fix our object types:**"
   ]
  },
  {
   "cell_type": "code",
   "execution_count": 318,
   "metadata": {},
   "outputs": [
    {
     "data": {
      "text/plain": [
       "State             object\n",
       "Participation     object\n",
       "Composite        float64\n",
       "dtype: object"
      ]
     },
     "execution_count": 318,
     "metadata": {},
     "output_type": "execute_result"
    }
   ],
   "source": [
    "act_2018.dtypes"
   ]
  },
  {
   "cell_type": "code",
   "execution_count": 319,
   "metadata": {},
   "outputs": [],
   "source": [
    "# We will first fix the object such that are a float\n",
    "def data_changer(x):\n",
    "    x = x.apply(lambda y : float(str(y).split('%')[0]))\n",
    "    return x\n"
   ]
  },
  {
   "cell_type": "code",
   "execution_count": 320,
   "metadata": {},
   "outputs": [
    {
     "data": {
      "text/plain": [
       "State                                  object\n",
       "Participation                         float64\n",
       "Evidence-Based Reading and Writing      int64\n",
       "Math                                    int64\n",
       "Total                                   int64\n",
       "dtype: object"
      ]
     },
     "execution_count": 320,
     "metadata": {},
     "output_type": "execute_result"
    }
   ],
   "source": [
    "# SAT 2018 Participation data change\n",
    "sat_2018['Participation'] = data_changer(sat_2018['Participation'])\n",
    "\n",
    "sat_2018.dtypes"
   ]
  },
  {
   "cell_type": "code",
   "execution_count": 321,
   "metadata": {},
   "outputs": [
    {
     "data": {
      "text/plain": [
       "State             object\n",
       "Participation    float64\n",
       "Composite        float64\n",
       "dtype: object"
      ]
     },
     "execution_count": 321,
     "metadata": {},
     "output_type": "execute_result"
    }
   ],
   "source": [
    "# ACT 2018 Participation data change\n",
    "act_2018['Participation'] = data_changer(act_2018['Participation'])\n",
    "act_2018.dtypes"
   ]
  },
  {
   "cell_type": "code",
   "execution_count": 44,
   "metadata": {},
   "outputs": [
    {
     "name": "stdout",
     "output_type": "stream",
     "text": [
      "ACT Values\n"
     ]
    },
    {
     "data": {
      "text/html": [
       "<div>\n",
       "<style scoped>\n",
       "    .dataframe tbody tr th:only-of-type {\n",
       "        vertical-align: middle;\n",
       "    }\n",
       "\n",
       "    .dataframe tbody tr th {\n",
       "        vertical-align: top;\n",
       "    }\n",
       "\n",
       "    .dataframe thead th {\n",
       "        text-align: right;\n",
       "    }\n",
       "</style>\n",
       "<table border=\"1\" class=\"dataframe\">\n",
       "  <thead>\n",
       "    <tr style=\"text-align: right;\">\n",
       "      <th></th>\n",
       "      <th>state</th>\n",
       "      <th>act_2018_participation</th>\n",
       "      <th>act_2018_composite</th>\n",
       "    </tr>\n",
       "  </thead>\n",
       "  <tbody>\n",
       "    <tr>\n",
       "      <th>0</th>\n",
       "      <td>Alabama</td>\n",
       "      <td>100%</td>\n",
       "      <td>19.1</td>\n",
       "    </tr>\n",
       "    <tr>\n",
       "      <th>1</th>\n",
       "      <td>Alaska</td>\n",
       "      <td>33%</td>\n",
       "      <td>20.8</td>\n",
       "    </tr>\n",
       "    <tr>\n",
       "      <th>2</th>\n",
       "      <td>Arizona</td>\n",
       "      <td>66%</td>\n",
       "      <td>19.2</td>\n",
       "    </tr>\n",
       "    <tr>\n",
       "      <th>3</th>\n",
       "      <td>Arkansas</td>\n",
       "      <td>100%</td>\n",
       "      <td>19.4</td>\n",
       "    </tr>\n",
       "    <tr>\n",
       "      <th>4</th>\n",
       "      <td>California</td>\n",
       "      <td>27%</td>\n",
       "      <td>22.7</td>\n",
       "    </tr>\n",
       "  </tbody>\n",
       "</table>\n",
       "</div>"
      ],
      "text/plain": [
       "        state act_2018_participation  act_2018_composite\n",
       "0     Alabama                   100%                19.1\n",
       "1      Alaska                    33%                20.8\n",
       "2     Arizona                    66%                19.2\n",
       "3    Arkansas                   100%                19.4\n",
       "4  California                    27%                22.7"
      ]
     },
     "execution_count": 44,
     "metadata": {},
     "output_type": "execute_result"
    }
   ],
   "source": [
    "# Renaiming the 2018 SAT column names\n",
    "print('ACT Values')\n",
    "new_columns_list = [\n",
    "    'state',\n",
    "    'act_2018_participation',\n",
    "    'act_2018_composite',\n",
    "]\n",
    "act_2018.columns = new_columns_list\n",
    "act_2018.head()"
   ]
  },
  {
   "cell_type": "code",
   "execution_count": 323,
   "metadata": {},
   "outputs": [
    {
     "name": "stdout",
     "output_type": "stream",
     "text": [
      "SAT Values\n"
     ]
    },
    {
     "data": {
      "text/html": [
       "<div>\n",
       "<style scoped>\n",
       "    .dataframe tbody tr th:only-of-type {\n",
       "        vertical-align: middle;\n",
       "    }\n",
       "\n",
       "    .dataframe tbody tr th {\n",
       "        vertical-align: top;\n",
       "    }\n",
       "\n",
       "    .dataframe thead th {\n",
       "        text-align: right;\n",
       "    }\n",
       "</style>\n",
       "<table border=\"1\" class=\"dataframe\">\n",
       "  <thead>\n",
       "    <tr style=\"text-align: right;\">\n",
       "      <th></th>\n",
       "      <th>sat_state</th>\n",
       "      <th>sat_2018_participation</th>\n",
       "      <th>sat_2018_reading_writing</th>\n",
       "      <th>sat_2018_math</th>\n",
       "      <th>sat_2018_total</th>\n",
       "    </tr>\n",
       "  </thead>\n",
       "  <tbody>\n",
       "    <tr>\n",
       "      <th>0</th>\n",
       "      <td>Alabama</td>\n",
       "      <td>6.0</td>\n",
       "      <td>595</td>\n",
       "      <td>571</td>\n",
       "      <td>1166</td>\n",
       "    </tr>\n",
       "    <tr>\n",
       "      <th>1</th>\n",
       "      <td>Alaska</td>\n",
       "      <td>43.0</td>\n",
       "      <td>562</td>\n",
       "      <td>544</td>\n",
       "      <td>1106</td>\n",
       "    </tr>\n",
       "    <tr>\n",
       "      <th>2</th>\n",
       "      <td>Arizona</td>\n",
       "      <td>29.0</td>\n",
       "      <td>577</td>\n",
       "      <td>572</td>\n",
       "      <td>1149</td>\n",
       "    </tr>\n",
       "    <tr>\n",
       "      <th>3</th>\n",
       "      <td>Arkansas</td>\n",
       "      <td>5.0</td>\n",
       "      <td>592</td>\n",
       "      <td>576</td>\n",
       "      <td>1169</td>\n",
       "    </tr>\n",
       "    <tr>\n",
       "      <th>4</th>\n",
       "      <td>California</td>\n",
       "      <td>60.0</td>\n",
       "      <td>540</td>\n",
       "      <td>536</td>\n",
       "      <td>1076</td>\n",
       "    </tr>\n",
       "  </tbody>\n",
       "</table>\n",
       "</div>"
      ],
      "text/plain": [
       "    sat_state  sat_2018_participation  sat_2018_reading_writing  \\\n",
       "0     Alabama                     6.0                       595   \n",
       "1      Alaska                    43.0                       562   \n",
       "2     Arizona                    29.0                       577   \n",
       "3    Arkansas                     5.0                       592   \n",
       "4  California                    60.0                       540   \n",
       "\n",
       "   sat_2018_math  sat_2018_total  \n",
       "0            571            1166  \n",
       "1            544            1106  \n",
       "2            572            1149  \n",
       "3            576            1169  \n",
       "4            536            1076  "
      ]
     },
     "execution_count": 323,
     "metadata": {},
     "output_type": "execute_result"
    }
   ],
   "source": [
    "# Renaiming the 2018 SAT column names\n",
    "print('SAT Values')\n",
    "new_columns_list = [\n",
    "    'sat_state',\n",
    "    'sat_2018_participation',\n",
    "    'sat_2018_reading_writing',\n",
    "    'sat_2018_math',\n",
    "    'sat_2018_total',\n",
    "]\n",
    "sat_2018.columns = new_columns_list\n",
    "sat_2018.head()"
   ]
  },
  {
   "cell_type": "code",
   "execution_count": 324,
   "metadata": {},
   "outputs": [
    {
     "data": {
      "text/html": [
       "<div>\n",
       "<style scoped>\n",
       "    .dataframe tbody tr th:only-of-type {\n",
       "        vertical-align: middle;\n",
       "    }\n",
       "\n",
       "    .dataframe tbody tr th {\n",
       "        vertical-align: top;\n",
       "    }\n",
       "\n",
       "    .dataframe thead th {\n",
       "        text-align: right;\n",
       "    }\n",
       "</style>\n",
       "<table border=\"1\" class=\"dataframe\">\n",
       "  <thead>\n",
       "    <tr style=\"text-align: right;\">\n",
       "      <th></th>\n",
       "      <th>state</th>\n",
       "      <th>act_2018_participation</th>\n",
       "      <th>act_2018_composite</th>\n",
       "      <th>sat_state</th>\n",
       "      <th>sat_2018_participation</th>\n",
       "      <th>sat_2018_reading_writing</th>\n",
       "      <th>sat_2018_math</th>\n",
       "      <th>sat_2018_total</th>\n",
       "    </tr>\n",
       "  </thead>\n",
       "  <tbody>\n",
       "    <tr>\n",
       "      <th>0</th>\n",
       "      <td>Alabama</td>\n",
       "      <td>100.0</td>\n",
       "      <td>19.1</td>\n",
       "      <td>Alabama</td>\n",
       "      <td>6.0</td>\n",
       "      <td>595.0</td>\n",
       "      <td>571.0</td>\n",
       "      <td>1166.0</td>\n",
       "    </tr>\n",
       "    <tr>\n",
       "      <th>1</th>\n",
       "      <td>Alaska</td>\n",
       "      <td>33.0</td>\n",
       "      <td>20.8</td>\n",
       "      <td>Alaska</td>\n",
       "      <td>43.0</td>\n",
       "      <td>562.0</td>\n",
       "      <td>544.0</td>\n",
       "      <td>1106.0</td>\n",
       "    </tr>\n",
       "    <tr>\n",
       "      <th>2</th>\n",
       "      <td>Arizona</td>\n",
       "      <td>66.0</td>\n",
       "      <td>19.2</td>\n",
       "      <td>Arizona</td>\n",
       "      <td>29.0</td>\n",
       "      <td>577.0</td>\n",
       "      <td>572.0</td>\n",
       "      <td>1149.0</td>\n",
       "    </tr>\n",
       "    <tr>\n",
       "      <th>3</th>\n",
       "      <td>Arkansas</td>\n",
       "      <td>100.0</td>\n",
       "      <td>19.4</td>\n",
       "      <td>Arkansas</td>\n",
       "      <td>5.0</td>\n",
       "      <td>592.0</td>\n",
       "      <td>576.0</td>\n",
       "      <td>1169.0</td>\n",
       "    </tr>\n",
       "    <tr>\n",
       "      <th>4</th>\n",
       "      <td>California</td>\n",
       "      <td>27.0</td>\n",
       "      <td>22.7</td>\n",
       "      <td>California</td>\n",
       "      <td>60.0</td>\n",
       "      <td>540.0</td>\n",
       "      <td>536.0</td>\n",
       "      <td>1076.0</td>\n",
       "    </tr>\n",
       "  </tbody>\n",
       "</table>\n",
       "</div>"
      ],
      "text/plain": [
       "        state  act_2018_participation  act_2018_composite   sat_state  \\\n",
       "0     Alabama                   100.0                19.1     Alabama   \n",
       "1      Alaska                    33.0                20.8      Alaska   \n",
       "2     Arizona                    66.0                19.2     Arizona   \n",
       "3    Arkansas                   100.0                19.4    Arkansas   \n",
       "4  California                    27.0                22.7  California   \n",
       "\n",
       "   sat_2018_participation  sat_2018_reading_writing  sat_2018_math  \\\n",
       "0                     6.0                     595.0          571.0   \n",
       "1                    43.0                     562.0          544.0   \n",
       "2                    29.0                     577.0          572.0   \n",
       "3                     5.0                     592.0          576.0   \n",
       "4                    60.0                     540.0          536.0   \n",
       "\n",
       "   sat_2018_total  \n",
       "0          1166.0  \n",
       "1          1106.0  \n",
       "2          1149.0  \n",
       "3          1169.0  \n",
       "4          1076.0  "
      ]
     },
     "execution_count": 324,
     "metadata": {},
     "output_type": "execute_result"
    }
   ],
   "source": [
    "# Now we will combine our 2017 SAT and ACT DataFrames\n",
    "df1 = act_2018\n",
    "df2 = sat_2018\n",
    "combined = pd.concat([df1, df2.reindex(df1.index)], axis=1)\n",
    "combined.head()"
   ]
  },
  {
   "cell_type": "code",
   "execution_count": 325,
   "metadata": {},
   "outputs": [
    {
     "data": {
      "text/html": [
       "<div>\n",
       "<style scoped>\n",
       "    .dataframe tbody tr th:only-of-type {\n",
       "        vertical-align: middle;\n",
       "    }\n",
       "\n",
       "    .dataframe tbody tr th {\n",
       "        vertical-align: top;\n",
       "    }\n",
       "\n",
       "    .dataframe thead th {\n",
       "        text-align: right;\n",
       "    }\n",
       "</style>\n",
       "<table border=\"1\" class=\"dataframe\">\n",
       "  <thead>\n",
       "    <tr style=\"text-align: right;\">\n",
       "      <th></th>\n",
       "      <th>state</th>\n",
       "      <th>act_2018_participation</th>\n",
       "      <th>act_2018_composite</th>\n",
       "      <th>sat_2018_participation</th>\n",
       "      <th>sat_2018_reading_writing</th>\n",
       "      <th>sat_2018_math</th>\n",
       "      <th>sat_2018_total</th>\n",
       "    </tr>\n",
       "  </thead>\n",
       "  <tbody>\n",
       "    <tr>\n",
       "      <th>0</th>\n",
       "      <td>Alabama</td>\n",
       "      <td>100.0</td>\n",
       "      <td>19.1</td>\n",
       "      <td>6.0</td>\n",
       "      <td>595.0</td>\n",
       "      <td>571.0</td>\n",
       "      <td>1166.0</td>\n",
       "    </tr>\n",
       "    <tr>\n",
       "      <th>1</th>\n",
       "      <td>Alaska</td>\n",
       "      <td>33.0</td>\n",
       "      <td>20.8</td>\n",
       "      <td>43.0</td>\n",
       "      <td>562.0</td>\n",
       "      <td>544.0</td>\n",
       "      <td>1106.0</td>\n",
       "    </tr>\n",
       "    <tr>\n",
       "      <th>2</th>\n",
       "      <td>Arizona</td>\n",
       "      <td>66.0</td>\n",
       "      <td>19.2</td>\n",
       "      <td>29.0</td>\n",
       "      <td>577.0</td>\n",
       "      <td>572.0</td>\n",
       "      <td>1149.0</td>\n",
       "    </tr>\n",
       "    <tr>\n",
       "      <th>3</th>\n",
       "      <td>Arkansas</td>\n",
       "      <td>100.0</td>\n",
       "      <td>19.4</td>\n",
       "      <td>5.0</td>\n",
       "      <td>592.0</td>\n",
       "      <td>576.0</td>\n",
       "      <td>1169.0</td>\n",
       "    </tr>\n",
       "    <tr>\n",
       "      <th>4</th>\n",
       "      <td>California</td>\n",
       "      <td>27.0</td>\n",
       "      <td>22.7</td>\n",
       "      <td>60.0</td>\n",
       "      <td>540.0</td>\n",
       "      <td>536.0</td>\n",
       "      <td>1076.0</td>\n",
       "    </tr>\n",
       "  </tbody>\n",
       "</table>\n",
       "</div>"
      ],
      "text/plain": [
       "        state  act_2018_participation  act_2018_composite  \\\n",
       "0     Alabama                   100.0                19.1   \n",
       "1      Alaska                    33.0                20.8   \n",
       "2     Arizona                    66.0                19.2   \n",
       "3    Arkansas                   100.0                19.4   \n",
       "4  California                    27.0                22.7   \n",
       "\n",
       "   sat_2018_participation  sat_2018_reading_writing  sat_2018_math  \\\n",
       "0                     6.0                     595.0          571.0   \n",
       "1                    43.0                     562.0          544.0   \n",
       "2                    29.0                     577.0          572.0   \n",
       "3                     5.0                     592.0          576.0   \n",
       "4                    60.0                     540.0          536.0   \n",
       "\n",
       "   sat_2018_total  \n",
       "0          1166.0  \n",
       "1          1106.0  \n",
       "2          1149.0  \n",
       "3          1169.0  \n",
       "4          1076.0  "
      ]
     },
     "execution_count": 325,
     "metadata": {},
     "output_type": "execute_result"
    }
   ],
   "source": [
    "#We will drop the column associated with the SAT states, the are redundant. The ACT State Column will be used instead.\n",
    "combined.drop(['sat_state'], axis=1, inplace = True)\n",
    "combined.head()"
   ]
  },
  {
   "cell_type": "code",
   "execution_count": 328,
   "metadata": {},
   "outputs": [
    {
     "data": {
      "text/plain": [
       "(51, 7)"
      ]
     },
     "execution_count": 328,
     "metadata": {},
     "output_type": "execute_result"
    }
   ],
   "source": [
    "combined.shape"
   ]
  },
  {
   "cell_type": "markdown",
   "metadata": {},
   "source": [
    "**We will now write our Combined DataFrame to a .csv file:**"
   ]
  },
  {
   "cell_type": "code",
   "execution_count": 329,
   "metadata": {},
   "outputs": [],
   "source": [
    "# Write combined data to a .csv file\n",
    "combined.to_csv('../data/combined_2018.csv')"
   ]
  },
  {
   "cell_type": "markdown",
   "metadata": {},
   "source": [
    "#### Combine your 2017 and 2018 data into a single dataframe\n",
    "Joining on state names should work, assuming you formatted all your state names identically. Make sure none of your columns (other than state) have identical names. Do yourself a favor and decide if you're encoding participation rates as floats or integers and standardize this across your datasets.\n",
    "\n",
    "Save the contents of this merged dataframe as `final.csv`.\n",
    "\n",
    "**Use this combined dataframe for the remainder of the project**."
   ]
  },
  {
   "cell_type": "markdown",
   "metadata": {},
   "source": [
    "**I will first clear out the jupyter memory and deal with just the combined data:**"
   ]
  },
  {
   "cell_type": "code",
   "execution_count": 55,
   "metadata": {},
   "outputs": [
    {
     "name": "stdout",
     "output_type": "stream",
     "text": [
      "\u001b[H\u001b[2J"
     ]
    }
   ],
   "source": [
    "clear()"
   ]
  },
  {
   "cell_type": "code",
   "execution_count": 57,
   "metadata": {},
   "outputs": [],
   "source": [
    "#Import our libraries\n",
    "import numpy as np\n",
    "import seaborn as sns\n",
    "import matplotlib.pyplot as plt\n",
    "import pandas as pd\n",
    "\n",
    "%matplotlib inline"
   ]
  },
  {
   "cell_type": "code",
   "execution_count": 58,
   "metadata": {},
   "outputs": [],
   "source": [
    "# Read .csv files for the 207, 20128 data and create a DataFrame for each\n",
    "combined_2017 = pd.read_csv('../data/combined_2017.csv')\n",
    "combined_2018 = pd.read_csv('../data/combined_2018.csv')"
   ]
  },
  {
   "cell_type": "markdown",
   "metadata": {},
   "source": [
    "**Display the heads of both our DataFrames:**"
   ]
  },
  {
   "cell_type": "code",
   "execution_count": 4,
   "metadata": {},
   "outputs": [
    {
     "data": {
      "text/html": [
       "<div>\n",
       "<style scoped>\n",
       "    .dataframe tbody tr th:only-of-type {\n",
       "        vertical-align: middle;\n",
       "    }\n",
       "\n",
       "    .dataframe tbody tr th {\n",
       "        vertical-align: top;\n",
       "    }\n",
       "\n",
       "    .dataframe thead th {\n",
       "        text-align: right;\n",
       "    }\n",
       "</style>\n",
       "<table border=\"1\" class=\"dataframe\">\n",
       "  <thead>\n",
       "    <tr style=\"text-align: right;\">\n",
       "      <th></th>\n",
       "      <th>Unnamed: 0</th>\n",
       "      <th>state</th>\n",
       "      <th>act_2017_participation</th>\n",
       "      <th>act_2017_english</th>\n",
       "      <th>act_2017_math</th>\n",
       "      <th>act_2017_reading</th>\n",
       "      <th>act_2017_science</th>\n",
       "      <th>act_2017_composite</th>\n",
       "      <th>sat_2017_participation</th>\n",
       "      <th>sat_2017_reading_writing</th>\n",
       "      <th>sat_2017_math</th>\n",
       "      <th>sat_2017_total</th>\n",
       "    </tr>\n",
       "  </thead>\n",
       "  <tbody>\n",
       "    <tr>\n",
       "      <th>0</th>\n",
       "      <td>1</td>\n",
       "      <td>Alabama</td>\n",
       "      <td>100.0</td>\n",
       "      <td>18.9</td>\n",
       "      <td>18.4</td>\n",
       "      <td>19.7</td>\n",
       "      <td>19.4</td>\n",
       "      <td>19.2</td>\n",
       "      <td>38.0</td>\n",
       "      <td>547.0</td>\n",
       "      <td>533.0</td>\n",
       "      <td>1080.0</td>\n",
       "    </tr>\n",
       "    <tr>\n",
       "      <th>1</th>\n",
       "      <td>2</td>\n",
       "      <td>Alaska</td>\n",
       "      <td>65.0</td>\n",
       "      <td>18.7</td>\n",
       "      <td>19.8</td>\n",
       "      <td>20.4</td>\n",
       "      <td>19.9</td>\n",
       "      <td>19.8</td>\n",
       "      <td>30.0</td>\n",
       "      <td>563.0</td>\n",
       "      <td>553.0</td>\n",
       "      <td>1116.0</td>\n",
       "    </tr>\n",
       "    <tr>\n",
       "      <th>2</th>\n",
       "      <td>3</td>\n",
       "      <td>Arizona</td>\n",
       "      <td>62.0</td>\n",
       "      <td>18.6</td>\n",
       "      <td>19.8</td>\n",
       "      <td>20.1</td>\n",
       "      <td>19.8</td>\n",
       "      <td>19.7</td>\n",
       "      <td>3.0</td>\n",
       "      <td>614.0</td>\n",
       "      <td>594.0</td>\n",
       "      <td>1208.0</td>\n",
       "    </tr>\n",
       "    <tr>\n",
       "      <th>3</th>\n",
       "      <td>4</td>\n",
       "      <td>Arkansas</td>\n",
       "      <td>100.0</td>\n",
       "      <td>18.9</td>\n",
       "      <td>19.0</td>\n",
       "      <td>19.7</td>\n",
       "      <td>19.5</td>\n",
       "      <td>19.4</td>\n",
       "      <td>53.0</td>\n",
       "      <td>531.0</td>\n",
       "      <td>524.0</td>\n",
       "      <td>1055.0</td>\n",
       "    </tr>\n",
       "    <tr>\n",
       "      <th>4</th>\n",
       "      <td>5</td>\n",
       "      <td>California</td>\n",
       "      <td>31.0</td>\n",
       "      <td>22.5</td>\n",
       "      <td>22.7</td>\n",
       "      <td>23.1</td>\n",
       "      <td>22.2</td>\n",
       "      <td>22.8</td>\n",
       "      <td>11.0</td>\n",
       "      <td>606.0</td>\n",
       "      <td>595.0</td>\n",
       "      <td>1201.0</td>\n",
       "    </tr>\n",
       "  </tbody>\n",
       "</table>\n",
       "</div>"
      ],
      "text/plain": [
       "   Unnamed: 0       state  act_2017_participation  act_2017_english  \\\n",
       "0           1     Alabama                   100.0              18.9   \n",
       "1           2      Alaska                    65.0              18.7   \n",
       "2           3     Arizona                    62.0              18.6   \n",
       "3           4    Arkansas                   100.0              18.9   \n",
       "4           5  California                    31.0              22.5   \n",
       "\n",
       "   act_2017_math  act_2017_reading  act_2017_science  act_2017_composite  \\\n",
       "0           18.4              19.7              19.4                19.2   \n",
       "1           19.8              20.4              19.9                19.8   \n",
       "2           19.8              20.1              19.8                19.7   \n",
       "3           19.0              19.7              19.5                19.4   \n",
       "4           22.7              23.1              22.2                22.8   \n",
       "\n",
       "   sat_2017_participation  sat_2017_reading_writing  sat_2017_math  \\\n",
       "0                    38.0                     547.0          533.0   \n",
       "1                    30.0                     563.0          553.0   \n",
       "2                     3.0                     614.0          594.0   \n",
       "3                    53.0                     531.0          524.0   \n",
       "4                    11.0                     606.0          595.0   \n",
       "\n",
       "   sat_2017_total  \n",
       "0          1080.0  \n",
       "1          1116.0  \n",
       "2          1208.0  \n",
       "3          1055.0  \n",
       "4          1201.0  "
      ]
     },
     "execution_count": 4,
     "metadata": {},
     "output_type": "execute_result"
    }
   ],
   "source": [
    "combined_2017.head()"
   ]
  },
  {
   "cell_type": "code",
   "execution_count": 5,
   "metadata": {},
   "outputs": [
    {
     "data": {
      "text/html": [
       "<div>\n",
       "<style scoped>\n",
       "    .dataframe tbody tr th:only-of-type {\n",
       "        vertical-align: middle;\n",
       "    }\n",
       "\n",
       "    .dataframe tbody tr th {\n",
       "        vertical-align: top;\n",
       "    }\n",
       "\n",
       "    .dataframe thead th {\n",
       "        text-align: right;\n",
       "    }\n",
       "</style>\n",
       "<table border=\"1\" class=\"dataframe\">\n",
       "  <thead>\n",
       "    <tr style=\"text-align: right;\">\n",
       "      <th></th>\n",
       "      <th>Unnamed: 0</th>\n",
       "      <th>state</th>\n",
       "      <th>act_2018_participation</th>\n",
       "      <th>act_2018_composite</th>\n",
       "      <th>sat_2018_participation</th>\n",
       "      <th>sat_2018_reading_writing</th>\n",
       "      <th>sat_2018_math</th>\n",
       "      <th>sat_2018_total</th>\n",
       "    </tr>\n",
       "  </thead>\n",
       "  <tbody>\n",
       "    <tr>\n",
       "      <th>0</th>\n",
       "      <td>0</td>\n",
       "      <td>Alabama</td>\n",
       "      <td>100.0</td>\n",
       "      <td>19.1</td>\n",
       "      <td>6.0</td>\n",
       "      <td>595.0</td>\n",
       "      <td>571.0</td>\n",
       "      <td>1166.0</td>\n",
       "    </tr>\n",
       "    <tr>\n",
       "      <th>1</th>\n",
       "      <td>1</td>\n",
       "      <td>Alaska</td>\n",
       "      <td>33.0</td>\n",
       "      <td>20.8</td>\n",
       "      <td>43.0</td>\n",
       "      <td>562.0</td>\n",
       "      <td>544.0</td>\n",
       "      <td>1106.0</td>\n",
       "    </tr>\n",
       "    <tr>\n",
       "      <th>2</th>\n",
       "      <td>2</td>\n",
       "      <td>Arizona</td>\n",
       "      <td>66.0</td>\n",
       "      <td>19.2</td>\n",
       "      <td>29.0</td>\n",
       "      <td>577.0</td>\n",
       "      <td>572.0</td>\n",
       "      <td>1149.0</td>\n",
       "    </tr>\n",
       "    <tr>\n",
       "      <th>3</th>\n",
       "      <td>3</td>\n",
       "      <td>Arkansas</td>\n",
       "      <td>100.0</td>\n",
       "      <td>19.4</td>\n",
       "      <td>5.0</td>\n",
       "      <td>592.0</td>\n",
       "      <td>576.0</td>\n",
       "      <td>1169.0</td>\n",
       "    </tr>\n",
       "    <tr>\n",
       "      <th>4</th>\n",
       "      <td>4</td>\n",
       "      <td>California</td>\n",
       "      <td>27.0</td>\n",
       "      <td>22.7</td>\n",
       "      <td>60.0</td>\n",
       "      <td>540.0</td>\n",
       "      <td>536.0</td>\n",
       "      <td>1076.0</td>\n",
       "    </tr>\n",
       "  </tbody>\n",
       "</table>\n",
       "</div>"
      ],
      "text/plain": [
       "   Unnamed: 0       state  act_2018_participation  act_2018_composite  \\\n",
       "0           0     Alabama                   100.0                19.1   \n",
       "1           1      Alaska                    33.0                20.8   \n",
       "2           2     Arizona                    66.0                19.2   \n",
       "3           3    Arkansas                   100.0                19.4   \n",
       "4           4  California                    27.0                22.7   \n",
       "\n",
       "   sat_2018_participation  sat_2018_reading_writing  sat_2018_math  \\\n",
       "0                     6.0                     595.0          571.0   \n",
       "1                    43.0                     562.0          544.0   \n",
       "2                    29.0                     577.0          572.0   \n",
       "3                     5.0                     592.0          576.0   \n",
       "4                    60.0                     540.0          536.0   \n",
       "\n",
       "   sat_2018_total  \n",
       "0          1166.0  \n",
       "1          1106.0  \n",
       "2          1149.0  \n",
       "3          1169.0  \n",
       "4          1076.0  "
      ]
     },
     "execution_count": 5,
     "metadata": {},
     "output_type": "execute_result"
    }
   ],
   "source": [
    "combined_2018.head()"
   ]
  },
  {
   "cell_type": "code",
   "execution_count": 60,
   "metadata": {},
   "outputs": [
    {
     "data": {
      "text/html": [
       "<div>\n",
       "<style scoped>\n",
       "    .dataframe tbody tr th:only-of-type {\n",
       "        vertical-align: middle;\n",
       "    }\n",
       "\n",
       "    .dataframe tbody tr th {\n",
       "        vertical-align: top;\n",
       "    }\n",
       "\n",
       "    .dataframe thead th {\n",
       "        text-align: right;\n",
       "    }\n",
       "</style>\n",
       "<table border=\"1\" class=\"dataframe\">\n",
       "  <thead>\n",
       "    <tr style=\"text-align: right;\">\n",
       "      <th></th>\n",
       "      <th>state</th>\n",
       "      <th>act_2018_participation</th>\n",
       "      <th>act_2018_composite</th>\n",
       "      <th>sat_2018_participation</th>\n",
       "      <th>sat_2018_reading_writing</th>\n",
       "      <th>sat_2018_math</th>\n",
       "      <th>sat_2018_total</th>\n",
       "    </tr>\n",
       "  </thead>\n",
       "  <tbody>\n",
       "    <tr>\n",
       "      <th>0</th>\n",
       "      <td>Alabama</td>\n",
       "      <td>100.0</td>\n",
       "      <td>19.1</td>\n",
       "      <td>6.0</td>\n",
       "      <td>595.0</td>\n",
       "      <td>571.0</td>\n",
       "      <td>1166.0</td>\n",
       "    </tr>\n",
       "    <tr>\n",
       "      <th>1</th>\n",
       "      <td>Alaska</td>\n",
       "      <td>33.0</td>\n",
       "      <td>20.8</td>\n",
       "      <td>43.0</td>\n",
       "      <td>562.0</td>\n",
       "      <td>544.0</td>\n",
       "      <td>1106.0</td>\n",
       "    </tr>\n",
       "    <tr>\n",
       "      <th>2</th>\n",
       "      <td>Arizona</td>\n",
       "      <td>66.0</td>\n",
       "      <td>19.2</td>\n",
       "      <td>29.0</td>\n",
       "      <td>577.0</td>\n",
       "      <td>572.0</td>\n",
       "      <td>1149.0</td>\n",
       "    </tr>\n",
       "    <tr>\n",
       "      <th>3</th>\n",
       "      <td>Arkansas</td>\n",
       "      <td>100.0</td>\n",
       "      <td>19.4</td>\n",
       "      <td>5.0</td>\n",
       "      <td>592.0</td>\n",
       "      <td>576.0</td>\n",
       "      <td>1169.0</td>\n",
       "    </tr>\n",
       "    <tr>\n",
       "      <th>4</th>\n",
       "      <td>California</td>\n",
       "      <td>27.0</td>\n",
       "      <td>22.7</td>\n",
       "      <td>60.0</td>\n",
       "      <td>540.0</td>\n",
       "      <td>536.0</td>\n",
       "      <td>1076.0</td>\n",
       "    </tr>\n",
       "  </tbody>\n",
       "</table>\n",
       "</div>"
      ],
      "text/plain": [
       "        state  act_2018_participation  act_2018_composite  \\\n",
       "0     Alabama                   100.0                19.1   \n",
       "1      Alaska                    33.0                20.8   \n",
       "2     Arizona                    66.0                19.2   \n",
       "3    Arkansas                   100.0                19.4   \n",
       "4  California                    27.0                22.7   \n",
       "\n",
       "   sat_2018_participation  sat_2018_reading_writing  sat_2018_math  \\\n",
       "0                     6.0                     595.0          571.0   \n",
       "1                    43.0                     562.0          544.0   \n",
       "2                    29.0                     577.0          572.0   \n",
       "3                     5.0                     592.0          576.0   \n",
       "4                    60.0                     540.0          536.0   \n",
       "\n",
       "   sat_2018_total  \n",
       "0          1166.0  \n",
       "1          1106.0  \n",
       "2          1149.0  \n",
       "3          1169.0  \n",
       "4          1076.0  "
      ]
     },
     "execution_count": 60,
     "metadata": {},
     "output_type": "execute_result"
    }
   ],
   "source": [
    "# There is a unwanted column in the combined_2018 data, we will remove it\n",
    "combined_2018.drop(['Unnamed: 0'], axis=1, inplace = True)\n",
    "combined_2018.head()"
   ]
  },
  {
   "cell_type": "markdown",
   "metadata": {},
   "source": [
    "**We will now combine our 2017 and 2018 DataFrames:**"
   ]
  },
  {
   "cell_type": "code",
   "execution_count": 61,
   "metadata": {},
   "outputs": [],
   "source": [
    "df1 = combined_2017\n",
    "df2 = combined_2018\n",
    "combined = pd.concat([df1, df2.reindex(df1.index)], axis=1)\n",
    "combined.drop(['Unnamed: 0'], axis=1, inplace = True)"
   ]
  },
  {
   "cell_type": "code",
   "execution_count": 62,
   "metadata": {},
   "outputs": [
    {
     "data": {
      "text/html": [
       "<div>\n",
       "<style scoped>\n",
       "    .dataframe tbody tr th:only-of-type {\n",
       "        vertical-align: middle;\n",
       "    }\n",
       "\n",
       "    .dataframe tbody tr th {\n",
       "        vertical-align: top;\n",
       "    }\n",
       "\n",
       "    .dataframe thead th {\n",
       "        text-align: right;\n",
       "    }\n",
       "</style>\n",
       "<table border=\"1\" class=\"dataframe\">\n",
       "  <thead>\n",
       "    <tr style=\"text-align: right;\">\n",
       "      <th></th>\n",
       "      <th>state</th>\n",
       "      <th>act_2017_participation</th>\n",
       "      <th>act_2017_english</th>\n",
       "      <th>act_2017_math</th>\n",
       "      <th>act_2017_reading</th>\n",
       "      <th>act_2017_science</th>\n",
       "      <th>act_2017_composite</th>\n",
       "      <th>sat_2017_participation</th>\n",
       "      <th>sat_2017_reading_writing</th>\n",
       "      <th>sat_2017_math</th>\n",
       "      <th>sat_2017_total</th>\n",
       "      <th>state</th>\n",
       "      <th>act_2018_participation</th>\n",
       "      <th>act_2018_composite</th>\n",
       "      <th>sat_2018_participation</th>\n",
       "      <th>sat_2018_reading_writing</th>\n",
       "      <th>sat_2018_math</th>\n",
       "      <th>sat_2018_total</th>\n",
       "    </tr>\n",
       "  </thead>\n",
       "  <tbody>\n",
       "    <tr>\n",
       "      <th>0</th>\n",
       "      <td>Alabama</td>\n",
       "      <td>100.0</td>\n",
       "      <td>18.9</td>\n",
       "      <td>18.4</td>\n",
       "      <td>19.7</td>\n",
       "      <td>19.4</td>\n",
       "      <td>19.2</td>\n",
       "      <td>38.0</td>\n",
       "      <td>547.0</td>\n",
       "      <td>533.0</td>\n",
       "      <td>1080.0</td>\n",
       "      <td>Alabama</td>\n",
       "      <td>100.0</td>\n",
       "      <td>19.1</td>\n",
       "      <td>6.0</td>\n",
       "      <td>595.0</td>\n",
       "      <td>571.0</td>\n",
       "      <td>1166.0</td>\n",
       "    </tr>\n",
       "    <tr>\n",
       "      <th>1</th>\n",
       "      <td>Alaska</td>\n",
       "      <td>65.0</td>\n",
       "      <td>18.7</td>\n",
       "      <td>19.8</td>\n",
       "      <td>20.4</td>\n",
       "      <td>19.9</td>\n",
       "      <td>19.8</td>\n",
       "      <td>30.0</td>\n",
       "      <td>563.0</td>\n",
       "      <td>553.0</td>\n",
       "      <td>1116.0</td>\n",
       "      <td>Alaska</td>\n",
       "      <td>33.0</td>\n",
       "      <td>20.8</td>\n",
       "      <td>43.0</td>\n",
       "      <td>562.0</td>\n",
       "      <td>544.0</td>\n",
       "      <td>1106.0</td>\n",
       "    </tr>\n",
       "    <tr>\n",
       "      <th>2</th>\n",
       "      <td>Arizona</td>\n",
       "      <td>62.0</td>\n",
       "      <td>18.6</td>\n",
       "      <td>19.8</td>\n",
       "      <td>20.1</td>\n",
       "      <td>19.8</td>\n",
       "      <td>19.7</td>\n",
       "      <td>3.0</td>\n",
       "      <td>614.0</td>\n",
       "      <td>594.0</td>\n",
       "      <td>1208.0</td>\n",
       "      <td>Arizona</td>\n",
       "      <td>66.0</td>\n",
       "      <td>19.2</td>\n",
       "      <td>29.0</td>\n",
       "      <td>577.0</td>\n",
       "      <td>572.0</td>\n",
       "      <td>1149.0</td>\n",
       "    </tr>\n",
       "    <tr>\n",
       "      <th>3</th>\n",
       "      <td>Arkansas</td>\n",
       "      <td>100.0</td>\n",
       "      <td>18.9</td>\n",
       "      <td>19.0</td>\n",
       "      <td>19.7</td>\n",
       "      <td>19.5</td>\n",
       "      <td>19.4</td>\n",
       "      <td>53.0</td>\n",
       "      <td>531.0</td>\n",
       "      <td>524.0</td>\n",
       "      <td>1055.0</td>\n",
       "      <td>Arkansas</td>\n",
       "      <td>100.0</td>\n",
       "      <td>19.4</td>\n",
       "      <td>5.0</td>\n",
       "      <td>592.0</td>\n",
       "      <td>576.0</td>\n",
       "      <td>1169.0</td>\n",
       "    </tr>\n",
       "    <tr>\n",
       "      <th>4</th>\n",
       "      <td>California</td>\n",
       "      <td>31.0</td>\n",
       "      <td>22.5</td>\n",
       "      <td>22.7</td>\n",
       "      <td>23.1</td>\n",
       "      <td>22.2</td>\n",
       "      <td>22.8</td>\n",
       "      <td>11.0</td>\n",
       "      <td>606.0</td>\n",
       "      <td>595.0</td>\n",
       "      <td>1201.0</td>\n",
       "      <td>California</td>\n",
       "      <td>27.0</td>\n",
       "      <td>22.7</td>\n",
       "      <td>60.0</td>\n",
       "      <td>540.0</td>\n",
       "      <td>536.0</td>\n",
       "      <td>1076.0</td>\n",
       "    </tr>\n",
       "  </tbody>\n",
       "</table>\n",
       "</div>"
      ],
      "text/plain": [
       "        state  act_2017_participation  act_2017_english  act_2017_math  \\\n",
       "0     Alabama                   100.0              18.9           18.4   \n",
       "1      Alaska                    65.0              18.7           19.8   \n",
       "2     Arizona                    62.0              18.6           19.8   \n",
       "3    Arkansas                   100.0              18.9           19.0   \n",
       "4  California                    31.0              22.5           22.7   \n",
       "\n",
       "   act_2017_reading  act_2017_science  act_2017_composite  \\\n",
       "0              19.7              19.4                19.2   \n",
       "1              20.4              19.9                19.8   \n",
       "2              20.1              19.8                19.7   \n",
       "3              19.7              19.5                19.4   \n",
       "4              23.1              22.2                22.8   \n",
       "\n",
       "   sat_2017_participation  sat_2017_reading_writing  sat_2017_math  \\\n",
       "0                    38.0                     547.0          533.0   \n",
       "1                    30.0                     563.0          553.0   \n",
       "2                     3.0                     614.0          594.0   \n",
       "3                    53.0                     531.0          524.0   \n",
       "4                    11.0                     606.0          595.0   \n",
       "\n",
       "   sat_2017_total       state  act_2018_participation  act_2018_composite  \\\n",
       "0          1080.0     Alabama                   100.0                19.1   \n",
       "1          1116.0      Alaska                    33.0                20.8   \n",
       "2          1208.0     Arizona                    66.0                19.2   \n",
       "3          1055.0    Arkansas                   100.0                19.4   \n",
       "4          1201.0  California                    27.0                22.7   \n",
       "\n",
       "   sat_2018_participation  sat_2018_reading_writing  sat_2018_math  \\\n",
       "0                     6.0                     595.0          571.0   \n",
       "1                    43.0                     562.0          544.0   \n",
       "2                    29.0                     577.0          572.0   \n",
       "3                     5.0                     592.0          576.0   \n",
       "4                    60.0                     540.0          536.0   \n",
       "\n",
       "   sat_2018_total  \n",
       "0          1166.0  \n",
       "1          1106.0  \n",
       "2          1149.0  \n",
       "3          1169.0  \n",
       "4          1076.0  "
      ]
     },
     "execution_count": 62,
     "metadata": {},
     "output_type": "execute_result"
    }
   ],
   "source": [
    "combined.head()"
   ]
  },
  {
   "cell_type": "markdown",
   "metadata": {},
   "source": [
    "**We will now write our combined data set to a .csv file:**"
   ]
  },
  {
   "cell_type": "code",
   "execution_count": 9,
   "metadata": {},
   "outputs": [],
   "source": [
    "combined.to_csv('../data/final.csv')"
   ]
  },
  {
   "cell_type": "markdown",
   "metadata": {},
   "source": [
    "## Exploratory Data Analysis\n",
    "\n",
    "\n",
    "### Summary Statistics\n",
    "Transpose the output of pandas `describe` method to create a quick overview of each numeric feature."
   ]
  },
  {
   "cell_type": "markdown",
   "metadata": {},
   "source": [
    "**We will clear out our jupyter memory again and read in our combined data sets:**"
   ]
  },
  {
   "cell_type": "code",
   "execution_count": 78,
   "metadata": {},
   "outputs": [
    {
     "name": "stdout",
     "output_type": "stream",
     "text": [
      "\u001b[H\u001b[2J"
     ]
    }
   ],
   "source": [
    "clear()"
   ]
  },
  {
   "cell_type": "code",
   "execution_count": 79,
   "metadata": {},
   "outputs": [],
   "source": [
    "# Importing our libraries\n",
    "import numpy as np\n",
    "import seaborn as sns\n",
    "import matplotlib.pyplot as plt\n",
    "import pandas as pd\n",
    "\n",
    "%matplotlib inline"
   ]
  },
  {
   "cell_type": "code",
   "execution_count": 80,
   "metadata": {},
   "outputs": [],
   "source": [
    "# Read in our cleaned data and turn it into a DataFrame\n",
    "test_data = pd.read_csv('../data/final.csv')"
   ]
  },
  {
   "cell_type": "code",
   "execution_count": 81,
   "metadata": {},
   "outputs": [
    {
     "data": {
      "text/html": [
       "<div>\n",
       "<style scoped>\n",
       "    .dataframe tbody tr th:only-of-type {\n",
       "        vertical-align: middle;\n",
       "    }\n",
       "\n",
       "    .dataframe tbody tr th {\n",
       "        vertical-align: top;\n",
       "    }\n",
       "\n",
       "    .dataframe thead th {\n",
       "        text-align: right;\n",
       "    }\n",
       "</style>\n",
       "<table border=\"1\" class=\"dataframe\">\n",
       "  <thead>\n",
       "    <tr style=\"text-align: right;\">\n",
       "      <th></th>\n",
       "      <th>state</th>\n",
       "      <th>act_2017_participation</th>\n",
       "      <th>act_2017_english</th>\n",
       "      <th>act_2017_math</th>\n",
       "      <th>act_2017_reading</th>\n",
       "      <th>act_2017_science</th>\n",
       "      <th>act_2017_composite</th>\n",
       "      <th>sat_2017_participation</th>\n",
       "      <th>sat_2017_reading_writing</th>\n",
       "      <th>sat_2017_math</th>\n",
       "      <th>sat_2017_total</th>\n",
       "      <th>act_2018_participation</th>\n",
       "      <th>act_2018_composite</th>\n",
       "      <th>sat_2018_participation</th>\n",
       "      <th>sat_2018_reading_writing</th>\n",
       "      <th>sat_2018_math</th>\n",
       "      <th>sat_2018_total</th>\n",
       "    </tr>\n",
       "  </thead>\n",
       "  <tbody>\n",
       "    <tr>\n",
       "      <th>0</th>\n",
       "      <td>Alabama</td>\n",
       "      <td>100.0</td>\n",
       "      <td>18.9</td>\n",
       "      <td>18.4</td>\n",
       "      <td>19.7</td>\n",
       "      <td>19.4</td>\n",
       "      <td>19.2</td>\n",
       "      <td>38.0</td>\n",
       "      <td>547.0</td>\n",
       "      <td>533.0</td>\n",
       "      <td>1080.0</td>\n",
       "      <td>100.0</td>\n",
       "      <td>19.1</td>\n",
       "      <td>6.0</td>\n",
       "      <td>595.0</td>\n",
       "      <td>571.0</td>\n",
       "      <td>1166.0</td>\n",
       "    </tr>\n",
       "    <tr>\n",
       "      <th>1</th>\n",
       "      <td>Alaska</td>\n",
       "      <td>65.0</td>\n",
       "      <td>18.7</td>\n",
       "      <td>19.8</td>\n",
       "      <td>20.4</td>\n",
       "      <td>19.9</td>\n",
       "      <td>19.8</td>\n",
       "      <td>30.0</td>\n",
       "      <td>563.0</td>\n",
       "      <td>553.0</td>\n",
       "      <td>1116.0</td>\n",
       "      <td>33.0</td>\n",
       "      <td>20.8</td>\n",
       "      <td>43.0</td>\n",
       "      <td>562.0</td>\n",
       "      <td>544.0</td>\n",
       "      <td>1106.0</td>\n",
       "    </tr>\n",
       "    <tr>\n",
       "      <th>2</th>\n",
       "      <td>Arizona</td>\n",
       "      <td>62.0</td>\n",
       "      <td>18.6</td>\n",
       "      <td>19.8</td>\n",
       "      <td>20.1</td>\n",
       "      <td>19.8</td>\n",
       "      <td>19.7</td>\n",
       "      <td>3.0</td>\n",
       "      <td>614.0</td>\n",
       "      <td>594.0</td>\n",
       "      <td>1208.0</td>\n",
       "      <td>66.0</td>\n",
       "      <td>19.2</td>\n",
       "      <td>29.0</td>\n",
       "      <td>577.0</td>\n",
       "      <td>572.0</td>\n",
       "      <td>1149.0</td>\n",
       "    </tr>\n",
       "    <tr>\n",
       "      <th>3</th>\n",
       "      <td>Arkansas</td>\n",
       "      <td>100.0</td>\n",
       "      <td>18.9</td>\n",
       "      <td>19.0</td>\n",
       "      <td>19.7</td>\n",
       "      <td>19.5</td>\n",
       "      <td>19.4</td>\n",
       "      <td>53.0</td>\n",
       "      <td>531.0</td>\n",
       "      <td>524.0</td>\n",
       "      <td>1055.0</td>\n",
       "      <td>100.0</td>\n",
       "      <td>19.4</td>\n",
       "      <td>5.0</td>\n",
       "      <td>592.0</td>\n",
       "      <td>576.0</td>\n",
       "      <td>1169.0</td>\n",
       "    </tr>\n",
       "    <tr>\n",
       "      <th>4</th>\n",
       "      <td>California</td>\n",
       "      <td>31.0</td>\n",
       "      <td>22.5</td>\n",
       "      <td>22.7</td>\n",
       "      <td>23.1</td>\n",
       "      <td>22.2</td>\n",
       "      <td>22.8</td>\n",
       "      <td>11.0</td>\n",
       "      <td>606.0</td>\n",
       "      <td>595.0</td>\n",
       "      <td>1201.0</td>\n",
       "      <td>27.0</td>\n",
       "      <td>22.7</td>\n",
       "      <td>60.0</td>\n",
       "      <td>540.0</td>\n",
       "      <td>536.0</td>\n",
       "      <td>1076.0</td>\n",
       "    </tr>\n",
       "  </tbody>\n",
       "</table>\n",
       "</div>"
      ],
      "text/plain": [
       "        state  act_2017_participation  act_2017_english  act_2017_math  \\\n",
       "0     Alabama                   100.0              18.9           18.4   \n",
       "1      Alaska                    65.0              18.7           19.8   \n",
       "2     Arizona                    62.0              18.6           19.8   \n",
       "3    Arkansas                   100.0              18.9           19.0   \n",
       "4  California                    31.0              22.5           22.7   \n",
       "\n",
       "   act_2017_reading  act_2017_science  act_2017_composite  \\\n",
       "0              19.7              19.4                19.2   \n",
       "1              20.4              19.9                19.8   \n",
       "2              20.1              19.8                19.7   \n",
       "3              19.7              19.5                19.4   \n",
       "4              23.1              22.2                22.8   \n",
       "\n",
       "   sat_2017_participation  sat_2017_reading_writing  sat_2017_math  \\\n",
       "0                    38.0                     547.0          533.0   \n",
       "1                    30.0                     563.0          553.0   \n",
       "2                     3.0                     614.0          594.0   \n",
       "3                    53.0                     531.0          524.0   \n",
       "4                    11.0                     606.0          595.0   \n",
       "\n",
       "   sat_2017_total  act_2018_participation  act_2018_composite  \\\n",
       "0          1080.0                   100.0                19.1   \n",
       "1          1116.0                    33.0                20.8   \n",
       "2          1208.0                    66.0                19.2   \n",
       "3          1055.0                   100.0                19.4   \n",
       "4          1201.0                    27.0                22.7   \n",
       "\n",
       "   sat_2018_participation  sat_2018_reading_writing  sat_2018_math  \\\n",
       "0                     6.0                     595.0          571.0   \n",
       "1                    43.0                     562.0          544.0   \n",
       "2                    29.0                     577.0          572.0   \n",
       "3                     5.0                     592.0          576.0   \n",
       "4                    60.0                     540.0          536.0   \n",
       "\n",
       "   sat_2018_total  \n",
       "0          1166.0  \n",
       "1          1106.0  \n",
       "2          1149.0  \n",
       "3          1169.0  \n",
       "4          1076.0  "
      ]
     },
     "execution_count": 81,
     "metadata": {},
     "output_type": "execute_result"
    }
   ],
   "source": [
    "# There is a unwanted column in the combined data, we will remove it\n",
    "test_data.drop(['Unnamed: 0'], axis=1, inplace = True)\n",
    "test_data.head()"
   ]
  },
  {
   "cell_type": "code",
   "execution_count": 82,
   "metadata": {},
   "outputs": [
    {
     "data": {
      "text/html": [
       "<div>\n",
       "<style scoped>\n",
       "    .dataframe tbody tr th:only-of-type {\n",
       "        vertical-align: middle;\n",
       "    }\n",
       "\n",
       "    .dataframe tbody tr th {\n",
       "        vertical-align: top;\n",
       "    }\n",
       "\n",
       "    .dataframe thead th {\n",
       "        text-align: right;\n",
       "    }\n",
       "</style>\n",
       "<table border=\"1\" class=\"dataframe\">\n",
       "  <thead>\n",
       "    <tr style=\"text-align: right;\">\n",
       "      <th></th>\n",
       "      <th>0</th>\n",
       "      <th>1</th>\n",
       "      <th>2</th>\n",
       "      <th>3</th>\n",
       "      <th>4</th>\n",
       "      <th>5</th>\n",
       "      <th>6</th>\n",
       "      <th>7</th>\n",
       "      <th>8</th>\n",
       "      <th>9</th>\n",
       "      <th>...</th>\n",
       "      <th>41</th>\n",
       "      <th>42</th>\n",
       "      <th>43</th>\n",
       "      <th>44</th>\n",
       "      <th>45</th>\n",
       "      <th>46</th>\n",
       "      <th>47</th>\n",
       "      <th>48</th>\n",
       "      <th>49</th>\n",
       "      <th>50</th>\n",
       "    </tr>\n",
       "  </thead>\n",
       "  <tbody>\n",
       "    <tr>\n",
       "      <th>state</th>\n",
       "      <td>Alabama</td>\n",
       "      <td>Alaska</td>\n",
       "      <td>Arizona</td>\n",
       "      <td>Arkansas</td>\n",
       "      <td>California</td>\n",
       "      <td>Colorado</td>\n",
       "      <td>Connecticut</td>\n",
       "      <td>Delaware</td>\n",
       "      <td>District of Columbia</td>\n",
       "      <td>Florida</td>\n",
       "      <td>...</td>\n",
       "      <td>South Dakota</td>\n",
       "      <td>Tennessee</td>\n",
       "      <td>Texas</td>\n",
       "      <td>Utah</td>\n",
       "      <td>Vermont</td>\n",
       "      <td>Virginia</td>\n",
       "      <td>Washington</td>\n",
       "      <td>West Virginia</td>\n",
       "      <td>Wisconsin</td>\n",
       "      <td>Wyoming</td>\n",
       "    </tr>\n",
       "    <tr>\n",
       "      <th>act_2017_participation</th>\n",
       "      <td>100</td>\n",
       "      <td>65</td>\n",
       "      <td>62</td>\n",
       "      <td>100</td>\n",
       "      <td>31</td>\n",
       "      <td>100</td>\n",
       "      <td>31</td>\n",
       "      <td>18</td>\n",
       "      <td>32</td>\n",
       "      <td>73</td>\n",
       "      <td>...</td>\n",
       "      <td>80</td>\n",
       "      <td>100</td>\n",
       "      <td>45</td>\n",
       "      <td>100</td>\n",
       "      <td>29</td>\n",
       "      <td>29</td>\n",
       "      <td>29</td>\n",
       "      <td>69</td>\n",
       "      <td>100</td>\n",
       "      <td>100</td>\n",
       "    </tr>\n",
       "    <tr>\n",
       "      <th>act_2017_english</th>\n",
       "      <td>18.9</td>\n",
       "      <td>18.7</td>\n",
       "      <td>18.6</td>\n",
       "      <td>18.9</td>\n",
       "      <td>22.5</td>\n",
       "      <td>20.1</td>\n",
       "      <td>25.5</td>\n",
       "      <td>24.1</td>\n",
       "      <td>24.4</td>\n",
       "      <td>19</td>\n",
       "      <td>...</td>\n",
       "      <td>20.7</td>\n",
       "      <td>19.5</td>\n",
       "      <td>19.5</td>\n",
       "      <td>19.5</td>\n",
       "      <td>23.3</td>\n",
       "      <td>23.5</td>\n",
       "      <td>20.9</td>\n",
       "      <td>20</td>\n",
       "      <td>19.7</td>\n",
       "      <td>19.4</td>\n",
       "    </tr>\n",
       "    <tr>\n",
       "      <th>act_2017_math</th>\n",
       "      <td>18.4</td>\n",
       "      <td>19.8</td>\n",
       "      <td>19.8</td>\n",
       "      <td>19</td>\n",
       "      <td>22.7</td>\n",
       "      <td>20.3</td>\n",
       "      <td>24.6</td>\n",
       "      <td>23.4</td>\n",
       "      <td>23.5</td>\n",
       "      <td>19.4</td>\n",
       "      <td>...</td>\n",
       "      <td>21.5</td>\n",
       "      <td>19.2</td>\n",
       "      <td>20.7</td>\n",
       "      <td>19.9</td>\n",
       "      <td>23.1</td>\n",
       "      <td>23.3</td>\n",
       "      <td>21.9</td>\n",
       "      <td>19.4</td>\n",
       "      <td>20.4</td>\n",
       "      <td>19.8</td>\n",
       "    </tr>\n",
       "    <tr>\n",
       "      <th>act_2017_reading</th>\n",
       "      <td>19.7</td>\n",
       "      <td>20.4</td>\n",
       "      <td>20.1</td>\n",
       "      <td>19.7</td>\n",
       "      <td>23.1</td>\n",
       "      <td>21.2</td>\n",
       "      <td>25.6</td>\n",
       "      <td>24.8</td>\n",
       "      <td>24.9</td>\n",
       "      <td>21</td>\n",
       "      <td>...</td>\n",
       "      <td>22.3</td>\n",
       "      <td>20.1</td>\n",
       "      <td>21.1</td>\n",
       "      <td>20.8</td>\n",
       "      <td>24.4</td>\n",
       "      <td>24.6</td>\n",
       "      <td>22.1</td>\n",
       "      <td>21.2</td>\n",
       "      <td>20.6</td>\n",
       "      <td>20.8</td>\n",
       "    </tr>\n",
       "    <tr>\n",
       "      <th>act_2017_science</th>\n",
       "      <td>19.4</td>\n",
       "      <td>19.9</td>\n",
       "      <td>19.8</td>\n",
       "      <td>19.5</td>\n",
       "      <td>22.2</td>\n",
       "      <td>20.9</td>\n",
       "      <td>24.6</td>\n",
       "      <td>23.6</td>\n",
       "      <td>23.5</td>\n",
       "      <td>19.4</td>\n",
       "      <td>...</td>\n",
       "      <td>22</td>\n",
       "      <td>19.9</td>\n",
       "      <td>20.9</td>\n",
       "      <td>20.6</td>\n",
       "      <td>23.2</td>\n",
       "      <td>23.5</td>\n",
       "      <td>22</td>\n",
       "      <td>20.5</td>\n",
       "      <td>20.9</td>\n",
       "      <td>20.6</td>\n",
       "    </tr>\n",
       "    <tr>\n",
       "      <th>act_2017_composite</th>\n",
       "      <td>19.2</td>\n",
       "      <td>19.8</td>\n",
       "      <td>19.7</td>\n",
       "      <td>19.4</td>\n",
       "      <td>22.8</td>\n",
       "      <td>20.8</td>\n",
       "      <td>25.2</td>\n",
       "      <td>24.1</td>\n",
       "      <td>24.2</td>\n",
       "      <td>19.8</td>\n",
       "      <td>...</td>\n",
       "      <td>21.8</td>\n",
       "      <td>19.8</td>\n",
       "      <td>20.7</td>\n",
       "      <td>20.3</td>\n",
       "      <td>23.6</td>\n",
       "      <td>23.8</td>\n",
       "      <td>21.9</td>\n",
       "      <td>20.4</td>\n",
       "      <td>20.5</td>\n",
       "      <td>20.2</td>\n",
       "    </tr>\n",
       "    <tr>\n",
       "      <th>sat_2017_participation</th>\n",
       "      <td>38</td>\n",
       "      <td>30</td>\n",
       "      <td>3</td>\n",
       "      <td>53</td>\n",
       "      <td>11</td>\n",
       "      <td>100</td>\n",
       "      <td>100</td>\n",
       "      <td>100</td>\n",
       "      <td>83</td>\n",
       "      <td>61</td>\n",
       "      <td>...</td>\n",
       "      <td>5</td>\n",
       "      <td>62</td>\n",
       "      <td>3</td>\n",
       "      <td>60</td>\n",
       "      <td>65</td>\n",
       "      <td>64</td>\n",
       "      <td>14</td>\n",
       "      <td>3</td>\n",
       "      <td>3</td>\n",
       "      <td>NaN</td>\n",
       "    </tr>\n",
       "    <tr>\n",
       "      <th>sat_2017_reading_writing</th>\n",
       "      <td>547</td>\n",
       "      <td>563</td>\n",
       "      <td>614</td>\n",
       "      <td>531</td>\n",
       "      <td>606</td>\n",
       "      <td>530</td>\n",
       "      <td>503</td>\n",
       "      <td>482</td>\n",
       "      <td>520</td>\n",
       "      <td>535</td>\n",
       "      <td>...</td>\n",
       "      <td>623</td>\n",
       "      <td>513</td>\n",
       "      <td>624</td>\n",
       "      <td>562</td>\n",
       "      <td>561</td>\n",
       "      <td>541</td>\n",
       "      <td>558</td>\n",
       "      <td>642</td>\n",
       "      <td>626</td>\n",
       "      <td>NaN</td>\n",
       "    </tr>\n",
       "    <tr>\n",
       "      <th>sat_2017_math</th>\n",
       "      <td>533</td>\n",
       "      <td>553</td>\n",
       "      <td>594</td>\n",
       "      <td>524</td>\n",
       "      <td>595</td>\n",
       "      <td>512</td>\n",
       "      <td>492</td>\n",
       "      <td>468</td>\n",
       "      <td>497</td>\n",
       "      <td>515</td>\n",
       "      <td>...</td>\n",
       "      <td>604</td>\n",
       "      <td>507</td>\n",
       "      <td>614</td>\n",
       "      <td>551</td>\n",
       "      <td>541</td>\n",
       "      <td>534</td>\n",
       "      <td>528</td>\n",
       "      <td>649</td>\n",
       "      <td>604</td>\n",
       "      <td>NaN</td>\n",
       "    </tr>\n",
       "    <tr>\n",
       "      <th>sat_2017_total</th>\n",
       "      <td>1080</td>\n",
       "      <td>1116</td>\n",
       "      <td>1208</td>\n",
       "      <td>1055</td>\n",
       "      <td>1201</td>\n",
       "      <td>1041</td>\n",
       "      <td>996</td>\n",
       "      <td>950</td>\n",
       "      <td>1017</td>\n",
       "      <td>1050</td>\n",
       "      <td>...</td>\n",
       "      <td>1228</td>\n",
       "      <td>1020</td>\n",
       "      <td>1238</td>\n",
       "      <td>1114</td>\n",
       "      <td>1102</td>\n",
       "      <td>1075</td>\n",
       "      <td>1086</td>\n",
       "      <td>1291</td>\n",
       "      <td>1230</td>\n",
       "      <td>NaN</td>\n",
       "    </tr>\n",
       "    <tr>\n",
       "      <th>act_2018_participation</th>\n",
       "      <td>100</td>\n",
       "      <td>33</td>\n",
       "      <td>66</td>\n",
       "      <td>100</td>\n",
       "      <td>27</td>\n",
       "      <td>30</td>\n",
       "      <td>26</td>\n",
       "      <td>17</td>\n",
       "      <td>32</td>\n",
       "      <td>66</td>\n",
       "      <td>...</td>\n",
       "      <td>77</td>\n",
       "      <td>100</td>\n",
       "      <td>45</td>\n",
       "      <td>100</td>\n",
       "      <td>24</td>\n",
       "      <td>24</td>\n",
       "      <td>24</td>\n",
       "      <td>65</td>\n",
       "      <td>100</td>\n",
       "      <td>100</td>\n",
       "    </tr>\n",
       "    <tr>\n",
       "      <th>act_2018_composite</th>\n",
       "      <td>19.1</td>\n",
       "      <td>20.8</td>\n",
       "      <td>19.2</td>\n",
       "      <td>19.4</td>\n",
       "      <td>22.7</td>\n",
       "      <td>23.9</td>\n",
       "      <td>25.6</td>\n",
       "      <td>23.8</td>\n",
       "      <td>23.6</td>\n",
       "      <td>19.9</td>\n",
       "      <td>...</td>\n",
       "      <td>21.9</td>\n",
       "      <td>19.6</td>\n",
       "      <td>20.7</td>\n",
       "      <td>20.4</td>\n",
       "      <td>24.1</td>\n",
       "      <td>23.9</td>\n",
       "      <td>22.2</td>\n",
       "      <td>20.3</td>\n",
       "      <td>20.5</td>\n",
       "      <td>20</td>\n",
       "    </tr>\n",
       "    <tr>\n",
       "      <th>sat_2018_participation</th>\n",
       "      <td>6</td>\n",
       "      <td>43</td>\n",
       "      <td>29</td>\n",
       "      <td>5</td>\n",
       "      <td>60</td>\n",
       "      <td>100</td>\n",
       "      <td>100</td>\n",
       "      <td>100</td>\n",
       "      <td>92</td>\n",
       "      <td>56</td>\n",
       "      <td>...</td>\n",
       "      <td>6</td>\n",
       "      <td>66</td>\n",
       "      <td>4</td>\n",
       "      <td>64</td>\n",
       "      <td>68</td>\n",
       "      <td>69</td>\n",
       "      <td>28</td>\n",
       "      <td>3</td>\n",
       "      <td>3</td>\n",
       "      <td>NaN</td>\n",
       "    </tr>\n",
       "    <tr>\n",
       "      <th>sat_2018_reading_writing</th>\n",
       "      <td>595</td>\n",
       "      <td>562</td>\n",
       "      <td>577</td>\n",
       "      <td>592</td>\n",
       "      <td>540</td>\n",
       "      <td>519</td>\n",
       "      <td>535</td>\n",
       "      <td>505</td>\n",
       "      <td>497</td>\n",
       "      <td>550</td>\n",
       "      <td>...</td>\n",
       "      <td>624</td>\n",
       "      <td>520</td>\n",
       "      <td>480</td>\n",
       "      <td>565</td>\n",
       "      <td>567</td>\n",
       "      <td>543</td>\n",
       "      <td>513</td>\n",
       "      <td>641</td>\n",
       "      <td>633</td>\n",
       "      <td>NaN</td>\n",
       "    </tr>\n",
       "    <tr>\n",
       "      <th>sat_2018_math</th>\n",
       "      <td>571</td>\n",
       "      <td>544</td>\n",
       "      <td>572</td>\n",
       "      <td>576</td>\n",
       "      <td>536</td>\n",
       "      <td>506</td>\n",
       "      <td>519</td>\n",
       "      <td>492</td>\n",
       "      <td>480</td>\n",
       "      <td>549</td>\n",
       "      <td>...</td>\n",
       "      <td>607</td>\n",
       "      <td>512</td>\n",
       "      <td>530</td>\n",
       "      <td>554</td>\n",
       "      <td>550</td>\n",
       "      <td>538</td>\n",
       "      <td>486</td>\n",
       "      <td>653</td>\n",
       "      <td>625</td>\n",
       "      <td>NaN</td>\n",
       "    </tr>\n",
       "    <tr>\n",
       "      <th>sat_2018_total</th>\n",
       "      <td>1166</td>\n",
       "      <td>1106</td>\n",
       "      <td>1149</td>\n",
       "      <td>1169</td>\n",
       "      <td>1076</td>\n",
       "      <td>1025</td>\n",
       "      <td>1053</td>\n",
       "      <td>998</td>\n",
       "      <td>977</td>\n",
       "      <td>1099</td>\n",
       "      <td>...</td>\n",
       "      <td>1231</td>\n",
       "      <td>1032</td>\n",
       "      <td>1010</td>\n",
       "      <td>1120</td>\n",
       "      <td>1117</td>\n",
       "      <td>1081</td>\n",
       "      <td>999</td>\n",
       "      <td>1294</td>\n",
       "      <td>1257</td>\n",
       "      <td>NaN</td>\n",
       "    </tr>\n",
       "  </tbody>\n",
       "</table>\n",
       "<p>17 rows × 51 columns</p>\n",
       "</div>"
      ],
      "text/plain": [
       "                               0       1        2         3           4   \\\n",
       "state                     Alabama  Alaska  Arizona  Arkansas  California   \n",
       "act_2017_participation        100      65       62       100          31   \n",
       "act_2017_english             18.9    18.7     18.6      18.9        22.5   \n",
       "act_2017_math                18.4    19.8     19.8        19        22.7   \n",
       "act_2017_reading             19.7    20.4     20.1      19.7        23.1   \n",
       "act_2017_science             19.4    19.9     19.8      19.5        22.2   \n",
       "act_2017_composite           19.2    19.8     19.7      19.4        22.8   \n",
       "sat_2017_participation         38      30        3        53          11   \n",
       "sat_2017_reading_writing      547     563      614       531         606   \n",
       "sat_2017_math                 533     553      594       524         595   \n",
       "sat_2017_total               1080    1116     1208      1055        1201   \n",
       "act_2018_participation        100      33       66       100          27   \n",
       "act_2018_composite           19.1    20.8     19.2      19.4        22.7   \n",
       "sat_2018_participation          6      43       29         5          60   \n",
       "sat_2018_reading_writing      595     562      577       592         540   \n",
       "sat_2018_math                 571     544      572       576         536   \n",
       "sat_2018_total               1166    1106     1149      1169        1076   \n",
       "\n",
       "                                5            6         7   \\\n",
       "state                     Colorado  Connecticut  Delaware   \n",
       "act_2017_participation         100           31        18   \n",
       "act_2017_english              20.1         25.5      24.1   \n",
       "act_2017_math                 20.3         24.6      23.4   \n",
       "act_2017_reading              21.2         25.6      24.8   \n",
       "act_2017_science              20.9         24.6      23.6   \n",
       "act_2017_composite            20.8         25.2      24.1   \n",
       "sat_2017_participation         100          100       100   \n",
       "sat_2017_reading_writing       530          503       482   \n",
       "sat_2017_math                  512          492       468   \n",
       "sat_2017_total                1041          996       950   \n",
       "act_2018_participation          30           26        17   \n",
       "act_2018_composite            23.9         25.6      23.8   \n",
       "sat_2018_participation         100          100       100   \n",
       "sat_2018_reading_writing       519          535       505   \n",
       "sat_2018_math                  506          519       492   \n",
       "sat_2018_total                1025         1053       998   \n",
       "\n",
       "                                            8        9   ...            41  \\\n",
       "state                     District of Columbia  Florida  ...  South Dakota   \n",
       "act_2017_participation                      32       73  ...            80   \n",
       "act_2017_english                          24.4       19  ...          20.7   \n",
       "act_2017_math                             23.5     19.4  ...          21.5   \n",
       "act_2017_reading                          24.9       21  ...          22.3   \n",
       "act_2017_science                          23.5     19.4  ...            22   \n",
       "act_2017_composite                        24.2     19.8  ...          21.8   \n",
       "sat_2017_participation                      83       61  ...             5   \n",
       "sat_2017_reading_writing                   520      535  ...           623   \n",
       "sat_2017_math                              497      515  ...           604   \n",
       "sat_2017_total                            1017     1050  ...          1228   \n",
       "act_2018_participation                      32       66  ...            77   \n",
       "act_2018_composite                        23.6     19.9  ...          21.9   \n",
       "sat_2018_participation                      92       56  ...             6   \n",
       "sat_2018_reading_writing                   497      550  ...           624   \n",
       "sat_2018_math                              480      549  ...           607   \n",
       "sat_2018_total                             977     1099  ...          1231   \n",
       "\n",
       "                                 42     43    44       45        46  \\\n",
       "state                     Tennessee  Texas  Utah  Vermont  Virginia   \n",
       "act_2017_participation          100     45   100       29        29   \n",
       "act_2017_english               19.5   19.5  19.5     23.3      23.5   \n",
       "act_2017_math                  19.2   20.7  19.9     23.1      23.3   \n",
       "act_2017_reading               20.1   21.1  20.8     24.4      24.6   \n",
       "act_2017_science               19.9   20.9  20.6     23.2      23.5   \n",
       "act_2017_composite             19.8   20.7  20.3     23.6      23.8   \n",
       "sat_2017_participation           62      3    60       65        64   \n",
       "sat_2017_reading_writing        513    624   562      561       541   \n",
       "sat_2017_math                   507    614   551      541       534   \n",
       "sat_2017_total                 1020   1238  1114     1102      1075   \n",
       "act_2018_participation          100     45   100       24        24   \n",
       "act_2018_composite             19.6   20.7  20.4     24.1      23.9   \n",
       "sat_2018_participation           66      4    64       68        69   \n",
       "sat_2018_reading_writing        520    480   565      567       543   \n",
       "sat_2018_math                   512    530   554      550       538   \n",
       "sat_2018_total                 1032   1010  1120     1117      1081   \n",
       "\n",
       "                                  47             48         49       50  \n",
       "state                     Washington  West Virginia  Wisconsin  Wyoming  \n",
       "act_2017_participation            29             69        100      100  \n",
       "act_2017_english                20.9             20       19.7     19.4  \n",
       "act_2017_math                   21.9           19.4       20.4     19.8  \n",
       "act_2017_reading                22.1           21.2       20.6     20.8  \n",
       "act_2017_science                  22           20.5       20.9     20.6  \n",
       "act_2017_composite              21.9           20.4       20.5     20.2  \n",
       "sat_2017_participation            14              3          3      NaN  \n",
       "sat_2017_reading_writing         558            642        626      NaN  \n",
       "sat_2017_math                    528            649        604      NaN  \n",
       "sat_2017_total                  1086           1291       1230      NaN  \n",
       "act_2018_participation            24             65        100      100  \n",
       "act_2018_composite              22.2           20.3       20.5       20  \n",
       "sat_2018_participation            28              3          3      NaN  \n",
       "sat_2018_reading_writing         513            641        633      NaN  \n",
       "sat_2018_math                    486            653        625      NaN  \n",
       "sat_2018_total                   999           1294       1257      NaN  \n",
       "\n",
       "[17 rows x 51 columns]"
      ]
     },
     "execution_count": 82,
     "metadata": {},
     "output_type": "execute_result"
    }
   ],
   "source": [
    "# I will now transpose the data to get a better view of the distribution across states\n",
    "test_data.transpose()"
   ]
  },
  {
   "cell_type": "markdown",
   "metadata": {},
   "source": [
    "**There are some NaN values in the Wyoming Column. We will replace these with zeros:**"
   ]
  },
  {
   "cell_type": "code",
   "execution_count": 83,
   "metadata": {},
   "outputs": [
    {
     "data": {
      "text/html": [
       "<div>\n",
       "<style scoped>\n",
       "    .dataframe tbody tr th:only-of-type {\n",
       "        vertical-align: middle;\n",
       "    }\n",
       "\n",
       "    .dataframe tbody tr th {\n",
       "        vertical-align: top;\n",
       "    }\n",
       "\n",
       "    .dataframe thead th {\n",
       "        text-align: right;\n",
       "    }\n",
       "</style>\n",
       "<table border=\"1\" class=\"dataframe\">\n",
       "  <thead>\n",
       "    <tr style=\"text-align: right;\">\n",
       "      <th></th>\n",
       "      <th>state</th>\n",
       "      <th>act_2017_participation</th>\n",
       "      <th>act_2017_english</th>\n",
       "      <th>act_2017_math</th>\n",
       "      <th>act_2017_reading</th>\n",
       "      <th>act_2017_science</th>\n",
       "      <th>act_2017_composite</th>\n",
       "      <th>sat_2017_participation</th>\n",
       "      <th>sat_2017_reading_writing</th>\n",
       "      <th>sat_2017_math</th>\n",
       "      <th>sat_2017_total</th>\n",
       "      <th>act_2018_participation</th>\n",
       "      <th>act_2018_composite</th>\n",
       "      <th>sat_2018_participation</th>\n",
       "      <th>sat_2018_reading_writing</th>\n",
       "      <th>sat_2018_math</th>\n",
       "      <th>sat_2018_total</th>\n",
       "    </tr>\n",
       "  </thead>\n",
       "  <tbody>\n",
       "    <tr>\n",
       "      <th>46</th>\n",
       "      <td>Virginia</td>\n",
       "      <td>29.0</td>\n",
       "      <td>23.5</td>\n",
       "      <td>23.3</td>\n",
       "      <td>24.6</td>\n",
       "      <td>23.5</td>\n",
       "      <td>23.8</td>\n",
       "      <td>64.0</td>\n",
       "      <td>541.0</td>\n",
       "      <td>534.0</td>\n",
       "      <td>1075.0</td>\n",
       "      <td>24.0</td>\n",
       "      <td>23.9</td>\n",
       "      <td>69.0</td>\n",
       "      <td>543.0</td>\n",
       "      <td>538.0</td>\n",
       "      <td>1081.0</td>\n",
       "    </tr>\n",
       "    <tr>\n",
       "      <th>47</th>\n",
       "      <td>Washington</td>\n",
       "      <td>29.0</td>\n",
       "      <td>20.9</td>\n",
       "      <td>21.9</td>\n",
       "      <td>22.1</td>\n",
       "      <td>22.0</td>\n",
       "      <td>21.9</td>\n",
       "      <td>14.0</td>\n",
       "      <td>558.0</td>\n",
       "      <td>528.0</td>\n",
       "      <td>1086.0</td>\n",
       "      <td>24.0</td>\n",
       "      <td>22.2</td>\n",
       "      <td>28.0</td>\n",
       "      <td>513.0</td>\n",
       "      <td>486.0</td>\n",
       "      <td>999.0</td>\n",
       "    </tr>\n",
       "    <tr>\n",
       "      <th>48</th>\n",
       "      <td>West Virginia</td>\n",
       "      <td>69.0</td>\n",
       "      <td>20.0</td>\n",
       "      <td>19.4</td>\n",
       "      <td>21.2</td>\n",
       "      <td>20.5</td>\n",
       "      <td>20.4</td>\n",
       "      <td>3.0</td>\n",
       "      <td>642.0</td>\n",
       "      <td>649.0</td>\n",
       "      <td>1291.0</td>\n",
       "      <td>65.0</td>\n",
       "      <td>20.3</td>\n",
       "      <td>3.0</td>\n",
       "      <td>641.0</td>\n",
       "      <td>653.0</td>\n",
       "      <td>1294.0</td>\n",
       "    </tr>\n",
       "    <tr>\n",
       "      <th>49</th>\n",
       "      <td>Wisconsin</td>\n",
       "      <td>100.0</td>\n",
       "      <td>19.7</td>\n",
       "      <td>20.4</td>\n",
       "      <td>20.6</td>\n",
       "      <td>20.9</td>\n",
       "      <td>20.5</td>\n",
       "      <td>3.0</td>\n",
       "      <td>626.0</td>\n",
       "      <td>604.0</td>\n",
       "      <td>1230.0</td>\n",
       "      <td>100.0</td>\n",
       "      <td>20.5</td>\n",
       "      <td>3.0</td>\n",
       "      <td>633.0</td>\n",
       "      <td>625.0</td>\n",
       "      <td>1257.0</td>\n",
       "    </tr>\n",
       "    <tr>\n",
       "      <th>50</th>\n",
       "      <td>Wyoming</td>\n",
       "      <td>100.0</td>\n",
       "      <td>19.4</td>\n",
       "      <td>19.8</td>\n",
       "      <td>20.8</td>\n",
       "      <td>20.6</td>\n",
       "      <td>20.2</td>\n",
       "      <td>0.0</td>\n",
       "      <td>0.0</td>\n",
       "      <td>0.0</td>\n",
       "      <td>0.0</td>\n",
       "      <td>100.0</td>\n",
       "      <td>20.0</td>\n",
       "      <td>0.0</td>\n",
       "      <td>0.0</td>\n",
       "      <td>0.0</td>\n",
       "      <td>0.0</td>\n",
       "    </tr>\n",
       "  </tbody>\n",
       "</table>\n",
       "</div>"
      ],
      "text/plain": [
       "            state  act_2017_participation  act_2017_english  act_2017_math  \\\n",
       "46       Virginia                    29.0              23.5           23.3   \n",
       "47     Washington                    29.0              20.9           21.9   \n",
       "48  West Virginia                    69.0              20.0           19.4   \n",
       "49      Wisconsin                   100.0              19.7           20.4   \n",
       "50        Wyoming                   100.0              19.4           19.8   \n",
       "\n",
       "    act_2017_reading  act_2017_science  act_2017_composite  \\\n",
       "46              24.6              23.5                23.8   \n",
       "47              22.1              22.0                21.9   \n",
       "48              21.2              20.5                20.4   \n",
       "49              20.6              20.9                20.5   \n",
       "50              20.8              20.6                20.2   \n",
       "\n",
       "    sat_2017_participation  sat_2017_reading_writing  sat_2017_math  \\\n",
       "46                    64.0                     541.0          534.0   \n",
       "47                    14.0                     558.0          528.0   \n",
       "48                     3.0                     642.0          649.0   \n",
       "49                     3.0                     626.0          604.0   \n",
       "50                     0.0                       0.0            0.0   \n",
       "\n",
       "    sat_2017_total  act_2018_participation  act_2018_composite  \\\n",
       "46          1075.0                    24.0                23.9   \n",
       "47          1086.0                    24.0                22.2   \n",
       "48          1291.0                    65.0                20.3   \n",
       "49          1230.0                   100.0                20.5   \n",
       "50             0.0                   100.0                20.0   \n",
       "\n",
       "    sat_2018_participation  sat_2018_reading_writing  sat_2018_math  \\\n",
       "46                    69.0                     543.0          538.0   \n",
       "47                    28.0                     513.0          486.0   \n",
       "48                     3.0                     641.0          653.0   \n",
       "49                     3.0                     633.0          625.0   \n",
       "50                     0.0                       0.0            0.0   \n",
       "\n",
       "    sat_2018_total  \n",
       "46          1081.0  \n",
       "47           999.0  \n",
       "48          1294.0  \n",
       "49          1257.0  \n",
       "50             0.0  "
      ]
     },
     "execution_count": 83,
     "metadata": {},
     "output_type": "execute_result"
    }
   ],
   "source": [
    "test_data.fillna(0, inplace = True)\n",
    "test_data.tail()"
   ]
  },
  {
   "cell_type": "markdown",
   "metadata": {},
   "source": [
    "#### Manually calculate standard deviation\n",
    "\n",
    "$$\\sigma = \\sqrt{\\frac{1}{n}\\sum_{i=1}^n(x_i - \\mu)^2}$$\n",
    "\n",
    "- Write a function to calculate standard deviation using the formula above"
   ]
  },
  {
   "cell_type": "code",
   "execution_count": 86,
   "metadata": {},
   "outputs": [
    {
     "name": "stdout",
     "output_type": "stream",
     "text": [
      "51\n"
     ]
    },
    {
     "data": {
      "text/plain": [
       "32.14084201588683"
      ]
     },
     "execution_count": 86,
     "metadata": {},
     "output_type": "execute_result"
    }
   ],
   "source": [
    "# This functions calcules the Standard Deviation\n",
    "def st_dev(x):\n",
    "    value_sum = 0\n",
    "    value_sum2 = 0\n",
    "    # This sums the values in the specified column\n",
    "    for i in range(0,x.count()):\n",
    "        value_sum = value_sum + x[i]\n",
    "    # This calculated the mean of the column\n",
    "    column_mean = value_sum / x.count()\n",
    "    # We will now calculate the St Dev\n",
    "    for i in range(0,x.count()):\n",
    "        value_sum2 = value_sum2 + (x[i] - column_mean)**2\n",
    "    print(x.count())\n",
    "    st_dev = (value_sum2 / (x.count()-1))**(0.5)\n",
    "    return st_dev\n",
    "\n",
    "# We will not calculate the Standard Deviation for the 2017 ACT Participations across Starts\n",
    "st_dev(test_data['act_2017_participation'])\n"
   ]
  },
  {
   "cell_type": "code",
   "execution_count": 87,
   "metadata": {},
   "outputs": [
    {
     "data": {
      "text/plain": [
       "32.14084201588683"
      ]
     },
     "execution_count": 87,
     "metadata": {},
     "output_type": "execute_result"
    }
   ],
   "source": [
    "# We will use the panda method to calculate the Standard Deviation to compare. THEY MATCH!!!\n",
    "test_data['act_2017_participation'].std()"
   ]
  },
  {
   "cell_type": "markdown",
   "metadata": {},
   "source": [
    "Do your manually calculated standard deviations match up with the output from pandas `describe`? What about numpy's `std` method?"
   ]
  },
  {
   "cell_type": "markdown",
   "metadata": {},
   "source": [
    "**Yes**"
   ]
  },
  {
   "cell_type": "markdown",
   "metadata": {},
   "source": [
    "- Use a **dictionary comprehension** to apply your standard deviation function to each numeric column in the dataframe.  **No loops**  \n",
    "- Assign the output to variable `sd` as a dictionary where: \n",
    "    - Each column name is now a key \n",
    "    - That standard deviation of the column is the value \n",
    "     \n",
    "*Example Output :* `{'ACT_Math': 120, 'ACT_Reading': 120, ...}`"
   ]
  },
  {
   "cell_type": "code",
   "execution_count": 186,
   "metadata": {},
   "outputs": [
    {
     "data": {
      "text/plain": [
       "0     18.4\n",
       "1     19.8\n",
       "2     19.8\n",
       "3     19.0\n",
       "4     22.7\n",
       "5     20.3\n",
       "6     24.6\n",
       "7     23.4\n",
       "8     23.5\n",
       "9     19.4\n",
       "10    20.9\n",
       "11    19.2\n",
       "12    21.8\n",
       "13    21.2\n",
       "14    22.4\n",
       "15    21.3\n",
       "16    21.3\n",
       "17    19.4\n",
       "18    18.8\n",
       "19    24.0\n",
       "20    23.1\n",
       "21    25.3\n",
       "22    23.7\n",
       "23    21.5\n",
       "24    18.1\n",
       "25    19.9\n",
       "26    20.2\n",
       "27    20.9\n",
       "28    18.0\n",
       "29    25.1\n",
       "30    23.8\n",
       "31    19.4\n",
       "32    24.0\n",
       "33    19.3\n",
       "34    20.4\n",
       "35    21.6\n",
       "36    18.8\n",
       "37    21.5\n",
       "38    23.4\n",
       "39    23.3\n",
       "40    18.6\n",
       "41    21.5\n",
       "42    19.2\n",
       "43    20.7\n",
       "44    19.9\n",
       "45    23.1\n",
       "46    23.3\n",
       "47    21.9\n",
       "48    19.4\n",
       "49    20.4\n",
       "50    19.8\n",
       "Name: act_2017_math, dtype: float64"
      ]
     },
     "execution_count": 186,
     "metadata": {},
     "output_type": "execute_result"
    }
   ],
   "source": [
    "# I can't get this code to work and I'm out of time \n",
    "\n",
    "test_list1 = list([test_data['act_2017_math']])\n",
    "  \n",
    "# Standard deviation of list \n",
    "# Using sum() + list comprehension \n",
    "sum(test_list1)# / len(test_list1))\n",
    "# variance = sum([((x - mean) ** 2) for x in test_list1]) / len(test_list1) \n",
    "# variance\n",
    "# # sd = variance ** 0.5\n",
    "# # sd\n"
   ]
  },
  {
   "cell_type": "markdown",
   "metadata": {},
   "source": [
    "Answer"
   ]
  },
  {
   "cell_type": "markdown",
   "metadata": {},
   "source": [
    "#### Investigate trends in the data\n",
    "Using sorting and/or masking (along with the `.head` method to not print our entire dataframe), consider the following questions:\n",
    "\n",
    "- Which states have the highest and lowest participation rates for the:\n",
    "    - 2017 SAT Highest? Colorado Connecticut, Delaware, Massachusetts\n",
    "    - 2017 SAT Lowerst? Wyoming, Indiana, Minnesota, Massachusetts\n",
    "    - 2018 SAT Highest? Colorado, Connecticut, Delaware, Massachusetts\n",
    "    - 2018 SAT Lowerst? Wyoming, North Carolina, West Virginia, South Carolina\n",
    "    - 2017 ACT Highest? Alabama, Kentucky, Wisconsin, Utah\n",
    "    - 2017 ACT Lowest? Maine, New Hampshire, Delaware, Rhode Island\n",
    "    - 2018 ACT Highest? Alabama, Kentucky, Wisconsin, Utah\n",
    "    - 2018 ACT Highest? Alabama, Kentucky, Wisconsin, Utah\n",
    "- Which states have the highest and lowest mean total/composite scores for the:\n",
    "    - 2017 SAT Highest Scores?  Michigan, West Virginia, West Virginia, Mississippi\n",
    "    - 2017 SAT Lowest Scores?  Wyoming, Delaware, Connecticut, Hawaii\n",
    "    - 2018 SAT Highest Scores?  Michigan, West Virginia, North Carolina, Iowa\n",
    "    - 2018 SAT Lowest Scores?  Wyoming, District of Columbia, Delaware, Washington\n",
    "    - 2017 ACT Highest Scores?  New Hampshire, Massachusetts, District of Columbia, Connecticut, Maine\n",
    "    - 2017 ACT Lowest Scores?  Nevada, Mississippi, South Carolina, Connecticut, Hawaii\n",
    "    - 2018 ACT Highest Scores?  Connecticut, Massachusetts, New Hampshire, New York\n",
    "    - 2018 ACT Lowest Scores?  Nevada, \tSouth Carolina, Mississippi, Hawaii\n",
    "- Do any states with 100% participation on a given test have a rate change year-to-year?\n",
    "    - Ohio, Nebraska both went from less than a 100% Participation in 2017 to 100% in 2018.\n",
    "    - Colorado, Illinoise both went from 100% Participation in 2017 to less than 100% in 2018.\n",
    "- Do any states show have >50% participation on *both* tests either year?\n",
    "\n",
    "Based on what you've just observed, have you identified any states that you're especially interested in? \n",
    "\n",
    "both went from less than a 100% Participation in 2017 to 100% in 2018.\n",
    "\n",
    "**You should comment on your findings at each step in a markdown cell below your code block**. Make sure you include at least one example of sorting your dataframe by a column, and one example of using boolean filtering (i.e., masking) to select a subset of the dataframe."
   ]
  },
  {
   "cell_type": "markdown",
   "metadata": {},
   "source": [
    "# Top Scores for 2017 SAT Participation by State"
   ]
  },
  {
   "cell_type": "markdown",
   "metadata": {},
   "source": [
    "**Top Scores for 2017 SAT Participation by State**"
   ]
  },
  {
   "cell_type": "code",
   "execution_count": 119,
   "metadata": {},
   "outputs": [
    {
     "data": {
      "text/html": [
       "<div>\n",
       "<style scoped>\n",
       "    .dataframe tbody tr th:only-of-type {\n",
       "        vertical-align: middle;\n",
       "    }\n",
       "\n",
       "    .dataframe tbody tr th {\n",
       "        vertical-align: top;\n",
       "    }\n",
       "\n",
       "    .dataframe thead th {\n",
       "        text-align: right;\n",
       "    }\n",
       "</style>\n",
       "<table border=\"1\" class=\"dataframe\">\n",
       "  <thead>\n",
       "    <tr style=\"text-align: right;\">\n",
       "      <th></th>\n",
       "      <th>sat_2017_participation</th>\n",
       "      <th>state</th>\n",
       "    </tr>\n",
       "  </thead>\n",
       "  <tbody>\n",
       "    <tr>\n",
       "      <th>5</th>\n",
       "      <td>100.0</td>\n",
       "      <td>Colorado</td>\n",
       "    </tr>\n",
       "    <tr>\n",
       "      <th>6</th>\n",
       "      <td>100.0</td>\n",
       "      <td>Connecticut</td>\n",
       "    </tr>\n",
       "    <tr>\n",
       "      <th>7</th>\n",
       "      <td>100.0</td>\n",
       "      <td>Delaware</td>\n",
       "    </tr>\n",
       "    <tr>\n",
       "      <th>21</th>\n",
       "      <td>100.0</td>\n",
       "      <td>Massachusetts</td>\n",
       "    </tr>\n",
       "    <tr>\n",
       "      <th>28</th>\n",
       "      <td>96.0</td>\n",
       "      <td>Nevada</td>\n",
       "    </tr>\n",
       "  </tbody>\n",
       "</table>\n",
       "</div>"
      ],
      "text/plain": [
       "    sat_2017_participation          state\n",
       "5                    100.0       Colorado\n",
       "6                    100.0    Connecticut\n",
       "7                    100.0       Delaware\n",
       "21                   100.0  Massachusetts\n",
       "28                    96.0         Nevada"
      ]
     },
     "execution_count": 119,
     "metadata": {},
     "output_type": "execute_result"
    }
   ],
   "source": [
    "test_data.sort_values(by = 'sat_2017_participation', ascending=False)[['sat_2017_participation', 'state']].head()"
   ]
  },
  {
   "cell_type": "markdown",
   "metadata": {},
   "source": [
    "**Lowest Scores for 2017 SAT Participation by State**"
   ]
  },
  {
   "cell_type": "code",
   "execution_count": 121,
   "metadata": {},
   "outputs": [
    {
     "data": {
      "text/html": [
       "<div>\n",
       "<style scoped>\n",
       "    .dataframe tbody tr th:only-of-type {\n",
       "        vertical-align: middle;\n",
       "    }\n",
       "\n",
       "    .dataframe tbody tr th {\n",
       "        vertical-align: top;\n",
       "    }\n",
       "\n",
       "    .dataframe thead th {\n",
       "        text-align: right;\n",
       "    }\n",
       "</style>\n",
       "<table border=\"1\" class=\"dataframe\">\n",
       "  <thead>\n",
       "    <tr style=\"text-align: right;\">\n",
       "      <th></th>\n",
       "      <th>sat_2017_participation</th>\n",
       "      <th>state</th>\n",
       "    </tr>\n",
       "  </thead>\n",
       "  <tbody>\n",
       "    <tr>\n",
       "      <th>48</th>\n",
       "      <td>3.0</td>\n",
       "      <td>West Virginia</td>\n",
       "    </tr>\n",
       "    <tr>\n",
       "      <th>33</th>\n",
       "      <td>2.0</td>\n",
       "      <td>North Carolina</td>\n",
       "    </tr>\n",
       "    <tr>\n",
       "      <th>14</th>\n",
       "      <td>2.0</td>\n",
       "      <td>Indiana</td>\n",
       "    </tr>\n",
       "    <tr>\n",
       "      <th>23</th>\n",
       "      <td>2.0</td>\n",
       "      <td>Minnesota</td>\n",
       "    </tr>\n",
       "    <tr>\n",
       "      <th>50</th>\n",
       "      <td>0.0</td>\n",
       "      <td>Wyoming</td>\n",
       "    </tr>\n",
       "  </tbody>\n",
       "</table>\n",
       "</div>"
      ],
      "text/plain": [
       "    sat_2017_participation           state\n",
       "48                     3.0   West Virginia\n",
       "33                     2.0  North Carolina\n",
       "14                     2.0         Indiana\n",
       "23                     2.0       Minnesota\n",
       "50                     0.0         Wyoming"
      ]
     },
     "execution_count": 121,
     "metadata": {},
     "output_type": "execute_result"
    }
   ],
   "source": [
    "test_data.sort_values(by = 'sat_2017_participation', ascending=False)[['sat_2017_participation', 'state']].tail(5)"
   ]
  },
  {
   "cell_type": "markdown",
   "metadata": {},
   "source": [
    "**Top Scores for 2018 SAT Participation by State**"
   ]
  },
  {
   "cell_type": "code",
   "execution_count": 267,
   "metadata": {},
   "outputs": [
    {
     "data": {
      "text/html": [
       "<div>\n",
       "<style scoped>\n",
       "    .dataframe tbody tr th:only-of-type {\n",
       "        vertical-align: middle;\n",
       "    }\n",
       "\n",
       "    .dataframe tbody tr th {\n",
       "        vertical-align: top;\n",
       "    }\n",
       "\n",
       "    .dataframe thead th {\n",
       "        text-align: right;\n",
       "    }\n",
       "</style>\n",
       "<table border=\"1\" class=\"dataframe\">\n",
       "  <thead>\n",
       "    <tr style=\"text-align: right;\">\n",
       "      <th></th>\n",
       "      <th>sat_2018_participation</th>\n",
       "      <th>state</th>\n",
       "    </tr>\n",
       "  </thead>\n",
       "  <tbody>\n",
       "    <tr>\n",
       "      <th>5</th>\n",
       "      <td>100.0</td>\n",
       "      <td>Colorado</td>\n",
       "    </tr>\n",
       "    <tr>\n",
       "      <th>6</th>\n",
       "      <td>100.0</td>\n",
       "      <td>Connecticut</td>\n",
       "    </tr>\n",
       "    <tr>\n",
       "      <th>7</th>\n",
       "      <td>100.0</td>\n",
       "      <td>Delaware</td>\n",
       "    </tr>\n",
       "    <tr>\n",
       "      <th>21</th>\n",
       "      <td>100.0</td>\n",
       "      <td>Massachusetts</td>\n",
       "    </tr>\n",
       "    <tr>\n",
       "      <th>12</th>\n",
       "      <td>100.0</td>\n",
       "      <td>Idaho</td>\n",
       "    </tr>\n",
       "    <tr>\n",
       "      <th>13</th>\n",
       "      <td>99.0</td>\n",
       "      <td>Illinois</td>\n",
       "    </tr>\n",
       "  </tbody>\n",
       "</table>\n",
       "</div>"
      ],
      "text/plain": [
       "    sat_2018_participation          state\n",
       "5                    100.0       Colorado\n",
       "6                    100.0    Connecticut\n",
       "7                    100.0       Delaware\n",
       "21                   100.0  Massachusetts\n",
       "12                   100.0          Idaho\n",
       "13                    99.0       Illinois"
      ]
     },
     "execution_count": 267,
     "metadata": {},
     "output_type": "execute_result"
    }
   ],
   "source": [
    "test_data.sort_values(by = 'sat_2018_participation', ascending=False)[['sat_2018_participation', 'state']].head(6)"
   ]
  },
  {
   "cell_type": "markdown",
   "metadata": {},
   "source": [
    "**Lowest Scores for 2018 SAT Participation by State**"
   ]
  },
  {
   "cell_type": "code",
   "execution_count": 17,
   "metadata": {},
   "outputs": [
    {
     "data": {
      "text/html": [
       "<div>\n",
       "<style scoped>\n",
       "    .dataframe tbody tr th:only-of-type {\n",
       "        vertical-align: middle;\n",
       "    }\n",
       "\n",
       "    .dataframe tbody tr th {\n",
       "        vertical-align: top;\n",
       "    }\n",
       "\n",
       "    .dataframe thead th {\n",
       "        text-align: right;\n",
       "    }\n",
       "</style>\n",
       "<table border=\"1\" class=\"dataframe\">\n",
       "  <thead>\n",
       "    <tr style=\"text-align: right;\">\n",
       "      <th></th>\n",
       "      <th>sat_2018_participation</th>\n",
       "      <th>state</th>\n",
       "    </tr>\n",
       "  </thead>\n",
       "  <tbody>\n",
       "    <tr>\n",
       "      <th>33</th>\n",
       "      <td>2.0</td>\n",
       "      <td>North Carolina</td>\n",
       "    </tr>\n",
       "    <tr>\n",
       "      <th>49</th>\n",
       "      <td>3.0</td>\n",
       "      <td>Wisconsin</td>\n",
       "    </tr>\n",
       "    <tr>\n",
       "      <th>40</th>\n",
       "      <td>3.0</td>\n",
       "      <td>South Carolina</td>\n",
       "    </tr>\n",
       "    <tr>\n",
       "      <th>26</th>\n",
       "      <td>3.0</td>\n",
       "      <td>Montana</td>\n",
       "    </tr>\n",
       "    <tr>\n",
       "      <th>48</th>\n",
       "      <td>3.0</td>\n",
       "      <td>West Virginia</td>\n",
       "    </tr>\n",
       "  </tbody>\n",
       "</table>\n",
       "</div>"
      ],
      "text/plain": [
       "    sat_2018_participation           state\n",
       "33                     2.0  North Carolina\n",
       "49                     3.0       Wisconsin\n",
       "40                     3.0  South Carolina\n",
       "26                     3.0         Montana\n",
       "48                     3.0   West Virginia"
      ]
     },
     "execution_count": 17,
     "metadata": {},
     "output_type": "execute_result"
    }
   ],
   "source": [
    "test_data.sort_values(by = 'sat_2018_participation', ascending=True)[['sat_2018_participation', 'state']].head()"
   ]
  },
  {
   "cell_type": "markdown",
   "metadata": {},
   "source": [
    "**Top Scores for 2017 ACT Participation by State**"
   ]
  },
  {
   "cell_type": "code",
   "execution_count": 271,
   "metadata": {},
   "outputs": [
    {
     "data": {
      "text/html": [
       "<div>\n",
       "<style scoped>\n",
       "    .dataframe tbody tr th:only-of-type {\n",
       "        vertical-align: middle;\n",
       "    }\n",
       "\n",
       "    .dataframe tbody tr th {\n",
       "        vertical-align: top;\n",
       "    }\n",
       "\n",
       "    .dataframe thead th {\n",
       "        text-align: right;\n",
       "    }\n",
       "</style>\n",
       "<table border=\"1\" class=\"dataframe\">\n",
       "  <thead>\n",
       "    <tr style=\"text-align: right;\">\n",
       "      <th></th>\n",
       "      <th>act_2017_participation</th>\n",
       "      <th>state</th>\n",
       "    </tr>\n",
       "  </thead>\n",
       "  <tbody>\n",
       "    <tr>\n",
       "      <th>0</th>\n",
       "      <td>100.0</td>\n",
       "      <td>Alabama</td>\n",
       "    </tr>\n",
       "    <tr>\n",
       "      <th>17</th>\n",
       "      <td>100.0</td>\n",
       "      <td>Kentucky</td>\n",
       "    </tr>\n",
       "    <tr>\n",
       "      <th>49</th>\n",
       "      <td>100.0</td>\n",
       "      <td>Wisconsin</td>\n",
       "    </tr>\n",
       "    <tr>\n",
       "      <th>44</th>\n",
       "      <td>100.0</td>\n",
       "      <td>Utah</td>\n",
       "    </tr>\n",
       "    <tr>\n",
       "      <th>42</th>\n",
       "      <td>100.0</td>\n",
       "      <td>Tennessee</td>\n",
       "    </tr>\n",
       "    <tr>\n",
       "      <th>40</th>\n",
       "      <td>100.0</td>\n",
       "      <td>South Carolina</td>\n",
       "    </tr>\n",
       "    <tr>\n",
       "      <th>36</th>\n",
       "      <td>100.0</td>\n",
       "      <td>Oklahoma</td>\n",
       "    </tr>\n",
       "    <tr>\n",
       "      <th>33</th>\n",
       "      <td>100.0</td>\n",
       "      <td>North Carolina</td>\n",
       "    </tr>\n",
       "    <tr>\n",
       "      <th>28</th>\n",
       "      <td>100.0</td>\n",
       "      <td>Nevada</td>\n",
       "    </tr>\n",
       "    <tr>\n",
       "      <th>26</th>\n",
       "      <td>100.0</td>\n",
       "      <td>Montana</td>\n",
       "    </tr>\n",
       "    <tr>\n",
       "      <th>24</th>\n",
       "      <td>100.0</td>\n",
       "      <td>Mississippi</td>\n",
       "    </tr>\n",
       "    <tr>\n",
       "      <th>23</th>\n",
       "      <td>100.0</td>\n",
       "      <td>Minnesota</td>\n",
       "    </tr>\n",
       "    <tr>\n",
       "      <th>18</th>\n",
       "      <td>100.0</td>\n",
       "      <td>Louisiana</td>\n",
       "    </tr>\n",
       "    <tr>\n",
       "      <th>25</th>\n",
       "      <td>100.0</td>\n",
       "      <td>Missouri</td>\n",
       "    </tr>\n",
       "    <tr>\n",
       "      <th>50</th>\n",
       "      <td>100.0</td>\n",
       "      <td>Wyoming</td>\n",
       "    </tr>\n",
       "    <tr>\n",
       "      <th>5</th>\n",
       "      <td>100.0</td>\n",
       "      <td>Colorado</td>\n",
       "    </tr>\n",
       "    <tr>\n",
       "      <th>3</th>\n",
       "      <td>100.0</td>\n",
       "      <td>Arkansas</td>\n",
       "    </tr>\n",
       "    <tr>\n",
       "      <th>34</th>\n",
       "      <td>98.0</td>\n",
       "      <td>North Dakota</td>\n",
       "    </tr>\n",
       "    <tr>\n",
       "      <th>13</th>\n",
       "      <td>93.0</td>\n",
       "      <td>Illinois</td>\n",
       "    </tr>\n",
       "    <tr>\n",
       "      <th>11</th>\n",
       "      <td>90.0</td>\n",
       "      <td>Hawaii</td>\n",
       "    </tr>\n",
       "  </tbody>\n",
       "</table>\n",
       "</div>"
      ],
      "text/plain": [
       "    act_2017_participation           state\n",
       "0                    100.0         Alabama\n",
       "17                   100.0        Kentucky\n",
       "49                   100.0       Wisconsin\n",
       "44                   100.0            Utah\n",
       "42                   100.0       Tennessee\n",
       "40                   100.0  South Carolina\n",
       "36                   100.0        Oklahoma\n",
       "33                   100.0  North Carolina\n",
       "28                   100.0          Nevada\n",
       "26                   100.0         Montana\n",
       "24                   100.0     Mississippi\n",
       "23                   100.0       Minnesota\n",
       "18                   100.0       Louisiana\n",
       "25                   100.0        Missouri\n",
       "50                   100.0         Wyoming\n",
       "5                    100.0        Colorado\n",
       "3                    100.0        Arkansas\n",
       "34                    98.0    North Dakota\n",
       "13                    93.0        Illinois\n",
       "11                    90.0          Hawaii"
      ]
     },
     "execution_count": 271,
     "metadata": {},
     "output_type": "execute_result"
    }
   ],
   "source": [
    "test_data.sort_values(by = 'act_2017_participation', ascending=False)[['act_2017_participation', 'state']].head(20)"
   ]
  },
  {
   "cell_type": "markdown",
   "metadata": {},
   "source": [
    "**Lowest Scores for 2017 SAT Participation by State**"
   ]
  },
  {
   "cell_type": "code",
   "execution_count": 19,
   "metadata": {},
   "outputs": [
    {
     "data": {
      "text/html": [
       "<div>\n",
       "<style scoped>\n",
       "    .dataframe tbody tr th:only-of-type {\n",
       "        vertical-align: middle;\n",
       "    }\n",
       "\n",
       "    .dataframe tbody tr th {\n",
       "        vertical-align: top;\n",
       "    }\n",
       "\n",
       "    .dataframe thead th {\n",
       "        text-align: right;\n",
       "    }\n",
       "</style>\n",
       "<table border=\"1\" class=\"dataframe\">\n",
       "  <thead>\n",
       "    <tr style=\"text-align: right;\">\n",
       "      <th></th>\n",
       "      <th>act_2017_participation</th>\n",
       "      <th>state</th>\n",
       "    </tr>\n",
       "  </thead>\n",
       "  <tbody>\n",
       "    <tr>\n",
       "      <th>19</th>\n",
       "      <td>8.0</td>\n",
       "      <td>Maine</td>\n",
       "    </tr>\n",
       "    <tr>\n",
       "      <th>29</th>\n",
       "      <td>18.0</td>\n",
       "      <td>New Hampshire</td>\n",
       "    </tr>\n",
       "    <tr>\n",
       "      <th>7</th>\n",
       "      <td>18.0</td>\n",
       "      <td>Delaware</td>\n",
       "    </tr>\n",
       "    <tr>\n",
       "      <th>39</th>\n",
       "      <td>21.0</td>\n",
       "      <td>Rhode Island</td>\n",
       "    </tr>\n",
       "    <tr>\n",
       "      <th>38</th>\n",
       "      <td>23.0</td>\n",
       "      <td>Pennsylvania</td>\n",
       "    </tr>\n",
       "  </tbody>\n",
       "</table>\n",
       "</div>"
      ],
      "text/plain": [
       "    act_2017_participation          state\n",
       "19                     8.0          Maine\n",
       "29                    18.0  New Hampshire\n",
       "7                     18.0       Delaware\n",
       "39                    21.0   Rhode Island\n",
       "38                    23.0   Pennsylvania"
      ]
     },
     "execution_count": 19,
     "metadata": {},
     "output_type": "execute_result"
    }
   ],
   "source": [
    "test_data.sort_values(by = 'act_2017_participation', ascending=True)[['act_2017_participation', 'state']].head()"
   ]
  },
  {
   "cell_type": "markdown",
   "metadata": {},
   "source": [
    "**Top Scores for 2018 ACT Participation by State**"
   ]
  },
  {
   "cell_type": "code",
   "execution_count": 20,
   "metadata": {},
   "outputs": [
    {
     "data": {
      "text/html": [
       "<div>\n",
       "<style scoped>\n",
       "    .dataframe tbody tr th:only-of-type {\n",
       "        vertical-align: middle;\n",
       "    }\n",
       "\n",
       "    .dataframe tbody tr th {\n",
       "        vertical-align: top;\n",
       "    }\n",
       "\n",
       "    .dataframe thead th {\n",
       "        text-align: right;\n",
       "    }\n",
       "</style>\n",
       "<table border=\"1\" class=\"dataframe\">\n",
       "  <thead>\n",
       "    <tr style=\"text-align: right;\">\n",
       "      <th></th>\n",
       "      <th>act_2018_participation</th>\n",
       "      <th>state</th>\n",
       "    </tr>\n",
       "  </thead>\n",
       "  <tbody>\n",
       "    <tr>\n",
       "      <th>0</th>\n",
       "      <td>100.0</td>\n",
       "      <td>Alabama</td>\n",
       "    </tr>\n",
       "    <tr>\n",
       "      <th>17</th>\n",
       "      <td>100.0</td>\n",
       "      <td>Kentucky</td>\n",
       "    </tr>\n",
       "    <tr>\n",
       "      <th>49</th>\n",
       "      <td>100.0</td>\n",
       "      <td>Wisconsin</td>\n",
       "    </tr>\n",
       "    <tr>\n",
       "      <th>44</th>\n",
       "      <td>100.0</td>\n",
       "      <td>Utah</td>\n",
       "    </tr>\n",
       "    <tr>\n",
       "      <th>42</th>\n",
       "      <td>100.0</td>\n",
       "      <td>Tennessee</td>\n",
       "    </tr>\n",
       "  </tbody>\n",
       "</table>\n",
       "</div>"
      ],
      "text/plain": [
       "    act_2018_participation      state\n",
       "0                    100.0    Alabama\n",
       "17                   100.0   Kentucky\n",
       "49                   100.0  Wisconsin\n",
       "44                   100.0       Utah\n",
       "42                   100.0  Tennessee"
      ]
     },
     "execution_count": 20,
     "metadata": {},
     "output_type": "execute_result"
    }
   ],
   "source": [
    "test_data.sort_values(by = 'act_2018_participation', ascending=False)[['act_2018_participation', 'state']].head()"
   ]
  },
  {
   "cell_type": "markdown",
   "metadata": {},
   "source": [
    "**Lowest Scores for 2018 SAT Participation by State**"
   ]
  },
  {
   "cell_type": "code",
   "execution_count": 21,
   "metadata": {},
   "outputs": [
    {
     "data": {
      "text/html": [
       "<div>\n",
       "<style scoped>\n",
       "    .dataframe tbody tr th:only-of-type {\n",
       "        vertical-align: middle;\n",
       "    }\n",
       "\n",
       "    .dataframe tbody tr th {\n",
       "        vertical-align: top;\n",
       "    }\n",
       "\n",
       "    .dataframe thead th {\n",
       "        text-align: right;\n",
       "    }\n",
       "</style>\n",
       "<table border=\"1\" class=\"dataframe\">\n",
       "  <thead>\n",
       "    <tr style=\"text-align: right;\">\n",
       "      <th></th>\n",
       "      <th>act_2018_participation</th>\n",
       "      <th>state</th>\n",
       "    </tr>\n",
       "  </thead>\n",
       "  <tbody>\n",
       "    <tr>\n",
       "      <th>19</th>\n",
       "      <td>7.0</td>\n",
       "      <td>Maine</td>\n",
       "    </tr>\n",
       "    <tr>\n",
       "      <th>39</th>\n",
       "      <td>15.0</td>\n",
       "      <td>Rhode Island</td>\n",
       "    </tr>\n",
       "    <tr>\n",
       "      <th>29</th>\n",
       "      <td>16.0</td>\n",
       "      <td>New Hampshire</td>\n",
       "    </tr>\n",
       "    <tr>\n",
       "      <th>7</th>\n",
       "      <td>17.0</td>\n",
       "      <td>Delaware</td>\n",
       "    </tr>\n",
       "    <tr>\n",
       "      <th>38</th>\n",
       "      <td>20.0</td>\n",
       "      <td>Pennsylvania</td>\n",
       "    </tr>\n",
       "  </tbody>\n",
       "</table>\n",
       "</div>"
      ],
      "text/plain": [
       "    act_2018_participation          state\n",
       "19                     7.0          Maine\n",
       "39                    15.0   Rhode Island\n",
       "29                    16.0  New Hampshire\n",
       "7                     17.0       Delaware\n",
       "38                    20.0   Pennsylvania"
      ]
     },
     "execution_count": 21,
     "metadata": {},
     "output_type": "execute_result"
    }
   ],
   "source": [
    "test_data.sort_values(by = 'act_2018_participation', ascending=True)[['act_2018_participation', 'state']].head()"
   ]
  },
  {
   "cell_type": "markdown",
   "metadata": {},
   "source": [
    "**These next two lists show all states that had greater than 50% Participation for both tests**"
   ]
  },
  {
   "cell_type": "code",
   "execution_count": 134,
   "metadata": {},
   "outputs": [
    {
     "data": {
      "text/plain": [
       "3       Arkansas\n",
       "5       Colorado\n",
       "9        Florida\n",
       "10       Georgia\n",
       "11        Hawaii\n",
       "13      Illinois\n",
       "18     Louisiana\n",
       "28        Nevada\n",
       "31    New Mexico\n",
       "42     Tennessee\n",
       "44          Utah\n",
       "Name: state, dtype: object"
      ]
     },
     "execution_count": 134,
     "metadata": {},
     "output_type": "execute_result"
    }
   ],
   "source": [
    "test_data[(test_data['act_2017_participation'] > 50) & (test_data['sat_2017_participation'] > 50)]['state']"
   ]
  },
  {
   "cell_type": "code",
   "execution_count": 131,
   "metadata": {},
   "outputs": [
    {
     "data": {
      "text/plain": [
       "9        Florida\n",
       "10       Georgia\n",
       "11        Hawaii\n",
       "28        Nevada\n",
       "31    New Mexico\n",
       "42     Tennessee\n",
       "44          Utah\n",
       "Name: state, dtype: object"
      ]
     },
     "execution_count": 131,
     "metadata": {},
     "output_type": "execute_result"
    }
   ],
   "source": [
    "test_data[(test_data['act_2018_participation'] > 50) & (test_data['sat_2018_participation'] > 50)]['state']"
   ]
  },
  {
   "cell_type": "markdown",
   "metadata": {},
   "source": [
    "## Visualize the data\n",
    "\n",
    "There's not a magic bullet recommendation for the right number of plots to understand a given dataset, but visualizing your data is *always* a good idea. Not only does it allow you to quickly convey your findings (even if you have a non-technical audience), it will often reveal trends in your data that escaped you when you were looking only at numbers.\n",
    "\n",
    "Some recommendations on plotting:\n",
    "- Plots have titles\n",
    "- Plots have axis labels\n",
    "- Plots have appropriate tick labels\n",
    "- All text is legible in a plot\n",
    "- Plots demonstrate meaningful and valid relationships\n",
    "- Plots are interpreted to aid understanding\n",
    "\n",
    "There is such a thing as too many plots, and there are a *lot* of bad plots. You might make some! (But hopefully not with the guided prompts below)."
   ]
  },
  {
   "cell_type": "code",
   "execution_count": 22,
   "metadata": {},
   "outputs": [
    {
     "data": {
      "text/html": [
       "<div>\n",
       "<style scoped>\n",
       "    .dataframe tbody tr th:only-of-type {\n",
       "        vertical-align: middle;\n",
       "    }\n",
       "\n",
       "    .dataframe tbody tr th {\n",
       "        vertical-align: top;\n",
       "    }\n",
       "\n",
       "    .dataframe thead th {\n",
       "        text-align: right;\n",
       "    }\n",
       "</style>\n",
       "<table border=\"1\" class=\"dataframe\">\n",
       "  <thead>\n",
       "    <tr style=\"text-align: right;\">\n",
       "      <th></th>\n",
       "      <th>state</th>\n",
       "      <th>act_2017_participation</th>\n",
       "      <th>act_2017_english</th>\n",
       "      <th>act_2017_math</th>\n",
       "      <th>act_2017_reading</th>\n",
       "      <th>act_2017_science</th>\n",
       "      <th>act_2017_composite</th>\n",
       "      <th>sat_2017_participation</th>\n",
       "      <th>sat_2017_reading_writing</th>\n",
       "      <th>sat_2017_math</th>\n",
       "      <th>sat_2017_total</th>\n",
       "      <th>act_2018_participation</th>\n",
       "      <th>act_2018_composite</th>\n",
       "      <th>sat_2018_participation</th>\n",
       "      <th>sat_2018_reading_writing</th>\n",
       "      <th>sat_2018_math</th>\n",
       "      <th>sat_2018_total</th>\n",
       "    </tr>\n",
       "  </thead>\n",
       "  <tbody>\n",
       "    <tr>\n",
       "      <th>0</th>\n",
       "      <td>Alabama</td>\n",
       "      <td>100.0</td>\n",
       "      <td>18.9</td>\n",
       "      <td>18.4</td>\n",
       "      <td>19.7</td>\n",
       "      <td>19.4</td>\n",
       "      <td>19.2</td>\n",
       "      <td>38.0</td>\n",
       "      <td>547.0</td>\n",
       "      <td>533.0</td>\n",
       "      <td>1080.0</td>\n",
       "      <td>100.0</td>\n",
       "      <td>19.1</td>\n",
       "      <td>6.0</td>\n",
       "      <td>595.0</td>\n",
       "      <td>571.0</td>\n",
       "      <td>1166.0</td>\n",
       "    </tr>\n",
       "    <tr>\n",
       "      <th>1</th>\n",
       "      <td>Alaska</td>\n",
       "      <td>65.0</td>\n",
       "      <td>18.7</td>\n",
       "      <td>19.8</td>\n",
       "      <td>20.4</td>\n",
       "      <td>19.9</td>\n",
       "      <td>19.8</td>\n",
       "      <td>30.0</td>\n",
       "      <td>563.0</td>\n",
       "      <td>553.0</td>\n",
       "      <td>1116.0</td>\n",
       "      <td>33.0</td>\n",
       "      <td>20.8</td>\n",
       "      <td>43.0</td>\n",
       "      <td>562.0</td>\n",
       "      <td>544.0</td>\n",
       "      <td>1106.0</td>\n",
       "    </tr>\n",
       "    <tr>\n",
       "      <th>2</th>\n",
       "      <td>Arizona</td>\n",
       "      <td>62.0</td>\n",
       "      <td>18.6</td>\n",
       "      <td>19.8</td>\n",
       "      <td>20.1</td>\n",
       "      <td>19.8</td>\n",
       "      <td>19.7</td>\n",
       "      <td>3.0</td>\n",
       "      <td>614.0</td>\n",
       "      <td>594.0</td>\n",
       "      <td>1208.0</td>\n",
       "      <td>66.0</td>\n",
       "      <td>19.2</td>\n",
       "      <td>29.0</td>\n",
       "      <td>577.0</td>\n",
       "      <td>572.0</td>\n",
       "      <td>1149.0</td>\n",
       "    </tr>\n",
       "    <tr>\n",
       "      <th>3</th>\n",
       "      <td>Arkansas</td>\n",
       "      <td>100.0</td>\n",
       "      <td>18.9</td>\n",
       "      <td>19.0</td>\n",
       "      <td>19.7</td>\n",
       "      <td>19.5</td>\n",
       "      <td>19.4</td>\n",
       "      <td>53.0</td>\n",
       "      <td>531.0</td>\n",
       "      <td>524.0</td>\n",
       "      <td>1055.0</td>\n",
       "      <td>100.0</td>\n",
       "      <td>19.4</td>\n",
       "      <td>5.0</td>\n",
       "      <td>592.0</td>\n",
       "      <td>576.0</td>\n",
       "      <td>1169.0</td>\n",
       "    </tr>\n",
       "    <tr>\n",
       "      <th>4</th>\n",
       "      <td>California</td>\n",
       "      <td>31.0</td>\n",
       "      <td>22.5</td>\n",
       "      <td>22.7</td>\n",
       "      <td>23.1</td>\n",
       "      <td>22.2</td>\n",
       "      <td>22.8</td>\n",
       "      <td>11.0</td>\n",
       "      <td>606.0</td>\n",
       "      <td>595.0</td>\n",
       "      <td>1201.0</td>\n",
       "      <td>27.0</td>\n",
       "      <td>22.7</td>\n",
       "      <td>60.0</td>\n",
       "      <td>540.0</td>\n",
       "      <td>536.0</td>\n",
       "      <td>1076.0</td>\n",
       "    </tr>\n",
       "  </tbody>\n",
       "</table>\n",
       "</div>"
      ],
      "text/plain": [
       "        state  act_2017_participation  act_2017_english  act_2017_math  \\\n",
       "0     Alabama                   100.0              18.9           18.4   \n",
       "1      Alaska                    65.0              18.7           19.8   \n",
       "2     Arizona                    62.0              18.6           19.8   \n",
       "3    Arkansas                   100.0              18.9           19.0   \n",
       "4  California                    31.0              22.5           22.7   \n",
       "\n",
       "   act_2017_reading  act_2017_science  act_2017_composite  \\\n",
       "0              19.7              19.4                19.2   \n",
       "1              20.4              19.9                19.8   \n",
       "2              20.1              19.8                19.7   \n",
       "3              19.7              19.5                19.4   \n",
       "4              23.1              22.2                22.8   \n",
       "\n",
       "   sat_2017_participation  sat_2017_reading_writing  sat_2017_math  \\\n",
       "0                    38.0                     547.0          533.0   \n",
       "1                    30.0                     563.0          553.0   \n",
       "2                     3.0                     614.0          594.0   \n",
       "3                    53.0                     531.0          524.0   \n",
       "4                    11.0                     606.0          595.0   \n",
       "\n",
       "   sat_2017_total  act_2018_participation  act_2018_composite  \\\n",
       "0          1080.0                   100.0                19.1   \n",
       "1          1116.0                    33.0                20.8   \n",
       "2          1208.0                    66.0                19.2   \n",
       "3          1055.0                   100.0                19.4   \n",
       "4          1201.0                    27.0                22.7   \n",
       "\n",
       "   sat_2018_participation  sat_2018_reading_writing  sat_2018_math  \\\n",
       "0                     6.0                     595.0          571.0   \n",
       "1                    43.0                     562.0          544.0   \n",
       "2                    29.0                     577.0          572.0   \n",
       "3                     5.0                     592.0          576.0   \n",
       "4                    60.0                     540.0          536.0   \n",
       "\n",
       "   sat_2018_total  \n",
       "0          1166.0  \n",
       "1          1106.0  \n",
       "2          1149.0  \n",
       "3          1169.0  \n",
       "4          1076.0  "
      ]
     },
     "execution_count": 22,
     "metadata": {},
     "output_type": "execute_result"
    }
   ],
   "source": [
    "test_data.head()"
   ]
  },
  {
   "cell_type": "code",
   "execution_count": 229,
   "metadata": {},
   "outputs": [
    {
     "data": {
      "image/png": "[encoded data removed]",
      "text/plain": [
       "<Figure size 576x360 with 1 Axes>"
      ]
     },
     "metadata": {},
     "output_type": "display_data"
    }
   ],
   "source": [
    "# This shows that scoring highly on Reading and Math are equally important 2017\n",
    "\n",
    "plt.figure(figsize = (8, 5))\n",
    "# Create text:\n",
    "# at (horizontal = 0.5, vertical = 0.55)\n",
    "# stating the percent change (s means string)\n",
    "# center-aligned\n",
    "# font size 225\n",
    "# alpha = 0.9\n",
    "plt.bar(\n",
    "        ['SAT 2017 Reading', 'SAT 2017 Math', 'SAT 2017 Total'], # X Values\n",
    "        [test_data['sat_2017_reading_writing'].sum(), test_data['sat_2017_math'].sum(), \n",
    "         test_data['sat_2017_total'].sum()], data = test_data\n",
    "        )\n",
    "# Create text:\n",
    "# at (horizontal = 0.5, vertical = 0.15)\n",
    "# stating \"in Google's stock price, compared to 100% increase in the Dow.\"\n",
    "# center-aligned\n",
    "# font size 45\n",
    "# alpha = 0.5\n",
    "\n",
    "\n",
    "\n",
    "# No axes.\n",
    "plt.title('New York State SAT 2017');"
   ]
  },
  {
   "cell_type": "code",
   "execution_count": 135,
   "metadata": {},
   "outputs": [
    {
     "data": {
      "image/png": "[encoded data removed]",
      "text/plain": [
       "<Figure size 576x360 with 1 Axes>"
      ]
     },
     "metadata": {
      "needs_background": "light"
     },
     "output_type": "display_data"
    }
   ],
   "source": [
    "# This shows that scoring highly on Reading and Math are equally important 2018\n",
    "\n",
    "plt.figure(figsize = (8, 5))\n",
    "# Create text:\n",
    "# at (horizontal = 0.5, vertical = 0.55)\n",
    "# stating the percent change (s means string)\n",
    "# center-aligned\n",
    "# font size 225\n",
    "# alpha = 0.9\n",
    "plt.bar(\n",
    "        ['SAT 2018 Reading', 'SAT 2018 Math', 'SAT 2018 Total'], # X Values\n",
    "        [test_data['sat_2018_reading_writing'].sum(), test_data['sat_2018_math'].sum(), \n",
    "         test_data['sat_2018_total'].sum()], data = test_data\n",
    "        )\n",
    "# Create text:\n",
    "# at (horizontal = 0.5, vertical = 0.15)\n",
    "# stating \"in Google's stock price, compared to 100% increase in the Dow.\"\n",
    "# center-aligned\n",
    "# font size 45\n",
    "# alpha = 0.5\n",
    "\n",
    "\n",
    "\n",
    "# No axes.\n",
    "plt.title('New York State SAT 2018');"
   ]
  },
  {
   "cell_type": "code",
   "execution_count": 158,
   "metadata": {},
   "outputs": [
    {
     "data": {
      "image/png": "[encoded data removed]",
      "text/plain": [
       "<Figure size 576x360 with 1 Axes>"
      ]
     },
     "metadata": {
      "needs_background": "light"
     },
     "output_type": "display_data"
    }
   ],
   "source": [
    "# Shows SAT and ACT participation for NY 2017\n",
    "\n",
    "plt.figure(figsize = (8, 5))\n",
    "# Create text:\n",
    "# at (horizontal = 0.5, vertical = 0.55)\n",
    "# stating the percent change (s means string)\n",
    "# center-aligned\n",
    "# font size 225\n",
    "# alpha = 0.9\n",
    "plt.bar(\n",
    "        ['SAT 2017 Participation', 'ACT 2017 Participation'], # X Values\n",
    "        [test_data['sat_2017_participation'].count(), test_data['act_2017_participation'].count()], data = test_data\n",
    "        )\n",
    "# Create text:\n",
    "# at (horizontal = 0.5, vertical = 0.15)\n",
    "# stating \"in Google's stock price, compared to 100% increase in the Dow.\"\n",
    "# center-aligned\n",
    "# font size 45\n",
    "# alpha = 0.5\n",
    "\n",
    "\n",
    "\n",
    "# No axes.\n",
    "plt.title('New York State SAT and SAT Participation 2017');"
   ]
  },
  {
   "cell_type": "code",
   "execution_count": 258,
   "metadata": {},
   "outputs": [
    {
     "data": {
      "text/plain": [
       "Text(0, 0.5, 'New York State SAT Score')"
      ]
     },
     "execution_count": 258,
     "metadata": {},
     "output_type": "execute_result"
    },
    {
     "data": {
      "image/png": "[encoded data removed]",
      "text/plain": [
       "<Figure size 576x360 with 1 Axes>"
      ]
     },
     "metadata": {},
     "output_type": "display_data"
    }
   ],
   "source": [
    "# Math SAT 2017, 2018 Scores Compared\n",
    "\n",
    "plt.figure(figsize = (8, 5))\n",
    "# Create text:\n",
    "# at (horizontal = 0.5, vertical = 0.55)\n",
    "# stating the percent change (s means string)\n",
    "# center-aligned\n",
    "# font size 225\n",
    "# alpha = 0.9\n",
    "plt.bar(\n",
    "        ['SAT Math 2017 ', 'SAT Math 2018'], # X Values\n",
    "        [test_data['sat_2017_math'].sum(), test_data['sat_2018_math'].sum()], data = test_data\n",
    "        )\n",
    "# Create text:\n",
    "# at (horizontal = 0.5, vertical = 0.15)\n",
    "# stating \"in Google's stock price, compared to 100% increase in the Dow.\"\n",
    "# center-aligned\n",
    "# font size 45\n",
    "# alpha = 0.5\n",
    "\n",
    "\n",
    "\n",
    "# No axes.\n",
    "plt.title('New York State SAT 2018');\n",
    "plt.ylabel('New York State SAT Score')"
   ]
  },
  {
   "cell_type": "code",
   "execution_count": 262,
   "metadata": {},
   "outputs": [
    {
     "data": {
      "image/png": "[encoded data removed]",
      "text/plain": [
       "<Figure size 576x864 with 1 Axes>"
      ]
     },
     "metadata": {},
     "output_type": "display_data"
    }
   ],
   "source": [
    "# Math 2018 SAT Math scores across the states\n",
    "plt.figure(figsize = (8, 12))\n",
    "plt.barh(test_data['state'],\n",
    "     test_data['sat_2018_math'])\n",
    "\n",
    "# Add a title and show the plot.\n",
    "plt.title('SAT 2018 Math Scores');"
   ]
  },
  {
   "cell_type": "code",
   "execution_count": 264,
   "metadata": {},
   "outputs": [
    {
     "data": {
      "image/png": "[encoded data removed]",
      "text/plain": [
       "<Figure size 576x864 with 1 Axes>"
      ]
     },
     "metadata": {},
     "output_type": "display_data"
    }
   ],
   "source": [
    "# Math 2017 SAT scores across the states\n",
    "plt.figure(figsize = (8, 12))\n",
    "plt.barh(test_data['state'],\n",
    "     test_data['sat_2017_math'])\n",
    "\n",
    "# Add a title and show the plot.\n",
    "plt.title('SAT 2017 Math Scores');"
   ]
  },
  {
   "cell_type": "code",
   "execution_count": 154,
   "metadata": {},
   "outputs": [
    {
     "data": {
      "text/plain": [
       "Text(0, 0.5, '2018 SAT Math, Reading & Writing')"
      ]
     },
     "execution_count": 154,
     "metadata": {},
     "output_type": "execute_result"
    },
    {
     "data": {
      "image/png": "[encoded data removed]",
      "text/plain": [
       "<Figure size 1440x576 with 2 Axes>"
      ]
     },
     "metadata": {},
     "output_type": "display_data"
    }
   ],
   "source": [
    "# Plots of math and reading scores for 2017, 2018 as a function of SAT Score\n",
    "df = test_data\n",
    "\n",
    "fig, ax = plt.subplots(1, 2, figsize=(20,8))\n",
    "\n",
    "plot1_xvalue = 'sat_2017_total'\n",
    "plot1_yvalue1 = 'sat_2017_math'\n",
    "plot1_yvalue2 = 'sat_2017_reading_writing'\n",
    "df = test_data\n",
    "\n",
    "\n",
    "\n",
    "ax[0].scatter(df[plot1_yvalue1],\n",
    "            df[plot1_xvalue])\n",
    "ax[0].set_xlim([400, 800])\n",
    "ax[0].scatter(df[plot1_yvalue2],\n",
    "            df[plot1_xvalue]);\n",
    "ax[0].set_xlim([400, 800]);\n",
    "xlabel = '2017 SAT Total'\n",
    "ax[0].set_xlabel(xlabel)\n",
    "ylabel = '2017 SAT Math, Reading & Writing'\n",
    "ax[0].set_ylabel(ylabel)\n",
    "\n",
    "\n",
    "plot2_xvalue = 'sat_2018_total'\n",
    "plot2_yvalue1 = 'sat_2018_math'\n",
    "plot2_yvalue2 = 'sat_2018_reading_writing'\n",
    "\n",
    "ax[1].scatter(df[plot2_yvalue1],\n",
    "            df[plot2_xvalue])\n",
    "ax[1].set_xlim([400, 800])\n",
    "ax[1].scatter(test_data[plot2_yvalue2],\n",
    "            df[plot2_xvalue]);\n",
    "ax[1].set_xlim([400, 800]);\n",
    "xlabel = '2018 SAT Total'\n",
    "ax[1].set_xlabel(xlabel)\n",
    "ylabel = '2018 SAT Math, Reading & Writing'\n",
    "ax[1].set_ylabel(ylabel)"
   ]
  },
  {
   "cell_type": "code",
   "execution_count": 25,
   "metadata": {},
   "outputs": [],
   "source": [
    "import seaborn as sns"
   ]
  },
  {
   "cell_type": "markdown",
   "metadata": {},
   "source": [
    "#### Use Seaborn's heatmap with pandas `.corr()` to visualize correlations between all numeric features\n",
    "\n",
    "Heatmaps are generally not appropriate for presentations, and should often be excluded from reports as they can be visually overwhelming. **However**, they can be extremely useful in identify relationships of potential interest (as well as identifying potential collinearity before modeling).\n",
    "\n",
    "*example*:\n",
    "```python\n",
    "sns.heatmap(df.corr())\n",
    "```\n",
    "\n",
    "Please take time to format your output, adding a title. Look through some of the additional arguments and options. (Axis labels aren't really necessary, as long as the title is informative)."
   ]
  },
  {
   "cell_type": "code",
   "execution_count": 288,
   "metadata": {},
   "outputs": [
    {
     "data": {
      "image/png": "[encoded data removed]",
      "text/plain": [
       "<Figure size 864x864 with 2 Axes>"
      ]
     },
     "metadata": {},
     "output_type": "display_data"
    }
   ],
   "source": [
    "# Heat Map of our combined DataFrame\n",
    "sns.set_style(\"white\")\n",
    "fig, ax = plt.subplots(figsize=(12,12))\n",
    "# plt.figure(figsize=(8, 5))\n",
    "sns.heatmap(test_data.corr(), annot=True, square =True ,\n",
    "annot_kws={\"size\": 10} ,center= .5,cmap=\"YlGnBu\"\n",
    "            ).set_title('Heatmap of correlations between features');"
   ]
  },
  {
   "cell_type": "markdown",
   "metadata": {},
   "source": [
    "#### Define a custom function to subplot histograms\n",
    "\n",
    "We have data for two tests for two years. We only have composite (and not subtest scores) for the 2018 ACT. We should write a function that will take the names of 2+ columns and subplot histograms. While you can use pandas plotting or Seaborn here, matplotlib gives you greater control over all aspects of your plots.\n",
    "\n",
    "[Helpful Link for Plotting Multiple Figures](https://matplotlib.org/users/pyplot_tutorial.html#working-with-multiple-figures-and-axes)\n",
    "\n",
    "Here's some starter code:"
   ]
  },
  {
   "cell_type": "code",
   "execution_count": 31,
   "metadata": {},
   "outputs": [],
   "source": [
    "def subplot_histograms(dataframe, list_of_columns, list_of_titles, list_of_xlabels):\n",
    "    nrows = int(np.ceil(len(list_of_columns)/2)) # Makes sure you have enough rows\n",
    "    fig, ax = plt.subplots(nrows=nrows, ncols=2) # You'll want to specify your figsize\n",
    "    ax = ax.ravel() # Ravel turns a matrix into a vector, which is easier to iterate\n",
    "    for i, column in enumerate(list_of_columns): # Gives us an index value to get into all our lists\n",
    "        ax[i].hist(dataframe[column]) # feel free to add more settings\n",
    "        # Set titles, labels, etc here for each subplot"
   ]
  },
  {
   "cell_type": "markdown",
   "metadata": {},
   "source": [
    "#### Plot and interpret histograms \n",
    "For each of the following:\n",
    "- Participation rates for SAT & ACT\n",
    "- Math scores for SAT & ACT\n",
    "- Reading/verbal scores for SAT & ACT"
   ]
  },
  {
   "cell_type": "code",
   "execution_count": 248,
   "metadata": {},
   "outputs": [],
   "source": [
    "# This creates histograms for the 2017, 2018 SAT and ACT Participation values by State\n",
    "def subplot_histograms(dataframe, list_of_columns, list_of_titles, list_of_xlabels):\n",
    "        nrows = int(np.ceil(len(list_of_columns)/2) )# Makes sure you have enough rows\n",
    "        fig, ax = plt.subplots(nrows=nrows, ncols=2, figsize=(12,6)) # You'll want to specify your figsize\n",
    "        ax = ax.ravel() # Ravel turns a matrix into a vector, which is easier to iterate\n",
    "        for i, column in enumerate(list_of_columns): # Gives us an index value to get into all our lists\n",
    "            sns.distplot(dataframe[column],bins =20 ,ax = ax[i]) # feel free to add more settings\n",
    "\n",
    "            ax[i].set_title(list_of_titles[i]) # Set titles, labels, etc here for each subplot\n",
    "            ax[i].set_xlabel(list_of_xlabels[i])\n",
    "        plt.tight_layout()\n",
    "        "
   ]
  },
  {
   "cell_type": "code",
   "execution_count": 265,
   "metadata": {},
   "outputs": [
    {
     "data": {
      "image/png": "[encoded data removed]",
      "text/plain": [
       "<Figure size 864x432 with 4 Axes>"
      ]
     },
     "metadata": {},
     "output_type": "display_data"
    }
   ],
   "source": [
    "columns_list = ['act_2017_participation', 'sat_2017_participation', 'act_2018_participation', 'sat_2018_participation']\n",
    "subplot_histograms(test_data, columns_list, [\"Histogram of \" + column for column in columns_list], columns_list)"
   ]
  },
  {
   "cell_type": "code",
   "execution_count": 159,
   "metadata": {},
   "outputs": [
    {
     "data": {
      "text/html": [
       "<div>\n",
       "<style scoped>\n",
       "    .dataframe tbody tr th:only-of-type {\n",
       "        vertical-align: middle;\n",
       "    }\n",
       "\n",
       "    .dataframe tbody tr th {\n",
       "        vertical-align: top;\n",
       "    }\n",
       "\n",
       "    .dataframe thead th {\n",
       "        text-align: right;\n",
       "    }\n",
       "</style>\n",
       "<table border=\"1\" class=\"dataframe\">\n",
       "  <thead>\n",
       "    <tr style=\"text-align: right;\">\n",
       "      <th></th>\n",
       "      <th>state</th>\n",
       "      <th>act_2017_participation</th>\n",
       "      <th>act_2017_english</th>\n",
       "      <th>act_2017_math</th>\n",
       "      <th>act_2017_reading</th>\n",
       "      <th>act_2017_science</th>\n",
       "      <th>act_2017_composite</th>\n",
       "      <th>sat_2017_participation</th>\n",
       "      <th>sat_2017_reading_writing</th>\n",
       "      <th>sat_2017_math</th>\n",
       "      <th>sat_2017_total</th>\n",
       "      <th>act_2018_participation</th>\n",
       "      <th>act_2018_composite</th>\n",
       "      <th>sat_2018_participation</th>\n",
       "      <th>sat_2018_reading_writing</th>\n",
       "      <th>sat_2018_math</th>\n",
       "      <th>sat_2018_total</th>\n",
       "    </tr>\n",
       "  </thead>\n",
       "  <tbody>\n",
       "    <tr>\n",
       "      <th>0</th>\n",
       "      <td>Alabama</td>\n",
       "      <td>100.0</td>\n",
       "      <td>18.9</td>\n",
       "      <td>18.4</td>\n",
       "      <td>19.7</td>\n",
       "      <td>19.4</td>\n",
       "      <td>19.2</td>\n",
       "      <td>38.0</td>\n",
       "      <td>547.0</td>\n",
       "      <td>533.0</td>\n",
       "      <td>1080.0</td>\n",
       "      <td>100.0</td>\n",
       "      <td>19.1</td>\n",
       "      <td>6.0</td>\n",
       "      <td>595.0</td>\n",
       "      <td>571.0</td>\n",
       "      <td>1166.0</td>\n",
       "    </tr>\n",
       "    <tr>\n",
       "      <th>1</th>\n",
       "      <td>Alaska</td>\n",
       "      <td>65.0</td>\n",
       "      <td>18.7</td>\n",
       "      <td>19.8</td>\n",
       "      <td>20.4</td>\n",
       "      <td>19.9</td>\n",
       "      <td>19.8</td>\n",
       "      <td>30.0</td>\n",
       "      <td>563.0</td>\n",
       "      <td>553.0</td>\n",
       "      <td>1116.0</td>\n",
       "      <td>33.0</td>\n",
       "      <td>20.8</td>\n",
       "      <td>43.0</td>\n",
       "      <td>562.0</td>\n",
       "      <td>544.0</td>\n",
       "      <td>1106.0</td>\n",
       "    </tr>\n",
       "    <tr>\n",
       "      <th>2</th>\n",
       "      <td>Arizona</td>\n",
       "      <td>62.0</td>\n",
       "      <td>18.6</td>\n",
       "      <td>19.8</td>\n",
       "      <td>20.1</td>\n",
       "      <td>19.8</td>\n",
       "      <td>19.7</td>\n",
       "      <td>3.0</td>\n",
       "      <td>614.0</td>\n",
       "      <td>594.0</td>\n",
       "      <td>1208.0</td>\n",
       "      <td>66.0</td>\n",
       "      <td>19.2</td>\n",
       "      <td>29.0</td>\n",
       "      <td>577.0</td>\n",
       "      <td>572.0</td>\n",
       "      <td>1149.0</td>\n",
       "    </tr>\n",
       "    <tr>\n",
       "      <th>3</th>\n",
       "      <td>Arkansas</td>\n",
       "      <td>100.0</td>\n",
       "      <td>18.9</td>\n",
       "      <td>19.0</td>\n",
       "      <td>19.7</td>\n",
       "      <td>19.5</td>\n",
       "      <td>19.4</td>\n",
       "      <td>53.0</td>\n",
       "      <td>531.0</td>\n",
       "      <td>524.0</td>\n",
       "      <td>1055.0</td>\n",
       "      <td>100.0</td>\n",
       "      <td>19.4</td>\n",
       "      <td>5.0</td>\n",
       "      <td>592.0</td>\n",
       "      <td>576.0</td>\n",
       "      <td>1169.0</td>\n",
       "    </tr>\n",
       "    <tr>\n",
       "      <th>4</th>\n",
       "      <td>California</td>\n",
       "      <td>31.0</td>\n",
       "      <td>22.5</td>\n",
       "      <td>22.7</td>\n",
       "      <td>23.1</td>\n",
       "      <td>22.2</td>\n",
       "      <td>22.8</td>\n",
       "      <td>11.0</td>\n",
       "      <td>606.0</td>\n",
       "      <td>595.0</td>\n",
       "      <td>1201.0</td>\n",
       "      <td>27.0</td>\n",
       "      <td>22.7</td>\n",
       "      <td>60.0</td>\n",
       "      <td>540.0</td>\n",
       "      <td>536.0</td>\n",
       "      <td>1076.0</td>\n",
       "    </tr>\n",
       "  </tbody>\n",
       "</table>\n",
       "</div>"
      ],
      "text/plain": [
       "        state  act_2017_participation  act_2017_english  act_2017_math  \\\n",
       "0     Alabama                   100.0              18.9           18.4   \n",
       "1      Alaska                    65.0              18.7           19.8   \n",
       "2     Arizona                    62.0              18.6           19.8   \n",
       "3    Arkansas                   100.0              18.9           19.0   \n",
       "4  California                    31.0              22.5           22.7   \n",
       "\n",
       "   act_2017_reading  act_2017_science  act_2017_composite  \\\n",
       "0              19.7              19.4                19.2   \n",
       "1              20.4              19.9                19.8   \n",
       "2              20.1              19.8                19.7   \n",
       "3              19.7              19.5                19.4   \n",
       "4              23.1              22.2                22.8   \n",
       "\n",
       "   sat_2017_participation  sat_2017_reading_writing  sat_2017_math  \\\n",
       "0                    38.0                     547.0          533.0   \n",
       "1                    30.0                     563.0          553.0   \n",
       "2                     3.0                     614.0          594.0   \n",
       "3                    53.0                     531.0          524.0   \n",
       "4                    11.0                     606.0          595.0   \n",
       "\n",
       "   sat_2017_total  act_2018_participation  act_2018_composite  \\\n",
       "0          1080.0                   100.0                19.1   \n",
       "1          1116.0                    33.0                20.8   \n",
       "2          1208.0                    66.0                19.2   \n",
       "3          1055.0                   100.0                19.4   \n",
       "4          1201.0                    27.0                22.7   \n",
       "\n",
       "   sat_2018_participation  sat_2018_reading_writing  sat_2018_math  \\\n",
       "0                     6.0                     595.0          571.0   \n",
       "1                    43.0                     562.0          544.0   \n",
       "2                    29.0                     577.0          572.0   \n",
       "3                     5.0                     592.0          576.0   \n",
       "4                    60.0                     540.0          536.0   \n",
       "\n",
       "   sat_2018_total  \n",
       "0          1166.0  \n",
       "1          1106.0  \n",
       "2          1149.0  \n",
       "3          1169.0  \n",
       "4          1076.0  "
      ]
     },
     "execution_count": 159,
     "metadata": {},
     "output_type": "execute_result"
    }
   ],
   "source": [
    "test_data.head()"
   ]
  },
  {
   "cell_type": "markdown",
   "metadata": {},
   "source": [
    "#### Plot and interpret scatter plots\n",
    "\n",
    "For each of the following:\n",
    "- SAT vs. ACT math scores for 2017\n",
    "- SAT vs. ACT verbal/reading scores for 2017\n",
    "- SAT vs. ACT total/composite scores for 2017\n",
    "- Total scores for SAT 2017 vs. 2018\n",
    "- Composite scores for ACT 2017 vs. 2018\n",
    "\n",
    "Plot the two variables against each other using matplotlib or Seaborn\n",
    "\n",
    "Your plots should show:\n",
    "- Two clearly labeled axes\n",
    "- A proper title\n",
    "- Using colors and symbols that are clear and unmistakable\n",
    "\n",
    "**Feel free to write a custom function, and subplot if you'd like.** Functions save both time and space.\n"
   ]
  },
  {
   "cell_type": "markdown",
   "metadata": {},
   "source": [
    "**SAT vs ACT math scores for 2017:**\n",
    "\n",
    "ACT Math Scores seem to be consistantly higher than SAT Math Scores for 2017"
   ]
  },
  {
   "cell_type": "code",
   "execution_count": 167,
   "metadata": {},
   "outputs": [
    {
     "data": {
      "image/png": "[encoded data removed]",
      "text/plain": [
       "<Figure size 720x648 with 1 Axes>"
      ]
     },
     "metadata": {},
     "output_type": "display_data"
    }
   ],
   "source": [
    "# 2017 SAT vs ACT MATH SCORES\n",
    "plt.figure(figsize=(10, 9))\n",
    "\n",
    "# Create scatterplot of high prices versus volume.\n",
    "plt.scatter(test_data['act_2017_math'],\n",
    "           test_data['sat_2017_math'],\n",
    "            alpha=0.7,\n",
    "            s=10\n",
    "           )\n",
    "\n",
    "plt.title(\"2017 SAT vs ACT MATH SCORES\", fontsize = 20)\n",
    "plt.ylabel(\"ACT Math 2017 Score\", fontsize = 20)\n",
    "plt.xlabel(\"SAT Math 2017 Score\", fontsize = 20);"
   ]
  },
  {
   "cell_type": "markdown",
   "metadata": {},
   "source": [
    "**SAT vs. ACT verbal/reading scores for 2017**\n",
    "\n",
    "SAT vs. ACT total/composite scores for 2017"
   ]
  },
  {
   "cell_type": "code",
   "execution_count": 159,
   "metadata": {},
   "outputs": [
    {
     "data": {
      "image/png": "[encoded data removed]",
      "text/plain": [
       "<Figure size 720x648 with 1 Axes>"
      ]
     },
     "metadata": {
      "needs_background": "light"
     },
     "output_type": "display_data"
    }
   ],
   "source": [
    "# 2017 SAT vs ACT Reading Scores\n",
    "plt.figure(figsize=(10, 9))\n",
    "\n",
    "# Create scatterplot of high prices versus volume.\n",
    "plt.scatter(test_data['act_2017_reading'],\n",
    "           test_data['sat_2017_reading_writing'],\n",
    "            alpha=0.7,\n",
    "            s=10\n",
    "           )\n",
    "\n",
    "plt.title(\"2017 SAT vs ACT Reading Scores\", fontsize = 20)\n",
    "plt.ylabel(\"ACT Reading 2017 Score\", fontsize = 20)\n",
    "plt.xlabel(\"SAT Reading/Writing 2017 Score\", fontsize = 20);"
   ]
  },
  {
   "cell_type": "markdown",
   "metadata": {},
   "source": [
    "**SAT vs. ACT total/composite scores for 2017**\n",
    "\n",
    "ACT Composite scores are consistantly higher than SAT Total scores."
   ]
  },
  {
   "cell_type": "code",
   "execution_count": 161,
   "metadata": {},
   "outputs": [
    {
     "data": {
      "image/png": "[encoded data removed]",
      "text/plain": [
       "<Figure size 720x648 with 1 Axes>"
      ]
     },
     "metadata": {
      "needs_background": "light"
     },
     "output_type": "display_data"
    }
   ],
   "source": [
    "# 2017 SAT vs ACT Total SCORES\n",
    "plt.figure(figsize=(10, 9))\n",
    "\n",
    "# Create scatterplot of high prices versus volume.\n",
    "plt.scatter(test_data['act_2017_composite'],\n",
    "           test_data['sat_2017_total'],\n",
    "            alpha=0.7,\n",
    "            s=10\n",
    "           )\n",
    "\n",
    "plt.title(\"2017 SAT vs ACT Total SCORES\", fontsize = 20)\n",
    "plt.ylabel(\"ACT Total 2017 Score\", fontsize = 20)\n",
    "plt.xlabel(\"SAT Composite 2017 Score\", fontsize = 20);"
   ]
  },
  {
   "cell_type": "markdown",
   "metadata": {},
   "source": [
    "**2017 SAT vs SAT 2018 Total Scores**\n",
    "\n",
    "There are interesting outliners in the plot that should be investigated."
   ]
  },
  {
   "cell_type": "code",
   "execution_count": 171,
   "metadata": {},
   "outputs": [
    {
     "data": {
      "image/png": "[encoded data removed]",
      "text/plain": [
       "<Figure size 720x648 with 1 Axes>"
      ]
     },
     "metadata": {},
     "output_type": "display_data"
    }
   ],
   "source": [
    "# 2017 SAT vs SAT 2018 Total Scores\n",
    "plt.figure(figsize=(10, 9))\n",
    "\n",
    "# Create scatterplot of high prices versus volume.\n",
    "plt.scatter(test_data['sat_2017_total'],\n",
    "           test_data['sat_2018_total'],\n",
    "            alpha=0.7,\n",
    "            s=10\n",
    "           )\n",
    "\n",
    "plt.title(\"2017 SAT vs SAT 2018 Total Scores\", fontsize = 20)\n",
    "plt.ylabel(\"SAT Total 2017 Score\", fontsize = 20)\n",
    "plt.xlabel(\"SAT Total 2018 Score\", fontsize = 20);"
   ]
  },
  {
   "cell_type": "markdown",
   "metadata": {},
   "source": [
    "**Composite scores for ACT 2017 vs. 2018**\n",
    "\n",
    "There are less outliers in the ACT data than there is in the SAT data"
   ]
  },
  {
   "cell_type": "code",
   "execution_count": 175,
   "metadata": {},
   "outputs": [
    {
     "data": {
      "image/png": "[encoded data removed]",
      "text/plain": [
       "<Figure size 720x648 with 1 Axes>"
      ]
     },
     "metadata": {},
     "output_type": "display_data"
    }
   ],
   "source": [
    "# Establish the size of the figure.\n",
    "plt.figure(figsize=(10, 9))\n",
    "\n",
    "# Create scatterplot of high prices versus volume.\n",
    "plt.scatter(test_data['act_2017_composite'],\n",
    "           test_data['act_2018_composite'],\n",
    "            alpha=0.7,\n",
    "            s=10\n",
    "           )\n",
    "\n",
    "plt.title(\"2017 ACT vs ACT 2018 Composite Scores\", fontsize = 20)\n",
    "plt.ylabel(\"ACT Total 2017 Score\", fontsize = 20)\n",
    "plt.xlabel(\"ACT Total 2018 Score\", fontsize = 20);"
   ]
  },
  {
   "cell_type": "markdown",
   "metadata": {},
   "source": [
    "#### Plot and interpret boxplots\n",
    "\n",
    "For each numeric variable in the dataframe create a boxplot using Seaborn. Boxplots demonstrate central tendency and spread in variables. In a certain sense, these are somewhat redundant with histograms, but you may be better able to identify clear outliers or differences in IQR, etc.\n",
    "\n",
    "Multiple values can be plotted to a single boxplot as long as they are of the same relative scale (meaning they have similar min/max values).\n",
    "\n",
    "Each boxplot should:\n",
    "- Only include variables of a similar scale\n",
    "- Have clear labels for each variable\n",
    "- Have appropriate titles and labels"
   ]
  },
  {
   "cell_type": "code",
   "execution_count": 166,
   "metadata": {},
   "outputs": [
    {
     "data": {
      "text/plain": [
       "Text(0.5, 1.0, 'ACT 2017 Math Box Plot')"
      ]
     },
     "execution_count": 166,
     "metadata": {},
     "output_type": "execute_result"
    },
    {
     "data": {
      "image/png": "[encoded data removed]",
      "text/plain": [
       "<Figure size 432x288 with 1 Axes>"
      ]
     },
     "metadata": {
      "needs_background": "light"
     },
     "output_type": "display_data"
    }
   ],
   "source": [
    "sns.boxplot(test_data['act_2017_math'], orient = 'v');\n",
    "plt.title(\"ACT 2017 Math Box Plot\", fontsize = 20)"
   ]
  },
  {
   "cell_type": "code",
   "execution_count": 167,
   "metadata": {},
   "outputs": [
    {
     "data": {
      "text/plain": [
       "Text(0.5, 1.0, 'ACT 2018 Participation Box Plot')"
      ]
     },
     "execution_count": 167,
     "metadata": {},
     "output_type": "execute_result"
    },
    {
     "data": {
      "image/png": "[encoded data removed]",
      "text/plain": [
       "<Figure size 432x288 with 1 Axes>"
      ]
     },
     "metadata": {
      "needs_background": "light"
     },
     "output_type": "display_data"
    }
   ],
   "source": [
    "sns.boxplot(test_data['act_2018_participation'], orient = 'v');\n",
    "plt.title(\"ACT 2018 Participation Box Plot\", fontsize = 20)"
   ]
  },
  {
   "cell_type": "markdown",
   "metadata": {},
   "source": [
    "#### Feel free to do additional plots below\n",
    "*(do research and choose your own chart types & variables)*\n",
    "\n",
    "Are there any additional trends or relationships you haven't explored? Was there something interesting you saw that you'd like to dive further into? It's likely that there are a few more plots you might want to generate to support your narrative and recommendations that you are building toward. **As always, make sure you're interpreting your plots as you go**."
   ]
  },
  {
   "cell_type": "code",
   "execution_count": null,
   "metadata": {},
   "outputs": [],
   "source": []
  },
  {
   "cell_type": "markdown",
   "metadata": {},
   "source": [
    "#### (Optional): Using Tableau, create a choropleth map for each variable using a map of the US. \n",
    "\n",
    "Save this plot as an image file in an images directory, provide a relative path, and insert the image into notebook in markdown."
   ]
  },
  {
   "cell_type": "code",
   "execution_count": null,
   "metadata": {},
   "outputs": [],
   "source": []
  },
  {
   "cell_type": "markdown",
   "metadata": {},
   "source": [
    "## Outside Research"
   ]
  },
  {
   "cell_type": "markdown",
   "metadata": {},
   "source": [
    "Based upon your observations, choose **three** states that demonstrate interesting trends in their SAT and/or ACT participation rates. Spend some time doing outside research on state policies that might influence these rates, and summarize your findings below. **Feel free to go back and create new plots that highlight these states of interest**. If you bring in any outside tables or charts, make sure you are explicit about having borrowed them. If you quote any text, make sure that it renders as being quoted. (Make sure that you cite your sources -- check with you local instructor for citation preferences)."
   ]
  },
  {
   "cell_type": "code",
   "execution_count": null,
   "metadata": {},
   "outputs": [],
   "source": []
  },
  {
   "cell_type": "markdown",
   "metadata": {},
   "source": [
    "## Conclusions and Recommendations"
   ]
  },
  {
   "cell_type": "markdown",
   "metadata": {},
   "source": [
    "Based on your exploration of the data, what are you key takeaways and recommendations? Choose one state with a lower participation rate and provide a suggestion for how the College Board might increase participation amongst graduating seniors in this state. Are there additional data you desire that would better inform your investigations?"
   ]
  },
  {
   "cell_type": "code",
   "execution_count": null,
   "metadata": {},
   "outputs": [],
   "source": []
  },
  {
   "cell_type": "markdown",
   "metadata": {},
   "source": [
    "## Bonus: Descriptive and Inferential Statistics"
   ]
  },
  {
   "cell_type": "markdown",
   "metadata": {},
   "source": [
    "#### Summarizing Distributions\n",
    "\n",
    "Above, we used pandas `describe` to provide quick summary statistics of our numeric columns. We also demonstrated many visual relationships.\n",
    "\n",
    "As data scientists, having a complete understanding of data is imperative prior to modeling.\n",
    "\n",
    "While we will continue to build our analytic tools, we know that measures of *central tendency*, *spread*, and *shape/skewness* provide a quick summary of distributions.\n",
    "\n",
    "For each variable in your data, summarize the underlying distributions (in words & statistics)\n",
    " - Be thorough in your verbal description of these distributions.\n",
    " - Be sure to back up these summaries with statistics."
   ]
  },
  {
   "cell_type": "markdown",
   "metadata": {},
   "source": [
    "Answers:"
   ]
  },
  {
   "cell_type": "markdown",
   "metadata": {},
   "source": [
    "#### We generally assuming that data we sample from a population will be normally distributed. Do we observe this trend?"
   ]
  },
  {
   "cell_type": "markdown",
   "metadata": {},
   "source": [
    "Answer:"
   ]
  },
  {
   "cell_type": "markdown",
   "metadata": {},
   "source": [
    "Does This Assumption Hold for:\n",
    "    - Math\n",
    "    - Reading\n",
    "    - Rates\n",
    "Explain your answers for each distribution and how you think this will affect estimates made from these data."
   ]
  },
  {
   "cell_type": "markdown",
   "metadata": {},
   "source": [
    "Answer:"
   ]
  },
  {
   "cell_type": "markdown",
   "metadata": {},
   "source": [
    "#### Estimate Limits of Data\n",
    "\n",
    "Suppose we only seek to understand the relationship between SAT and ACT participation rates in 2017. \n",
    "\n",
    "##### Does it make sense to conduct statistical inference given these data specifically? \n",
    "\n",
    "Why or why not?\n",
    "\n",
    "*(think about granularity, aggregation, the relationships between populations size & rates...consider the actually populations these data describe in answering this question)*"
   ]
  },
  {
   "cell_type": "markdown",
   "metadata": {},
   "source": [
    "Answer:"
   ]
  },
  {
   "cell_type": "markdown",
   "metadata": {},
   "source": [
    "##### Is it appropriate to compare *these* specific SAT and ACT math scores? \n",
    "\n",
    "Why or why not?"
   ]
  },
  {
   "cell_type": "markdown",
   "metadata": {},
   "source": [
    "Answer:"
   ]
  },
  {
   "cell_type": "markdown",
   "metadata": {},
   "source": [
    "#### Statistical Evaluation of Distributions \n",
    "\n",
    "**If you feel it's appropriate**, using methods we discussed in class, run hypothesis tests to compare variables of interest in our dataset. "
   ]
  },
  {
   "cell_type": "code",
   "execution_count": null,
   "metadata": {},
   "outputs": [],
   "source": [
    "# Code:"
   ]
  }
 ],
 "metadata": {
  "anaconda-cloud": {},
  "kernelspec": {
   "display_name": "Python 3",
   "language": "python",
   "name": "python3"
  },
  "language_info": {
   "codemirror_mode": {
    "name": "ipython",
    "version": 3
   },
   "file_extension": ".py",
   "mimetype": "text/x-python",
   "name": "python",
   "nbconvert_exporter": "python",
   "pygments_lexer": "ipython3",
   "version": "3.7.6"
  }
 },
 "nbformat": 4,
 "nbformat_minor": 4
}
